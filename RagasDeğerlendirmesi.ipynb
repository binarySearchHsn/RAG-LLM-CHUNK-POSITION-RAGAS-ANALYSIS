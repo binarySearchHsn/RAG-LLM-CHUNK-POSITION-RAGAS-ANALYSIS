{
 "cells": [
  {
   "cell_type": "code",
   "execution_count": 1,
   "metadata": {},
   "outputs": [
    {
     "name": "stderr",
     "output_type": "stream",
     "text": [
      "c:\\Users\\gorke\\anaconda3\\envs\\odevler\\Lib\\site-packages\\tqdm\\auto.py:21: TqdmWarning: IProgress not found. Please update jupyter and ipywidgets. See https://ipywidgets.readthedocs.io/en/stable/user_install.html\n",
      "  from .autonotebook import tqdm as notebook_tqdm\n"
     ]
    }
   ],
   "source": [
    "from ragas.metrics import (\n",
    "    answer_relevancy,\n",
    "    faithfulness,\n",
    "    context_recall,\n",
    "    context_precision,\n",
    "    answer_correctness\n",
    ")\n",
    "from ragas import evaluate"
   ]
  },
  {
   "cell_type": "code",
   "execution_count": 89,
   "metadata": {},
   "outputs": [],
   "source": [
    "import os\n",
    "os.environ[\"OPENAI_API_KEY\"] = \"API-KEY\""
   ]
  },
  {
   "cell_type": "code",
   "execution_count": 90,
   "metadata": {},
   "outputs": [],
   "source": [
    "from ragas.llms import LangchainLLMWrapper\n",
    "from ragas.embeddings import LangchainEmbeddingsWrapper\n",
    "from langchain_openai import ChatOpenAI\n",
    "from langchain_openai import OpenAIEmbeddings\n",
    "evaluator_llm = LangchainLLMWrapper(ChatOpenAI(model=\"gpt-4o-mini\"))\n",
    "#evaluator_llm = LangchainLLMWrapper(ChatOpenAI(model=\"gpt-3.5-turbo-0125\"))\n",
    "evaluator_embeddings = LangchainEmbeddingsWrapper(OpenAIEmbeddings())\n",
    "from datasets import Dataset"
   ]
  },
  {
   "cell_type": "code",
   "execution_count": 4,
   "metadata": {},
   "outputs": [],
   "source": [
    "import pandas as pd\n",
    "\n",
    "\n",
    "result_names_gemma=[\"cevap-1.txt\",\"cevap-2.txt\",\"cevap-3.txt\",\"cevap-4.txt\",\"cevap-5.txt\",\"cevap-6.txt\",\"cevap-7.txt\",\"cevap-8.txt\",\"cevap-9.txt\",\"cevap-10.txt\",\"cevap-11.txt\",\"cevap-12.txt\",\"cevap-13.txt\",\"cevap-14.txt\",\"cevap-15.txt\"]\n",
    "result_names_cosmos=[\"cevap-1-cosmos.txt\",\"cevap-2-cosmos.txt\",\"cevap-3-cosmos.txt\",\"cevap-4-cosmos.txt\",\"cevap-5-cosmos.txt\",\"cevap-6-cosmos.txt\",\"cevap-7-cosmos.txt\",\"cevap-8-cosmos.txt\",\"cevap-9-cosmos.txt\",\"cevap-10-cosmos.txt\",\"cevap-11-cosmos.txt\",\"cevap-12-cosmos.txt\",\"cevap-13-cosmos.txt\",\"cevap-14-cosmos.txt\",\"cevap-15-cosmos.txt\"]\n",
    "\n",
    "result_names_gemma_forA=[\"cevap-SoruA1Chunk.txt\",\"cevap-SoruA5Chunk.txt\",\"cevap-SoruA10Chunk.txt\",\"cevap-SoruA15Chunk.txt\"]\n",
    "result_names_cosmos_forA=[\"cevap-SoruA1Chunk-cosmos.txt\",\"cevap-SoruA5Chunk-cosmos.txt\",\"cevap-SoruA10Chunk-cosmos.txt\",\"cevap-SoruA15Chunk-cosmos.txt\"]\n",
    "\n",
    "input_names_df=['b_icin_df_1.csv', 'b_icin_df_2.csv', 'b_icin_df_3.csv', 'b_icin_df_4.csv', 'b_icin_df_5.csv', 'b_icin_df_6.csv', 'b_icin_df_7.csv', 'b_icin_df_8.csv', 'b_icin_df_9.csv', 'b_icin_df_10.csv', 'b_icin_df_11.csv', 'b_icin_df_12.csv', 'b_icin_df_13.csv', 'b_icin_df_14.csv', 'b_icin_df_15.csv']\n",
    "input_names_df_forA=[\"SoruA-1chunk_df.csv\",\"SoruA-5chunk_df.csv\",\"SoruA-10chunk_df.csv\",\"SoruA-15chunk_df.csv\"]\n",
    "\n",
    "output_names_gemma=[\"ragas-gemma-1.csv\",\"ragas-gemma-2.csv\",\"ragas-gemma-3.csv\",\"ragas-gemma-4.csv\",\"ragas-gemma-5.csv\",\"ragas-gemma-6.csv\",\"ragas-gemma-7.csv\",\"ragas-gemma-8.csv\",\"ragas-gemma-9.csv\",\"ragas-gemma-10.csv\",\"ragas-gemma-11.csv\",\"ragas-gemma-12.csv\",\"ragas-gemma-13.csv\",\"ragas-gemma-14.csv\",\"ragas-gemma-15.csv\"]\n",
    "output_names_gemma_forA=[\"ragas-gemma-1Chunk-forA.csv\",\"ragas-gemma-5Chunk-forA.csv\",\"ragas-gemma-10Chunk-forA.csv\",\"ragas-gemma-15Chunk-forA.csv\"]\n",
    "\n",
    "output_names_cosmos=[\"ragas-cosmos-1.csv\",\"ragas-cosmos-2.csv\",\"ragas-cosmos-3.csv\",\"ragas-cosmos-4.csv\",\"ragas-cosmos-5.csv\",\"ragas-cosmos-6.csv\",\"ragas-cosmos-7.csv\",\"ragas-cosmos-8.csv\",\"ragas-cosmos-9.csv\",\"ragas-cosmos-10.csv\",\"ragas-cosmos-11.csv\",\"ragas-cosmos-12.csv\",\"ragas-cosmos-13.csv\",\"ragas-cosmos-14.csv\",\"ragas-cosmos-15.csv\"]\n",
    "output_names_cosmos_forA=[\"ragas-cosmos-1Chunk-forA.csv\",\"ragas-cosmos-5Chunk-forA.csv\",\"ragas-cosmos-10Chunk-forA.csv\",\"ragas-cosmos-15Chunk-forA.csv\"]\n"
   ]
  },
  {
   "cell_type": "code",
   "execution_count": 5,
   "metadata": {},
   "outputs": [],
   "source": [
    "resultNamesList=[result_names_gemma,result_names_cosmos,result_names_gemma_forA,result_names_cosmos_forA]\n",
    "inputNamesList=[input_names_df,input_names_df,input_names_df_forA,input_names_df_forA]\n",
    "outputNamesList=[output_names_gemma,output_names_cosmos,output_names_gemma_forA,output_names_cosmos_forA]\n",
    "\n",
    "for j in range(len(resultNamesList)):\n",
    "    for i in range(len(resultNamesList[j])):\n",
    "        with open(resultNamesList[j][i], 'r', encoding='utf-8') as file:\n",
    "            content = file.read()\n",
    "\n",
    "        df_input = pd.read_csv(inputNamesList[j][i])\n",
    "\n",
    "        splits = content.split('+++---+++')\n",
    "\n",
    "        data = {'gpt_answer': [part.strip() for part in splits if part.strip()]} \n",
    "\n",
    "        df = pd.DataFrame(data)\n",
    "\n",
    "        df_birlestirilmis = pd.concat([df_input, df], axis=1)\n",
    "\n",
    "        df_birlestirilmis  = df_birlestirilmis.rename(columns={'template': 'contexts', 'gpt_answer': 'answer', 'correct_answer': 'reference','soru': 'question' })\n",
    "\n",
    "        df_birlestirilmis.to_csv(outputNamesList[j][i], index=False)\n"
   ]
  },
  {
   "cell_type": "code",
   "execution_count": 7,
   "metadata": {},
   "outputs": [
    {
     "data": {
      "text/html": [
       "<div>\n",
       "<style scoped>\n",
       "    .dataframe tbody tr th:only-of-type {\n",
       "        vertical-align: middle;\n",
       "    }\n",
       "\n",
       "    .dataframe tbody tr th {\n",
       "        vertical-align: top;\n",
       "    }\n",
       "\n",
       "    .dataframe thead th {\n",
       "        text-align: right;\n",
       "    }\n",
       "</style>\n",
       "<table border=\"1\" class=\"dataframe\">\n",
       "  <thead>\n",
       "    <tr style=\"text-align: right;\">\n",
       "      <th></th>\n",
       "      <th>contexts</th>\n",
       "      <th>reference</th>\n",
       "      <th>question</th>\n",
       "      <th>answer</th>\n",
       "    </tr>\n",
       "  </thead>\n",
       "  <tbody>\n",
       "    <tr>\n",
       "      <th>0</th>\n",
       "      <td>Aza - Türk, Altay, Yakut, Çuvaş ve Moğol mitol...</td>\n",
       "      <td>ChatGPT'nin ilk versiyonu GPT-3 tabanlıydı. Da...</td>\n",
       "      <td>Verilen soruyu yalnızca metne bakarak cevapla....</td>\n",
       "      <td>Verilen metinde ChatGPT ile ilgili bilgi bulun...</td>\n",
       "    </tr>\n",
       "    <tr>\n",
       "      <th>1</th>\n",
       "      <td>İskandinav Mitolojisinde, ''Hindarfjall'' ya d...</td>\n",
       "      <td>Çünkü varyans, tek bir rassal değişkenin değer...</td>\n",
       "      <td>Verilen soruyu yalnızca metne bakarak cevapla....</td>\n",
       "      <td>Kovaryans matrisi, skaler-değerli rassal değiş...</td>\n",
       "    </tr>\n",
       "    <tr>\n",
       "      <th>2</th>\n",
       "      <td>Andrew Van Dean Willgoos (ö. 1 Mart 1949) Amer...</td>\n",
       "      <td>Hayır, aile terapisi sadece sorunlu aileler iç...</td>\n",
       "      <td>Verilen soruyu yalnızca metne bakarak cevapla....</td>\n",
       "      <td>Aile terapisi, aile üyelerini ilgilendiren sor...</td>\n",
       "    </tr>\n",
       "    <tr>\n",
       "      <th>3</th>\n",
       "      <td>Reichsbank (Almanca telaffuz: [ʁaɪçsˌbank]  ( ...</td>\n",
       "      <td>Yazıda Stalag VIII-E kampında kaç Sovyet savaş...</td>\n",
       "      <td>Verilen soruyu yalnızca metne bakarak cevapla....</td>\n",
       "      <td>Stalag VIII-E veya Stalag 308 kampında, Nazile...</td>\n",
       "    </tr>\n",
       "    <tr>\n",
       "      <th>4</th>\n",
       "      <td>Kedi Blaze, Kirpi Sonic'in oyun serisinde görü...</td>\n",
       "      <td>And veya ant, Türk ve Moğol kültürlerinde kuts...</td>\n",
       "      <td>Verilen soruyu yalnızca metne bakarak cevapla....</td>\n",
       "      <td>Metinde And veya antın Türk ve Moğol kültürler...</td>\n",
       "    </tr>\n",
       "    <tr>\n",
       "      <th>...</th>\n",
       "      <td>...</td>\n",
       "      <td>...</td>\n",
       "      <td>...</td>\n",
       "      <td>...</td>\n",
       "    </tr>\n",
       "    <tr>\n",
       "      <th>95</th>\n",
       "      <td>Nanomekanik, mekanik biliminin moleküler düzey...</td>\n",
       "      <td>Varantlar ve opsiyonlar her ikisi de dayanak v...</td>\n",
       "      <td>Verilen soruyu yalnızca metne bakarak cevapla....</td>\n",
       "      <td>Verilen metne göre, varantlar menkul kıymetleş...</td>\n",
       "    </tr>\n",
       "    <tr>\n",
       "      <th>96</th>\n",
       "      <td>15 Aquarii, Kova takımyıldızı bölgesinde yakla...</td>\n",
       "      <td>Riparian alanlarının büyüklüğü ve bitki çeşitl...</td>\n",
       "      <td>Verilen soruyu yalnızca metne bakarak cevapla....</td>\n",
       "      <td>Riparian alanların büyüklüğü ve bitki çeşitlil...</td>\n",
       "    </tr>\n",
       "    <tr>\n",
       "      <th>97</th>\n",
       "      <td>Pozitron emisyonu, beta artı bozunması veya kı...</td>\n",
       "      <td>Jean-Jacques Dessalines, Haiti'nin bağımsızlığ...</td>\n",
       "      <td>Verilen soruyu yalnızca metne bakarak cevapla....</td>\n",
       "      <td>Metinde Jean-Jacques Dessalines'in Haiti impar...</td>\n",
       "    </tr>\n",
       "    <tr>\n",
       "      <th>98</th>\n",
       "      <td>Eberhard Rodt (4 Aralık 1895-14 Aralık 1979), ...</td>\n",
       "      <td>Yazıda Mu Scorpii'nin iki yıldız sistemini olu...</td>\n",
       "      <td>Verilen soruyu yalnızca metne bakarak cevapla....</td>\n",
       "      <td>Metinde Mu Scorpii ile ilgili bir bilgi bulunm...</td>\n",
       "    </tr>\n",
       "    <tr>\n",
       "      <th>99</th>\n",
       "      <td>Podzol, iğne yapraklı ormanlarla kaplı, soğuk,...</td>\n",
       "      <td>30×29 mm ifadesi, merminin çapını ve uzunluğun...</td>\n",
       "      <td>Verilen soruyu yalnızca metne bakarak cevapla....</td>\n",
       "      <td>AGS-17 Plamya'nın 30×29 mm kovansız mühimmatı,...</td>\n",
       "    </tr>\n",
       "  </tbody>\n",
       "</table>\n",
       "<p>100 rows × 4 columns</p>\n",
       "</div>"
      ],
      "text/plain": [
       "                                             contexts  \\\n",
       "0   Aza - Türk, Altay, Yakut, Çuvaş ve Moğol mitol...   \n",
       "1   İskandinav Mitolojisinde, ''Hindarfjall'' ya d...   \n",
       "2   Andrew Van Dean Willgoos (ö. 1 Mart 1949) Amer...   \n",
       "3   Reichsbank (Almanca telaffuz: [ʁaɪçsˌbank]  ( ...   \n",
       "4   Kedi Blaze, Kirpi Sonic'in oyun serisinde görü...   \n",
       "..                                                ...   \n",
       "95  Nanomekanik, mekanik biliminin moleküler düzey...   \n",
       "96  15 Aquarii, Kova takımyıldızı bölgesinde yakla...   \n",
       "97  Pozitron emisyonu, beta artı bozunması veya kı...   \n",
       "98  Eberhard Rodt (4 Aralık 1895-14 Aralık 1979), ...   \n",
       "99  Podzol, iğne yapraklı ormanlarla kaplı, soğuk,...   \n",
       "\n",
       "                                            reference  \\\n",
       "0   ChatGPT'nin ilk versiyonu GPT-3 tabanlıydı. Da...   \n",
       "1   Çünkü varyans, tek bir rassal değişkenin değer...   \n",
       "2   Hayır, aile terapisi sadece sorunlu aileler iç...   \n",
       "3   Yazıda Stalag VIII-E kampında kaç Sovyet savaş...   \n",
       "4   And veya ant, Türk ve Moğol kültürlerinde kuts...   \n",
       "..                                                ...   \n",
       "95  Varantlar ve opsiyonlar her ikisi de dayanak v...   \n",
       "96  Riparian alanlarının büyüklüğü ve bitki çeşitl...   \n",
       "97  Jean-Jacques Dessalines, Haiti'nin bağımsızlığ...   \n",
       "98  Yazıda Mu Scorpii'nin iki yıldız sistemini olu...   \n",
       "99  30×29 mm ifadesi, merminin çapını ve uzunluğun...   \n",
       "\n",
       "                                             question  \\\n",
       "0   Verilen soruyu yalnızca metne bakarak cevapla....   \n",
       "1   Verilen soruyu yalnızca metne bakarak cevapla....   \n",
       "2   Verilen soruyu yalnızca metne bakarak cevapla....   \n",
       "3   Verilen soruyu yalnızca metne bakarak cevapla....   \n",
       "4   Verilen soruyu yalnızca metne bakarak cevapla....   \n",
       "..                                                ...   \n",
       "95  Verilen soruyu yalnızca metne bakarak cevapla....   \n",
       "96  Verilen soruyu yalnızca metne bakarak cevapla....   \n",
       "97  Verilen soruyu yalnızca metne bakarak cevapla....   \n",
       "98  Verilen soruyu yalnızca metne bakarak cevapla....   \n",
       "99  Verilen soruyu yalnızca metne bakarak cevapla....   \n",
       "\n",
       "                                               answer  \n",
       "0   Verilen metinde ChatGPT ile ilgili bilgi bulun...  \n",
       "1   Kovaryans matrisi, skaler-değerli rassal değiş...  \n",
       "2   Aile terapisi, aile üyelerini ilgilendiren sor...  \n",
       "3   Stalag VIII-E veya Stalag 308 kampında, Nazile...  \n",
       "4   Metinde And veya antın Türk ve Moğol kültürler...  \n",
       "..                                                ...  \n",
       "95  Verilen metne göre, varantlar menkul kıymetleş...  \n",
       "96  Riparian alanların büyüklüğü ve bitki çeşitlil...  \n",
       "97  Metinde Jean-Jacques Dessalines'in Haiti impar...  \n",
       "98  Metinde Mu Scorpii ile ilgili bir bilgi bulunm...  \n",
       "99  AGS-17 Plamya'nın 30×29 mm kovansız mühimmatı,...  \n",
       "\n",
       "[100 rows x 4 columns]"
      ]
     },
     "execution_count": 7,
     "metadata": {},
     "output_type": "execute_result"
    }
   ],
   "source": [
    "df_birlestirilmis"
   ]
  },
  {
   "cell_type": "code",
   "execution_count": 15,
   "metadata": {},
   "outputs": [],
   "source": [
    "model_list=[\"cosmos-dpo\",\"gemma2-9b-it\"]\n",
    "location_A=[\"A-1\",\"A-5\",\"A-10\",\"A-15\"]\n",
    "location_B=[\"B-1\",\"B-2\",\"B-3\",\"B-4\",\"B-5\",\"B-6\",\"B-7\",\"B-8\",\"B-9\",\"B-10\",\"B-11\",\"B-12\",\"B-13\",\"B-14\",\"B-15\"]"
   ]
  },
  {
   "cell_type": "code",
   "execution_count": 25,
   "metadata": {},
   "outputs": [
    {
     "name": "stderr",
     "output_type": "stream",
     "text": [
      "Evaluating: 100%|██████████| 500/500 [04:04<00:00,  2.04it/s]\n",
      "C:\\Users\\gorke\\AppData\\Local\\Temp\\ipykernel_15516\\2263385819.py:25: FutureWarning: The behavior of DataFrame concatenation with empty or all-NA entries is deprecated. In a future version, this will no longer exclude empty or all-NA columns when determining the result dtypes. To retain the old behavior, exclude the relevant entries before the concat operation.\n",
      "  df_result_cosmos_A = pd.concat([df_result_cosmos_A, yeni_satir], ignore_index=True)\n"
     ]
    },
    {
     "name": "stdout",
     "output_type": "stream",
     "text": [
      "A-1\n",
      "{'context_precision': 0.9300, 'faithfulness': 0.7419, 'answer_correctness': 0.6862, 'answer_relevancy': 0.7104, 'context_recall': 0.6610}\n",
      "\n",
      "\n"
     ]
    },
    {
     "name": "stderr",
     "output_type": "stream",
     "text": [
      "Evaluating: 100%|██████████| 500/500 [04:27<00:00,  1.87it/s]\n"
     ]
    },
    {
     "name": "stdout",
     "output_type": "stream",
     "text": [
      "A-5\n",
      "{'context_precision': 0.9600, 'faithfulness': 0.7739, 'answer_correctness': 0.6303, 'answer_relevancy': 0.6456, 'context_recall': 0.7575}\n",
      "\n",
      "\n"
     ]
    },
    {
     "name": "stderr",
     "output_type": "stream",
     "text": [
      "Evaluating:  50%|█████     | 250/500 [02:39<03:39,  1.14it/s]Exception raised in Job[85]: RateLimitError(Error code: 429 - {'error': {'message': 'Rate limit reached for gpt-4o-mini in organization org-FbpUCtAXbvov8JGEBclsLN1i on tokens per min (TPM): Limit 200000, Used 198675, Requested 2141. Please try again in 244ms. Visit https://platform.openai.com/account/rate-limits to learn more.', 'type': 'tokens', 'param': None, 'code': 'rate_limit_exceeded'}})\n",
      "Evaluating: 100%|██████████| 500/500 [05:47<00:00,  1.44it/s]\n"
     ]
    },
    {
     "name": "stdout",
     "output_type": "stream",
     "text": [
      "A-10\n",
      "{'context_precision': 0.9293, 'faithfulness': 0.8146, 'answer_correctness': 0.6445, 'answer_relevancy': 0.6558, 'context_recall': 0.7550}\n",
      "\n",
      "\n"
     ]
    },
    {
     "name": "stderr",
     "output_type": "stream",
     "text": [
      "Evaluating:  52%|█████▏    | 258/500 [03:10<01:51,  2.17it/s]Exception raised in Job[50]: RateLimitError(Error code: 429 - {'error': {'message': 'Rate limit reached for gpt-4o-mini in organization org-FbpUCtAXbvov8JGEBclsLN1i on tokens per min (TPM): Limit 200000, Used 198620, Requested 2469. Please try again in 326ms. Visit https://platform.openai.com/account/rate-limits to learn more.', 'type': 'tokens', 'param': None, 'code': 'rate_limit_exceeded'}})\n",
      "Evaluating: 100%|██████████| 500/500 [06:50<00:00,  1.22it/s]\n"
     ]
    },
    {
     "name": "stdout",
     "output_type": "stream",
     "text": [
      "A-15\n",
      "{'context_precision': 0.9192, 'faithfulness': 0.7996, 'answer_correctness': 0.6485, 'answer_relevancy': 0.7524, 'context_recall': 0.7733}\n",
      "\n",
      "\n"
     ]
    }
   ],
   "source": [
    "df_result_cosmos_A = pd.DataFrame(columns=[\"model\", \"location\", \"context_precision\",\"faithfulness\",\"answer_correctness\",\"answer_relevancy\",\"context_recall\"])\n",
    "\n",
    "for i in range(len(output_names_cosmos_forA)):\n",
    "    sonuclar = pd.read_csv(output_names_cosmos_forA[i])\n",
    "    sonuclar['contexts'] = sonuclar['contexts'].apply(lambda x: [x])\n",
    "\n",
    "    \n",
    "    dataset = Dataset.from_pandas(sonuclar)\n",
    "    result = evaluate(dataset,\n",
    "                  metrics=[\n",
    "        context_precision,\n",
    "        faithfulness,\n",
    "        answer_correctness,\n",
    "        answer_relevancy,\n",
    "        context_recall],llm=evaluator_llm, embeddings=evaluator_embeddings)\n",
    "    \n",
    "\n",
    "    yeni_satir = pd.DataFrame({'model': [\"cosmos-dpo\"], 'location': [location_A[i]], \n",
    "                           'context_precision': [round(pd.Series(result[\"context_precision\"]).mean(),4)],\n",
    "                           'faithfulness': [round(pd.Series(result[\"faithfulness\"]).mean(),4)],\n",
    "                           'answer_correctness': [round(pd.Series(result[\"answer_correctness\"]).mean(),4)],\n",
    "                           'answer_relevancy': [round(pd.Series(result[\"answer_relevancy\"]).mean(),4)],\n",
    "                           'context_recall': [round(pd.Series(result[\"context_recall\"]).mean(),4)]})\n",
    "\n",
    "    df_result_cosmos_A = pd.concat([df_result_cosmos_A, yeni_satir], ignore_index=True)\n",
    "\n",
    "    result.to_pandas().to_csv(\"RagasResult---\"+\"cosmos-dpo\"+\"-\"+location_A[i]+\".csv\", index=False)\n",
    "\n",
    "    print(location_A[i])\n",
    "    print(result)\n",
    "    print(\"\\n\")\n",
    "\n",
    "df_result_cosmos_A.to_csv(\"OverallResult---\"+\"cosmos-dpo-for-question-A.csv\", index=False)"
   ]
  },
  {
   "cell_type": "code",
   "execution_count": 28,
   "metadata": {},
   "outputs": [
    {
     "name": "stderr",
     "output_type": "stream",
     "text": [
      "Evaluating: 100%|██████████| 400/400 [03:43<00:00,  1.79it/s]\n",
      "C:\\Users\\gorke\\AppData\\Local\\Temp\\ipykernel_15516\\783484724.py:23: FutureWarning: The behavior of DataFrame concatenation with empty or all-NA entries is deprecated. In a future version, this will no longer exclude empty or all-NA columns when determining the result dtypes. To retain the old behavior, exclude the relevant entries before the concat operation.\n",
      "  df_result_gemma_A = pd.concat([df_result_gemma_A, yeni_satir], ignore_index=True)\n"
     ]
    },
    {
     "name": "stdout",
     "output_type": "stream",
     "text": [
      "A-1\n",
      "{'faithfulness': 0.8789, 'answer_correctness': 0.6239, 'answer_relevancy': 0.5958, 'context_recall': 0.7018}\n",
      "\n",
      "\n"
     ]
    },
    {
     "name": "stderr",
     "output_type": "stream",
     "text": [
      "Evaluating: 100%|██████████| 400/400 [04:42<00:00,  1.42it/s]\n"
     ]
    },
    {
     "name": "stdout",
     "output_type": "stream",
     "text": [
      "A-5\n",
      "{'faithfulness': 0.8376, 'answer_correctness': 0.6066, 'answer_relevancy': 0.5854, 'context_recall': 0.7383}\n",
      "\n",
      "\n"
     ]
    },
    {
     "name": "stderr",
     "output_type": "stream",
     "text": [
      "Evaluating: 100%|██████████| 400/400 [04:04<00:00,  1.64it/s]\n"
     ]
    },
    {
     "name": "stdout",
     "output_type": "stream",
     "text": [
      "A-10\n",
      "{'faithfulness': 0.8476, 'answer_correctness': 0.6127, 'answer_relevancy': 0.6021, 'context_recall': 0.7533}\n",
      "\n",
      "\n"
     ]
    },
    {
     "name": "stderr",
     "output_type": "stream",
     "text": [
      "Evaluating:  26%|██▋       | 106/400 [03:02<1:25:12, 17.39s/it]Exception raised in Job[97]: TimeoutError()\n",
      "Evaluating:  27%|██▋       | 107/400 [03:54<2:14:57, 27.64s/it]Exception raised in Job[101]: TimeoutError()\n",
      "Evaluating:  27%|██▋       | 108/400 [03:57<1:37:59, 20.14s/it]Exception raised in Job[104]: TimeoutError()\n",
      "Evaluating:  27%|██▋       | 109/400 [03:58<1:10:16, 14.49s/it]Exception raised in Job[105]: TimeoutError()\n",
      "Evaluating:  28%|██▊       | 110/400 [03:58<49:30, 10.24s/it]  Exception raised in Job[106]: TimeoutError()\n",
      "Evaluating:  28%|██▊       | 111/400 [03:59<36:06,  7.50s/it]Exception raised in Job[108]: TimeoutError()\n",
      "Evaluating:  28%|██▊       | 112/400 [04:00<25:44,  5.36s/it]Exception raised in Job[109]: TimeoutError()\n",
      "Evaluating:  28%|██▊       | 113/400 [04:01<19:32,  4.09s/it]Exception raised in Job[110]: TimeoutError()\n",
      "Evaluating:  28%|██▊       | 114/400 [04:01<14:02,  2.95s/it]Exception raised in Job[111]: TimeoutError()\n",
      "Evaluating:  29%|██▉       | 116/400 [04:01<07:41,  1.63s/it]Exception raised in Job[112]: TimeoutError()\n",
      "Exception raised in Job[114]: TimeoutError()\n",
      "Evaluating:  30%|██▉       | 118/400 [04:04<06:54,  1.47s/it]Exception raised in Job[116]: TimeoutError()\n",
      "Evaluating:  30%|███       | 120/400 [04:36<38:03,  8.16s/it]Exception raised in Job[117]: TimeoutError()\n",
      "Evaluating:  30%|███       | 121/400 [04:57<53:00, 11.40s/it]Exception raised in Job[118]: TimeoutError()\n",
      "Evaluating:  31%|███       | 124/400 [06:01<1:17:45, 16.90s/it]Exception raised in Job[121]: TimeoutError()\n",
      "Evaluating:  32%|███▏      | 126/400 [06:39<1:29:02, 19.50s/it]Exception raised in Job[124]: TimeoutError()\n",
      "Evaluating:  32%|███▏      | 127/400 [06:58<1:27:55, 19.32s/it]Exception raised in Job[125]: TimeoutError()\n",
      "Evaluating:  32%|███▏      | 128/400 [06:58<1:02:02, 13.69s/it]Exception raised in Job[126]: TimeoutError()\n",
      "Evaluating:  32%|███▏      | 129/400 [06:59<44:53,  9.94s/it]  Exception raised in Job[128]: TimeoutError()\n",
      "Evaluating:  32%|███▎      | 130/400 [07:01<33:22,  7.42s/it]Exception raised in Job[129]: TimeoutError()\n",
      "Evaluating:  33%|███▎      | 131/400 [07:01<23:41,  5.29s/it]Exception raised in Job[130]: TimeoutError()\n",
      "Exception raised in Job[132]: TimeoutError()\n",
      "Evaluating:  33%|███▎      | 133/400 [07:01<12:55,  2.91s/it]Exception raised in Job[133]: TimeoutError()\n",
      "Evaluating:  34%|███▎      | 134/400 [07:04<12:20,  2.79s/it]Exception raised in Job[134]: TimeoutError()\n",
      "Evaluating:  34%|███▍      | 135/400 [07:10<16:15,  3.68s/it]Exception raised in Job[135]: TimeoutError()\n",
      "Evaluating:  34%|███▍      | 137/400 [07:38<32:56,  7.51s/it]Exception raised in Job[136]: TimeoutError()\n",
      "Evaluating:  34%|███▍      | 138/400 [07:57<47:16, 10.83s/it]Exception raised in Job[137]: TimeoutError()\n",
      "Evaluating:  35%|███▍      | 139/400 [08:12<15:24,  3.54s/it]\n"
     ]
    },
    {
     "ename": "KeyboardInterrupt",
     "evalue": "",
     "output_type": "error",
     "traceback": [
      "\u001b[1;31m---------------------------------------------------------------------------\u001b[0m",
      "\u001b[1;31mKeyboardInterrupt\u001b[0m                         Traceback (most recent call last)",
      "Cell \u001b[1;32mIn[28], line 9\u001b[0m\n\u001b[0;32m      5\u001b[0m sonuclar[\u001b[38;5;124m'\u001b[39m\u001b[38;5;124mcontexts\u001b[39m\u001b[38;5;124m'\u001b[39m] \u001b[38;5;241m=\u001b[39m sonuclar[\u001b[38;5;124m'\u001b[39m\u001b[38;5;124mcontexts\u001b[39m\u001b[38;5;124m'\u001b[39m]\u001b[38;5;241m.\u001b[39mapply(\u001b[38;5;28;01mlambda\u001b[39;00m x: [x])\n\u001b[0;32m      8\u001b[0m dataset \u001b[38;5;241m=\u001b[39m Dataset\u001b[38;5;241m.\u001b[39mfrom_pandas(sonuclar)\n\u001b[1;32m----> 9\u001b[0m result \u001b[38;5;241m=\u001b[39m \u001b[43mevaluate\u001b[49m\u001b[43m(\u001b[49m\u001b[43mdataset\u001b[49m\u001b[43m,\u001b[49m\n\u001b[0;32m     10\u001b[0m \u001b[43m              \u001b[49m\u001b[43mmetrics\u001b[49m\u001b[38;5;241;43m=\u001b[39;49m\u001b[43m[\u001b[49m\n\u001b[0;32m     11\u001b[0m \u001b[43m    \u001b[49m\u001b[43mfaithfulness\u001b[49m\u001b[43m,\u001b[49m\n\u001b[0;32m     12\u001b[0m \u001b[43m    \u001b[49m\u001b[43manswer_correctness\u001b[49m\u001b[43m,\u001b[49m\n\u001b[0;32m     13\u001b[0m \u001b[43m    \u001b[49m\u001b[43manswer_relevancy\u001b[49m\u001b[43m,\u001b[49m\n\u001b[0;32m     14\u001b[0m \u001b[43m    \u001b[49m\u001b[43mcontext_recall\u001b[49m\u001b[43m]\u001b[49m\u001b[43m,\u001b[49m\u001b[43mllm\u001b[49m\u001b[38;5;241;43m=\u001b[39;49m\u001b[43mevaluator_llm\u001b[49m\u001b[43m,\u001b[49m\u001b[43m \u001b[49m\u001b[43membeddings\u001b[49m\u001b[38;5;241;43m=\u001b[39;49m\u001b[43mevaluator_embeddings\u001b[49m\u001b[43m)\u001b[49m\n\u001b[0;32m     17\u001b[0m yeni_satir \u001b[38;5;241m=\u001b[39m pd\u001b[38;5;241m.\u001b[39mDataFrame({\u001b[38;5;124m'\u001b[39m\u001b[38;5;124mmodel\u001b[39m\u001b[38;5;124m'\u001b[39m: [\u001b[38;5;124m\"\u001b[39m\u001b[38;5;124mgemma2-9b-it\u001b[39m\u001b[38;5;124m\"\u001b[39m], \u001b[38;5;124m'\u001b[39m\u001b[38;5;124mlocation\u001b[39m\u001b[38;5;124m'\u001b[39m: [location_A[i]], \n\u001b[0;32m     18\u001b[0m                        \u001b[38;5;124m'\u001b[39m\u001b[38;5;124mfaithfulness\u001b[39m\u001b[38;5;124m'\u001b[39m: [\u001b[38;5;28mround\u001b[39m(pd\u001b[38;5;241m.\u001b[39mSeries(result[\u001b[38;5;124m\"\u001b[39m\u001b[38;5;124mfaithfulness\u001b[39m\u001b[38;5;124m\"\u001b[39m])\u001b[38;5;241m.\u001b[39mmean(),\u001b[38;5;241m4\u001b[39m)],\n\u001b[0;32m     19\u001b[0m                        \u001b[38;5;124m'\u001b[39m\u001b[38;5;124manswer_correctness\u001b[39m\u001b[38;5;124m'\u001b[39m: [\u001b[38;5;28mround\u001b[39m(pd\u001b[38;5;241m.\u001b[39mSeries(result[\u001b[38;5;124m\"\u001b[39m\u001b[38;5;124manswer_correctness\u001b[39m\u001b[38;5;124m\"\u001b[39m])\u001b[38;5;241m.\u001b[39mmean(),\u001b[38;5;241m4\u001b[39m)],\n\u001b[0;32m     20\u001b[0m                        \u001b[38;5;124m'\u001b[39m\u001b[38;5;124manswer_relevancy\u001b[39m\u001b[38;5;124m'\u001b[39m: [\u001b[38;5;28mround\u001b[39m(pd\u001b[38;5;241m.\u001b[39mSeries(result[\u001b[38;5;124m\"\u001b[39m\u001b[38;5;124manswer_relevancy\u001b[39m\u001b[38;5;124m\"\u001b[39m])\u001b[38;5;241m.\u001b[39mmean(),\u001b[38;5;241m4\u001b[39m)],\n\u001b[0;32m     21\u001b[0m                        \u001b[38;5;124m'\u001b[39m\u001b[38;5;124mcontext_recall\u001b[39m\u001b[38;5;124m'\u001b[39m: [\u001b[38;5;28mround\u001b[39m(pd\u001b[38;5;241m.\u001b[39mSeries(result[\u001b[38;5;124m\"\u001b[39m\u001b[38;5;124mcontext_recall\u001b[39m\u001b[38;5;124m\"\u001b[39m])\u001b[38;5;241m.\u001b[39mmean(),\u001b[38;5;241m4\u001b[39m)]})\n\u001b[0;32m     23\u001b[0m df_result_gemma_A \u001b[38;5;241m=\u001b[39m pd\u001b[38;5;241m.\u001b[39mconcat([df_result_gemma_A, yeni_satir], ignore_index\u001b[38;5;241m=\u001b[39m\u001b[38;5;28;01mTrue\u001b[39;00m)\n",
      "File \u001b[1;32mc:\\Users\\gorke\\anaconda3\\envs\\odevler\\Lib\\site-packages\\ragas\\_analytics.py:227\u001b[0m, in \u001b[0;36mtrack_was_completed.<locals>.wrapper\u001b[1;34m(*args, **kwargs)\u001b[0m\n\u001b[0;32m    224\u001b[0m \u001b[38;5;129m@wraps\u001b[39m(func)\n\u001b[0;32m    225\u001b[0m \u001b[38;5;28;01mdef\u001b[39;00m \u001b[38;5;21mwrapper\u001b[39m(\u001b[38;5;241m*\u001b[39margs: P\u001b[38;5;241m.\u001b[39margs, \u001b[38;5;241m*\u001b[39m\u001b[38;5;241m*\u001b[39mkwargs: P\u001b[38;5;241m.\u001b[39mkwargs) \u001b[38;5;241m-\u001b[39m\u001b[38;5;241m>\u001b[39m t\u001b[38;5;241m.\u001b[39mAny:\n\u001b[0;32m    226\u001b[0m     track(IsCompleteEvent(event_type\u001b[38;5;241m=\u001b[39mfunc\u001b[38;5;241m.\u001b[39m\u001b[38;5;18m__name__\u001b[39m, is_completed\u001b[38;5;241m=\u001b[39m\u001b[38;5;28;01mFalse\u001b[39;00m))\n\u001b[1;32m--> 227\u001b[0m     result \u001b[38;5;241m=\u001b[39m \u001b[43mfunc\u001b[49m\u001b[43m(\u001b[49m\u001b[38;5;241;43m*\u001b[39;49m\u001b[43margs\u001b[49m\u001b[43m,\u001b[49m\u001b[43m \u001b[49m\u001b[38;5;241;43m*\u001b[39;49m\u001b[38;5;241;43m*\u001b[39;49m\u001b[43mkwargs\u001b[49m\u001b[43m)\u001b[49m\n\u001b[0;32m    228\u001b[0m     track(IsCompleteEvent(event_type\u001b[38;5;241m=\u001b[39mfunc\u001b[38;5;241m.\u001b[39m\u001b[38;5;18m__name__\u001b[39m, is_completed\u001b[38;5;241m=\u001b[39m\u001b[38;5;28;01mTrue\u001b[39;00m))\n\u001b[0;32m    230\u001b[0m     \u001b[38;5;28;01mreturn\u001b[39;00m result\n",
      "File \u001b[1;32mc:\\Users\\gorke\\anaconda3\\envs\\odevler\\Lib\\site-packages\\ragas\\evaluation.py:298\u001b[0m, in \u001b[0;36mevaluate\u001b[1;34m(dataset, metrics, llm, embeddings, experiment_name, callbacks, run_config, token_usage_parser, raise_exceptions, column_map, show_progress, batch_size, _run_id, _pbar)\u001b[0m\n\u001b[0;32m    295\u001b[0m scores: t\u001b[38;5;241m.\u001b[39mList[t\u001b[38;5;241m.\u001b[39mDict[\u001b[38;5;28mstr\u001b[39m, t\u001b[38;5;241m.\u001b[39mAny]] \u001b[38;5;241m=\u001b[39m []\n\u001b[0;32m    296\u001b[0m \u001b[38;5;28;01mtry\u001b[39;00m:\n\u001b[0;32m    297\u001b[0m     \u001b[38;5;66;03m# get the results\u001b[39;00m\n\u001b[1;32m--> 298\u001b[0m     results \u001b[38;5;241m=\u001b[39m \u001b[43mexecutor\u001b[49m\u001b[38;5;241;43m.\u001b[39;49m\u001b[43mresults\u001b[49m\u001b[43m(\u001b[49m\u001b[43m)\u001b[49m\n\u001b[0;32m    299\u001b[0m     \u001b[38;5;28;01mif\u001b[39;00m results \u001b[38;5;241m==\u001b[39m []:\n\u001b[0;32m    300\u001b[0m         \u001b[38;5;28;01mraise\u001b[39;00m ExceptionInRunner()\n",
      "File \u001b[1;32mc:\\Users\\gorke\\anaconda3\\envs\\odevler\\Lib\\site-packages\\ragas\\executor.py:213\u001b[0m, in \u001b[0;36mExecutor.results\u001b[1;34m(self)\u001b[0m\n\u001b[0;32m    210\u001b[0m             nest_asyncio\u001b[38;5;241m.\u001b[39mapply()\n\u001b[0;32m    211\u001b[0m             \u001b[38;5;28mself\u001b[39m\u001b[38;5;241m.\u001b[39m_nest_asyncio_applied \u001b[38;5;241m=\u001b[39m \u001b[38;5;28;01mTrue\u001b[39;00m\n\u001b[1;32m--> 213\u001b[0m results \u001b[38;5;241m=\u001b[39m \u001b[43masyncio\u001b[49m\u001b[38;5;241;43m.\u001b[39;49m\u001b[43mrun\u001b[49m\u001b[43m(\u001b[49m\u001b[38;5;28;43mself\u001b[39;49m\u001b[38;5;241;43m.\u001b[39;49m\u001b[43m_process_jobs\u001b[49m\u001b[43m(\u001b[49m\u001b[43m)\u001b[49m\u001b[43m)\u001b[49m\n\u001b[0;32m    214\u001b[0m sorted_results \u001b[38;5;241m=\u001b[39m \u001b[38;5;28msorted\u001b[39m(results, key\u001b[38;5;241m=\u001b[39m\u001b[38;5;28;01mlambda\u001b[39;00m x: x[\u001b[38;5;241m0\u001b[39m])\n\u001b[0;32m    215\u001b[0m \u001b[38;5;28;01mreturn\u001b[39;00m [r[\u001b[38;5;241m1\u001b[39m] \u001b[38;5;28;01mfor\u001b[39;00m r \u001b[38;5;129;01min\u001b[39;00m sorted_results]\n",
      "File \u001b[1;32mc:\\Users\\gorke\\anaconda3\\envs\\odevler\\Lib\\site-packages\\nest_asyncio.py:30\u001b[0m, in \u001b[0;36m_patch_asyncio.<locals>.run\u001b[1;34m(main, debug)\u001b[0m\n\u001b[0;32m     28\u001b[0m task \u001b[38;5;241m=\u001b[39m asyncio\u001b[38;5;241m.\u001b[39mensure_future(main)\n\u001b[0;32m     29\u001b[0m \u001b[38;5;28;01mtry\u001b[39;00m:\n\u001b[1;32m---> 30\u001b[0m     \u001b[38;5;28;01mreturn\u001b[39;00m \u001b[43mloop\u001b[49m\u001b[38;5;241;43m.\u001b[39;49m\u001b[43mrun_until_complete\u001b[49m\u001b[43m(\u001b[49m\u001b[43mtask\u001b[49m\u001b[43m)\u001b[49m\n\u001b[0;32m     31\u001b[0m \u001b[38;5;28;01mfinally\u001b[39;00m:\n\u001b[0;32m     32\u001b[0m     \u001b[38;5;28;01mif\u001b[39;00m \u001b[38;5;129;01mnot\u001b[39;00m task\u001b[38;5;241m.\u001b[39mdone():\n",
      "File \u001b[1;32mc:\\Users\\gorke\\anaconda3\\envs\\odevler\\Lib\\site-packages\\nest_asyncio.py:92\u001b[0m, in \u001b[0;36m_patch_loop.<locals>.run_until_complete\u001b[1;34m(self, future)\u001b[0m\n\u001b[0;32m     90\u001b[0m     f\u001b[38;5;241m.\u001b[39m_log_destroy_pending \u001b[38;5;241m=\u001b[39m \u001b[38;5;28;01mFalse\u001b[39;00m\n\u001b[0;32m     91\u001b[0m \u001b[38;5;28;01mwhile\u001b[39;00m \u001b[38;5;129;01mnot\u001b[39;00m f\u001b[38;5;241m.\u001b[39mdone():\n\u001b[1;32m---> 92\u001b[0m     \u001b[38;5;28;43mself\u001b[39;49m\u001b[38;5;241;43m.\u001b[39;49m\u001b[43m_run_once\u001b[49m\u001b[43m(\u001b[49m\u001b[43m)\u001b[49m\n\u001b[0;32m     93\u001b[0m     \u001b[38;5;28;01mif\u001b[39;00m \u001b[38;5;28mself\u001b[39m\u001b[38;5;241m.\u001b[39m_stopping:\n\u001b[0;32m     94\u001b[0m         \u001b[38;5;28;01mbreak\u001b[39;00m\n",
      "File \u001b[1;32mc:\\Users\\gorke\\anaconda3\\envs\\odevler\\Lib\\site-packages\\nest_asyncio.py:115\u001b[0m, in \u001b[0;36m_patch_loop.<locals>._run_once\u001b[1;34m(self)\u001b[0m\n\u001b[0;32m    108\u001b[0m     heappop(scheduled)\n\u001b[0;32m    110\u001b[0m timeout \u001b[38;5;241m=\u001b[39m (\n\u001b[0;32m    111\u001b[0m     \u001b[38;5;241m0\u001b[39m \u001b[38;5;28;01mif\u001b[39;00m ready \u001b[38;5;129;01mor\u001b[39;00m \u001b[38;5;28mself\u001b[39m\u001b[38;5;241m.\u001b[39m_stopping\n\u001b[0;32m    112\u001b[0m     \u001b[38;5;28;01melse\u001b[39;00m \u001b[38;5;28mmin\u001b[39m(\u001b[38;5;28mmax\u001b[39m(\n\u001b[0;32m    113\u001b[0m         scheduled[\u001b[38;5;241m0\u001b[39m]\u001b[38;5;241m.\u001b[39m_when \u001b[38;5;241m-\u001b[39m \u001b[38;5;28mself\u001b[39m\u001b[38;5;241m.\u001b[39mtime(), \u001b[38;5;241m0\u001b[39m), \u001b[38;5;241m86400\u001b[39m) \u001b[38;5;28;01mif\u001b[39;00m scheduled\n\u001b[0;32m    114\u001b[0m     \u001b[38;5;28;01melse\u001b[39;00m \u001b[38;5;28;01mNone\u001b[39;00m)\n\u001b[1;32m--> 115\u001b[0m event_list \u001b[38;5;241m=\u001b[39m \u001b[38;5;28;43mself\u001b[39;49m\u001b[38;5;241;43m.\u001b[39;49m\u001b[43m_selector\u001b[49m\u001b[38;5;241;43m.\u001b[39;49m\u001b[43mselect\u001b[49m\u001b[43m(\u001b[49m\u001b[43mtimeout\u001b[49m\u001b[43m)\u001b[49m\n\u001b[0;32m    116\u001b[0m \u001b[38;5;28mself\u001b[39m\u001b[38;5;241m.\u001b[39m_process_events(event_list)\n\u001b[0;32m    118\u001b[0m end_time \u001b[38;5;241m=\u001b[39m \u001b[38;5;28mself\u001b[39m\u001b[38;5;241m.\u001b[39mtime() \u001b[38;5;241m+\u001b[39m \u001b[38;5;28mself\u001b[39m\u001b[38;5;241m.\u001b[39m_clock_resolution\n",
      "File \u001b[1;32mc:\\Users\\gorke\\anaconda3\\envs\\odevler\\Lib\\selectors.py:323\u001b[0m, in \u001b[0;36mSelectSelector.select\u001b[1;34m(self, timeout)\u001b[0m\n\u001b[0;32m    321\u001b[0m ready \u001b[38;5;241m=\u001b[39m []\n\u001b[0;32m    322\u001b[0m \u001b[38;5;28;01mtry\u001b[39;00m:\n\u001b[1;32m--> 323\u001b[0m     r, w, _ \u001b[38;5;241m=\u001b[39m \u001b[38;5;28;43mself\u001b[39;49m\u001b[38;5;241;43m.\u001b[39;49m\u001b[43m_select\u001b[49m\u001b[43m(\u001b[49m\u001b[38;5;28;43mself\u001b[39;49m\u001b[38;5;241;43m.\u001b[39;49m\u001b[43m_readers\u001b[49m\u001b[43m,\u001b[49m\u001b[43m \u001b[49m\u001b[38;5;28;43mself\u001b[39;49m\u001b[38;5;241;43m.\u001b[39;49m\u001b[43m_writers\u001b[49m\u001b[43m,\u001b[49m\u001b[43m \u001b[49m\u001b[43m[\u001b[49m\u001b[43m]\u001b[49m\u001b[43m,\u001b[49m\u001b[43m \u001b[49m\u001b[43mtimeout\u001b[49m\u001b[43m)\u001b[49m\n\u001b[0;32m    324\u001b[0m \u001b[38;5;28;01mexcept\u001b[39;00m \u001b[38;5;167;01mInterruptedError\u001b[39;00m:\n\u001b[0;32m    325\u001b[0m     \u001b[38;5;28;01mreturn\u001b[39;00m ready\n",
      "File \u001b[1;32mc:\\Users\\gorke\\anaconda3\\envs\\odevler\\Lib\\selectors.py:314\u001b[0m, in \u001b[0;36mSelectSelector._select\u001b[1;34m(self, r, w, _, timeout)\u001b[0m\n\u001b[0;32m    313\u001b[0m \u001b[38;5;28;01mdef\u001b[39;00m \u001b[38;5;21m_select\u001b[39m(\u001b[38;5;28mself\u001b[39m, r, w, _, timeout\u001b[38;5;241m=\u001b[39m\u001b[38;5;28;01mNone\u001b[39;00m):\n\u001b[1;32m--> 314\u001b[0m     r, w, x \u001b[38;5;241m=\u001b[39m \u001b[43mselect\u001b[49m\u001b[38;5;241;43m.\u001b[39;49m\u001b[43mselect\u001b[49m\u001b[43m(\u001b[49m\u001b[43mr\u001b[49m\u001b[43m,\u001b[49m\u001b[43m \u001b[49m\u001b[43mw\u001b[49m\u001b[43m,\u001b[49m\u001b[43m \u001b[49m\u001b[43mw\u001b[49m\u001b[43m,\u001b[49m\u001b[43m \u001b[49m\u001b[43mtimeout\u001b[49m\u001b[43m)\u001b[49m\n\u001b[0;32m    315\u001b[0m     \u001b[38;5;28;01mreturn\u001b[39;00m r, w \u001b[38;5;241m+\u001b[39m x, []\n",
      "\u001b[1;31mKeyboardInterrupt\u001b[0m: "
     ]
    },
    {
     "name": "stderr",
     "output_type": "stream",
     "text": [
      "Exception raised in Job[155]: AssertionError(set LLM before use)\n",
      "Exception raised in Job[156]: AssertionError(LLM is not set)\n",
      "Exception raised in Job[157]: AssertionError(LLM must be set)\n",
      "Exception raised in Job[158]: AssertionError(LLM is not set)\n",
      "Exception raised in Job[159]: AssertionError(set LLM before use)\n",
      "Exception raised in Job[160]: AssertionError(LLM is not set)\n",
      "Exception raised in Job[161]: AssertionError(LLM must be set)\n",
      "Exception raised in Job[162]: AssertionError(LLM is not set)\n",
      "Exception raised in Job[163]: AssertionError(set LLM before use)\n",
      "Exception raised in Job[164]: AssertionError(LLM is not set)\n",
      "Exception raised in Job[165]: AssertionError(LLM must be set)\n",
      "Exception raised in Job[166]: AssertionError(LLM is not set)\n",
      "Exception raised in Job[167]: AssertionError(set LLM before use)\n",
      "Exception raised in Job[168]: AssertionError(LLM is not set)\n",
      "Exception raised in Job[169]: AssertionError(LLM must be set)\n",
      "Exception raised in Job[170]: AssertionError(LLM is not set)\n",
      "Exception raised in Job[171]: AssertionError(set LLM before use)\n",
      "Exception raised in Job[172]: AssertionError(LLM is not set)\n",
      "Exception raised in Job[173]: AssertionError(LLM must be set)\n",
      "Exception raised in Job[174]: AssertionError(LLM is not set)\n",
      "Exception raised in Job[175]: AssertionError(set LLM before use)\n",
      "Exception raised in Job[176]: AssertionError(LLM is not set)\n",
      "Exception raised in Job[177]: AssertionError(LLM must be set)\n",
      "Exception raised in Job[178]: AssertionError(LLM is not set)\n",
      "Exception raised in Job[179]: AssertionError(set LLM before use)\n",
      "Exception raised in Job[180]: AssertionError(LLM is not set)\n",
      "Exception raised in Job[181]: AssertionError(LLM must be set)\n",
      "Exception raised in Job[182]: AssertionError(LLM is not set)\n",
      "Exception raised in Job[183]: AssertionError(set LLM before use)\n",
      "Exception raised in Job[184]: AssertionError(LLM is not set)\n",
      "Exception raised in Job[185]: AssertionError(LLM must be set)\n",
      "Exception raised in Job[186]: AssertionError(LLM is not set)\n",
      "Exception raised in Job[187]: AssertionError(set LLM before use)\n",
      "Exception raised in Job[188]: AssertionError(LLM is not set)\n",
      "Exception raised in Job[189]: AssertionError(LLM must be set)\n",
      "Exception raised in Job[190]: AssertionError(LLM is not set)\n",
      "Exception raised in Job[191]: AssertionError(set LLM before use)\n",
      "Exception raised in Job[192]: AssertionError(LLM is not set)\n",
      "Exception raised in Job[193]: AssertionError(LLM must be set)\n",
      "Exception raised in Job[194]: AssertionError(LLM is not set)\n",
      "Exception raised in Job[195]: AssertionError(set LLM before use)\n",
      "Exception raised in Job[196]: AssertionError(LLM is not set)\n",
      "Exception raised in Job[197]: AssertionError(LLM must be set)\n",
      "Exception raised in Job[198]: AssertionError(LLM is not set)\n",
      "Exception raised in Job[199]: AssertionError(set LLM before use)\n",
      "Exception raised in Job[200]: AssertionError(LLM is not set)\n",
      "Exception raised in Job[201]: AssertionError(LLM must be set)\n",
      "Exception raised in Job[202]: AssertionError(LLM is not set)\n",
      "Exception raised in Job[203]: AssertionError(set LLM before use)\n",
      "Exception raised in Job[204]: AssertionError(LLM is not set)\n",
      "Exception raised in Job[205]: AssertionError(LLM must be set)\n",
      "Exception raised in Job[206]: AssertionError(LLM is not set)\n",
      "Exception raised in Job[207]: AssertionError(set LLM before use)\n",
      "Exception raised in Job[208]: AssertionError(LLM is not set)\n",
      "Exception raised in Job[209]: AssertionError(LLM must be set)\n",
      "Exception raised in Job[210]: AssertionError(LLM is not set)\n",
      "Exception raised in Job[211]: AssertionError(set LLM before use)\n",
      "Exception raised in Job[212]: AssertionError(LLM is not set)\n",
      "Exception raised in Job[213]: AssertionError(LLM must be set)\n",
      "Exception raised in Job[214]: AssertionError(LLM is not set)\n",
      "Exception raised in Job[215]: AssertionError(set LLM before use)\n",
      "Exception raised in Job[216]: AssertionError(LLM is not set)\n",
      "Exception raised in Job[217]: AssertionError(LLM must be set)\n",
      "Exception raised in Job[218]: AssertionError(LLM is not set)\n",
      "Exception raised in Job[219]: AssertionError(set LLM before use)\n",
      "Exception raised in Job[220]: AssertionError(LLM is not set)\n",
      "Exception raised in Job[221]: AssertionError(LLM must be set)\n",
      "Exception raised in Job[222]: AssertionError(LLM is not set)\n",
      "Exception raised in Job[223]: AssertionError(set LLM before use)\n",
      "Exception raised in Job[224]: AssertionError(LLM is not set)\n",
      "Exception raised in Job[225]: AssertionError(LLM must be set)\n",
      "Exception raised in Job[226]: AssertionError(LLM is not set)\n",
      "Exception raised in Job[227]: AssertionError(set LLM before use)\n",
      "Exception raised in Job[228]: AssertionError(LLM is not set)\n",
      "Exception raised in Job[229]: AssertionError(LLM must be set)\n",
      "Exception raised in Job[230]: AssertionError(LLM is not set)\n",
      "Exception raised in Job[231]: AssertionError(set LLM before use)\n",
      "Exception raised in Job[232]: AssertionError(LLM is not set)\n",
      "Exception raised in Job[233]: AssertionError(LLM must be set)\n",
      "Exception raised in Job[234]: AssertionError(LLM is not set)\n",
      "Exception raised in Job[235]: AssertionError(set LLM before use)\n",
      "Exception raised in Job[236]: AssertionError(LLM is not set)\n",
      "Exception raised in Job[237]: AssertionError(LLM must be set)\n",
      "Exception raised in Job[238]: AssertionError(LLM is not set)\n",
      "Exception raised in Job[239]: AssertionError(set LLM before use)\n",
      "Exception raised in Job[240]: AssertionError(LLM is not set)\n",
      "Exception raised in Job[241]: AssertionError(LLM must be set)\n",
      "Exception raised in Job[242]: AssertionError(LLM is not set)\n",
      "Exception raised in Job[243]: AssertionError(set LLM before use)\n",
      "Exception raised in Job[244]: AssertionError(LLM is not set)\n",
      "Exception raised in Job[245]: AssertionError(LLM must be set)\n",
      "Exception raised in Job[246]: AssertionError(LLM is not set)\n",
      "Exception raised in Job[247]: AssertionError(set LLM before use)\n",
      "Exception raised in Job[248]: AssertionError(LLM is not set)\n",
      "Exception raised in Job[249]: AssertionError(LLM must be set)\n",
      "Exception raised in Job[250]: AssertionError(LLM is not set)\n",
      "Exception raised in Job[251]: AssertionError(set LLM before use)\n",
      "Exception raised in Job[252]: AssertionError(LLM is not set)\n",
      "Exception raised in Job[253]: AssertionError(LLM must be set)\n",
      "Exception raised in Job[254]: AssertionError(LLM is not set)\n",
      "Exception raised in Job[255]: AssertionError(set LLM before use)\n",
      "Exception raised in Job[256]: AssertionError(LLM is not set)\n",
      "Exception raised in Job[257]: AssertionError(LLM must be set)\n",
      "Exception raised in Job[258]: AssertionError(LLM is not set)\n",
      "Exception raised in Job[259]: AssertionError(set LLM before use)\n",
      "Exception raised in Job[260]: AssertionError(LLM is not set)\n",
      "Exception raised in Job[261]: AssertionError(LLM must be set)\n",
      "Exception raised in Job[262]: AssertionError(LLM is not set)\n",
      "Exception raised in Job[263]: AssertionError(set LLM before use)\n",
      "Exception raised in Job[264]: AssertionError(LLM is not set)\n",
      "Exception raised in Job[265]: AssertionError(LLM must be set)\n",
      "Exception raised in Job[266]: AssertionError(LLM is not set)\n",
      "Exception raised in Job[267]: AssertionError(set LLM before use)\n",
      "Exception raised in Job[268]: AssertionError(LLM is not set)\n",
      "Exception raised in Job[269]: AssertionError(LLM must be set)\n",
      "Exception raised in Job[270]: AssertionError(LLM is not set)\n",
      "Exception raised in Job[271]: AssertionError(set LLM before use)\n",
      "Exception raised in Job[272]: AssertionError(LLM is not set)\n",
      "Exception raised in Job[273]: AssertionError(LLM must be set)\n",
      "Exception raised in Job[274]: AssertionError(LLM is not set)\n",
      "Exception raised in Job[275]: AssertionError(set LLM before use)\n",
      "Exception raised in Job[276]: AssertionError(LLM is not set)\n",
      "Exception raised in Job[277]: AssertionError(LLM must be set)\n",
      "Exception raised in Job[278]: AssertionError(LLM is not set)\n",
      "Exception raised in Job[279]: AssertionError(set LLM before use)\n",
      "Exception raised in Job[280]: AssertionError(LLM is not set)\n",
      "Exception raised in Job[281]: AssertionError(LLM must be set)\n",
      "Exception raised in Job[282]: AssertionError(LLM is not set)\n",
      "Exception raised in Job[283]: AssertionError(set LLM before use)\n",
      "Exception raised in Job[284]: AssertionError(LLM is not set)\n",
      "Exception raised in Job[285]: AssertionError(LLM must be set)\n",
      "Exception raised in Job[286]: AssertionError(LLM is not set)\n",
      "Exception raised in Job[287]: AssertionError(set LLM before use)\n",
      "Exception raised in Job[288]: AssertionError(LLM is not set)\n",
      "Exception raised in Job[289]: AssertionError(LLM must be set)\n",
      "Exception raised in Job[290]: AssertionError(LLM is not set)\n",
      "Exception raised in Job[291]: AssertionError(set LLM before use)\n",
      "Exception raised in Job[292]: AssertionError(LLM is not set)\n",
      "Exception raised in Job[293]: AssertionError(LLM must be set)\n",
      "Exception raised in Job[294]: AssertionError(LLM is not set)\n",
      "Exception raised in Job[295]: AssertionError(set LLM before use)\n",
      "Exception raised in Job[296]: AssertionError(LLM is not set)\n",
      "Exception raised in Job[297]: AssertionError(LLM must be set)\n",
      "Exception raised in Job[298]: AssertionError(LLM is not set)\n",
      "Exception raised in Job[299]: AssertionError(set LLM before use)\n",
      "Exception raised in Job[300]: AssertionError(LLM is not set)\n",
      "Exception raised in Job[301]: AssertionError(LLM must be set)\n",
      "Exception raised in Job[302]: AssertionError(LLM is not set)\n",
      "Exception raised in Job[303]: AssertionError(set LLM before use)\n",
      "Exception raised in Job[304]: AssertionError(LLM is not set)\n",
      "Exception raised in Job[305]: AssertionError(LLM must be set)\n",
      "Exception raised in Job[306]: AssertionError(LLM is not set)\n",
      "Exception raised in Job[307]: AssertionError(set LLM before use)\n",
      "Exception raised in Job[308]: AssertionError(LLM is not set)\n",
      "Exception raised in Job[309]: AssertionError(LLM must be set)\n",
      "Exception raised in Job[310]: AssertionError(LLM is not set)\n",
      "Exception raised in Job[311]: AssertionError(set LLM before use)\n",
      "Exception raised in Job[312]: AssertionError(LLM is not set)\n",
      "Exception raised in Job[313]: AssertionError(LLM must be set)\n",
      "Exception raised in Job[314]: AssertionError(LLM is not set)\n",
      "Exception raised in Job[315]: AssertionError(set LLM before use)\n",
      "Exception raised in Job[316]: AssertionError(LLM is not set)\n",
      "Exception raised in Job[317]: AssertionError(LLM must be set)\n",
      "Exception raised in Job[318]: AssertionError(LLM is not set)\n",
      "Exception raised in Job[319]: AssertionError(set LLM before use)\n",
      "Exception raised in Job[320]: AssertionError(LLM is not set)\n",
      "Exception raised in Job[321]: AssertionError(LLM must be set)\n",
      "Exception raised in Job[322]: AssertionError(LLM is not set)\n",
      "Exception raised in Job[323]: AssertionError(set LLM before use)\n",
      "Exception raised in Job[324]: AssertionError(LLM is not set)\n",
      "Exception raised in Job[325]: AssertionError(LLM must be set)\n",
      "Exception raised in Job[326]: AssertionError(LLM is not set)\n",
      "Exception raised in Job[327]: AssertionError(set LLM before use)\n",
      "Exception raised in Job[328]: AssertionError(LLM is not set)\n",
      "Exception raised in Job[329]: AssertionError(LLM must be set)\n",
      "Exception raised in Job[330]: AssertionError(LLM is not set)\n",
      "Exception raised in Job[331]: AssertionError(set LLM before use)\n",
      "Exception raised in Job[332]: AssertionError(LLM is not set)\n",
      "Exception raised in Job[333]: AssertionError(LLM must be set)\n",
      "Exception raised in Job[334]: AssertionError(LLM is not set)\n",
      "Exception raised in Job[335]: AssertionError(set LLM before use)\n",
      "Exception raised in Job[336]: AssertionError(LLM is not set)\n",
      "Exception raised in Job[337]: AssertionError(LLM must be set)\n",
      "Exception raised in Job[338]: AssertionError(LLM is not set)\n",
      "Exception raised in Job[339]: AssertionError(set LLM before use)\n",
      "Exception raised in Job[340]: AssertionError(LLM is not set)\n",
      "Exception raised in Job[341]: AssertionError(LLM must be set)\n",
      "Exception raised in Job[342]: AssertionError(LLM is not set)\n",
      "Exception raised in Job[343]: AssertionError(set LLM before use)\n",
      "Exception raised in Job[344]: AssertionError(LLM is not set)\n",
      "Exception raised in Job[345]: AssertionError(LLM must be set)\n",
      "Exception raised in Job[346]: AssertionError(LLM is not set)\n",
      "Exception raised in Job[347]: AssertionError(set LLM before use)\n",
      "Exception raised in Job[348]: AssertionError(LLM is not set)\n",
      "Exception raised in Job[349]: AssertionError(LLM must be set)\n",
      "Exception raised in Job[350]: AssertionError(LLM is not set)\n",
      "Exception raised in Job[351]: AssertionError(set LLM before use)\n",
      "Exception raised in Job[352]: AssertionError(LLM is not set)\n",
      "Exception raised in Job[353]: AssertionError(LLM must be set)\n",
      "Exception raised in Job[354]: AssertionError(LLM is not set)\n",
      "Exception raised in Job[355]: AssertionError(set LLM before use)\n",
      "Exception raised in Job[356]: AssertionError(LLM is not set)\n",
      "Exception raised in Job[357]: AssertionError(LLM must be set)\n",
      "Exception raised in Job[358]: AssertionError(LLM is not set)\n",
      "Exception raised in Job[359]: AssertionError(set LLM before use)\n",
      "Exception raised in Job[360]: AssertionError(LLM is not set)\n",
      "Exception raised in Job[361]: AssertionError(LLM must be set)\n",
      "Exception raised in Job[362]: AssertionError(LLM is not set)\n",
      "Exception raised in Job[363]: AssertionError(set LLM before use)\n",
      "Exception raised in Job[364]: AssertionError(LLM is not set)\n",
      "Exception raised in Job[365]: AssertionError(LLM must be set)\n",
      "Exception raised in Job[366]: AssertionError(LLM is not set)\n",
      "Exception raised in Job[367]: AssertionError(set LLM before use)\n",
      "Exception raised in Job[368]: AssertionError(LLM is not set)\n",
      "Exception raised in Job[369]: AssertionError(LLM must be set)\n",
      "Exception raised in Job[370]: AssertionError(LLM is not set)\n",
      "Exception raised in Job[371]: AssertionError(set LLM before use)\n",
      "Exception raised in Job[372]: AssertionError(LLM is not set)\n",
      "Exception raised in Job[373]: AssertionError(LLM must be set)\n",
      "Exception raised in Job[374]: AssertionError(LLM is not set)\n",
      "Exception raised in Job[375]: AssertionError(set LLM before use)\n",
      "Exception raised in Job[376]: AssertionError(LLM is not set)\n",
      "Exception raised in Job[377]: AssertionError(LLM must be set)\n",
      "Exception raised in Job[378]: AssertionError(LLM is not set)\n",
      "Exception raised in Job[379]: AssertionError(set LLM before use)\n",
      "Exception raised in Job[380]: AssertionError(LLM is not set)\n",
      "Exception raised in Job[381]: AssertionError(LLM must be set)\n",
      "Exception raised in Job[382]: AssertionError(LLM is not set)\n",
      "Exception raised in Job[383]: AssertionError(set LLM before use)\n",
      "Exception raised in Job[384]: AssertionError(LLM is not set)\n",
      "Exception raised in Job[385]: AssertionError(LLM must be set)\n",
      "Exception raised in Job[386]: AssertionError(LLM is not set)\n",
      "Exception raised in Job[387]: AssertionError(set LLM before use)\n",
      "Exception raised in Job[388]: AssertionError(LLM is not set)\n",
      "Exception raised in Job[389]: AssertionError(LLM must be set)\n",
      "Exception raised in Job[390]: AssertionError(LLM is not set)\n",
      "Exception raised in Job[391]: AssertionError(set LLM before use)\n",
      "Exception raised in Job[392]: AssertionError(LLM is not set)\n",
      "Exception raised in Job[393]: AssertionError(LLM must be set)\n",
      "Exception raised in Job[394]: AssertionError(LLM is not set)\n",
      "Exception raised in Job[395]: AssertionError(set LLM before use)\n",
      "Exception raised in Job[396]: AssertionError(LLM is not set)\n",
      "Exception raised in Job[397]: AssertionError(LLM must be set)\n",
      "Exception raised in Job[398]: AssertionError(LLM is not set)\n",
      "Exception raised in Job[399]: AssertionError(set LLM before use)\n",
      "Exception raised in Job[145]: AssertionError(llm is not set)\n",
      "Exception raised in Job[148]: AssertionError(llm must be set to compute score)\n",
      "Exception raised in Job[138]: TimeoutError()\n",
      "Exception raised in Job[146]: AssertionError()\n",
      "Exception raised in Job[140]: TimeoutError()\n",
      "Exception raised in Job[152]: AssertionError(llm must be set to compute score)\n",
      "Exception raised in Job[153]: AttributeError('NoneType' object has no attribute 'generate')\n",
      "Exception raised in Job[141]: TimeoutError()\n",
      "Exception raised in Job[142]: TimeoutError()\n",
      "Exception raised in Job[144]: TimeoutError()\n",
      "Exception raised in Job[149]: TimeoutError()\n",
      "Exception raised in Job[154]: AssertionError()\n",
      "Exception raised in Job[150]: TimeoutError()\n"
     ]
    }
   ],
   "source": [
    "df_result_gemma_A = pd.DataFrame(columns=[\"model\", \"location\",\"faithfulness\",\"answer_correctness\",\"answer_relevancy\",\"context_recall\"])\n",
    "\n",
    "for i in range(len(output_names_gemma_forA)):\n",
    "    sonuclar = pd.read_csv(output_names_gemma_forA[i])\n",
    "    sonuclar['contexts'] = sonuclar['contexts'].apply(lambda x: [x])\n",
    "\n",
    "    \n",
    "    dataset = Dataset.from_pandas(sonuclar)\n",
    "    result = evaluate(dataset,\n",
    "                  metrics=[\n",
    "        faithfulness,\n",
    "        answer_correctness,\n",
    "        answer_relevancy,\n",
    "        context_recall],llm=evaluator_llm, embeddings=evaluator_embeddings)\n",
    "    \n",
    "\n",
    "    yeni_satir = pd.DataFrame({'model': [\"gemma2-9b-it\"], 'location': [location_A[i]], \n",
    "                           'faithfulness': [round(pd.Series(result[\"faithfulness\"]).mean(),4)],\n",
    "                           'answer_correctness': [round(pd.Series(result[\"answer_correctness\"]).mean(),4)],\n",
    "                           'answer_relevancy': [round(pd.Series(result[\"answer_relevancy\"]).mean(),4)],\n",
    "                           'context_recall': [round(pd.Series(result[\"context_recall\"]).mean(),4)]})\n",
    "\n",
    "    df_result_gemma_A = pd.concat([df_result_gemma_A, yeni_satir], ignore_index=True)\n",
    "\n",
    "    result.to_pandas().to_csv(\"RagasResult---\"+\"gemma2-9b-it\"+\"-\"+location_A[i]+\".csv\", index=False)\n",
    "\n",
    "    print(location_A[i])\n",
    "    print(result)\n",
    "    print(\"\\n\")\n",
    "\n",
    "df_result_gemma_A.to_csv(\"OverallResult---\"+\"gemma2-9b-it-for-question-A.csv\", index=False)"
   ]
  },
  {
   "cell_type": "code",
   "execution_count": 32,
   "metadata": {},
   "outputs": [],
   "source": [
    "df_result_gemma_A.to_csv(\"OverallResult---\"+\"gemma2-9b-it-for-question-A.csv\", index=False)"
   ]
  },
  {
   "cell_type": "code",
   "execution_count": 42,
   "metadata": {},
   "outputs": [
    {
     "name": "stderr",
     "output_type": "stream",
     "text": [
      "Evaluating: 100%|██████████| 300/300 [02:50<00:00,  1.76it/s]\n"
     ]
    },
    {
     "name": "stdout",
     "output_type": "stream",
     "text": [
      "A-15\n",
      "{'faithfulness': 0.8468, 'answer_correctness': 0.6006, 'answer_relevancy': 0.5883}\n",
      "\n",
      "\n"
     ]
    },
    {
     "name": "stderr",
     "output_type": "stream",
     "text": [
      "C:\\Users\\gorke\\AppData\\Local\\Temp\\ipykernel_15516\\4159042774.py:22: FutureWarning: The behavior of DataFrame concatenation with empty or all-NA entries is deprecated. In a future version, this will no longer exclude empty or all-NA columns when determining the result dtypes. To retain the old behavior, exclude the relevant entries before the concat operation.\n",
      "  df_result_gemma_A = pd.concat([df_result_gemma_A, yeni_satir], ignore_index=True)\n"
     ]
    }
   ],
   "source": [
    "df_result_gemma_A = pd.DataFrame(columns=[\"model\", \"location\",\"faithfulness\",\"answer_correctness\",\"answer_relevancy\"])\n",
    "\n",
    "i=3\n",
    "while i< len(output_names_gemma_forA):\n",
    "    sonuclar = pd.read_csv(output_names_gemma_forA[i])\n",
    "    sonuclar['contexts'] = sonuclar['contexts'].apply(lambda x: [x])\n",
    "\n",
    "    \n",
    "    dataset = Dataset.from_pandas(sonuclar)\n",
    "    result = evaluate(dataset,\n",
    "                  metrics=[\n",
    "        faithfulness,\n",
    "        answer_correctness,\n",
    "        answer_relevancy],llm=evaluator_llm, embeddings=evaluator_embeddings)\n",
    "    \n",
    "\n",
    "    yeni_satir = pd.DataFrame({'model': [\"gemma2-9b-it\"], 'location': [location_A[i]], \n",
    "                           'faithfulness': [round(pd.Series(result[\"faithfulness\"]).mean(),4)],\n",
    "                           'answer_correctness': [round(pd.Series(result[\"answer_correctness\"]).mean(),4)],\n",
    "                           'answer_relevancy': [round(pd.Series(result[\"answer_relevancy\"]).mean(),4)]})\n",
    "\n",
    "    df_result_gemma_A = pd.concat([df_result_gemma_A, yeni_satir], ignore_index=True)\n",
    "\n",
    "    result.to_pandas().to_csv(\"RagasResult---\"+\"gemma2-9b-it\"+\"-\"+location_A[i]+\".csv\", index=False)\n",
    "\n",
    "    print(location_A[i])\n",
    "    print(result)\n",
    "    print(\"\\n\")\n",
    "    i=i+1\n",
    "\n",
    "#df_result_gemma_A.to_csv(\"OverallResult---\"+\"gemma2-9b-it-for-question-A.csv\", index=False)"
   ]
  },
  {
   "cell_type": "code",
   "execution_count": 43,
   "metadata": {},
   "outputs": [
    {
     "name": "stderr",
     "output_type": "stream",
     "text": [
      "Evaluating: 100%|██████████| 150/150 [01:28<00:00,  1.69it/s]\n",
      "C:\\Users\\gorke\\AppData\\Local\\Temp\\ipykernel_15516\\1894122961.py:20: FutureWarning: The behavior of DataFrame concatenation with empty or all-NA entries is deprecated. In a future version, this will no longer exclude empty or all-NA columns when determining the result dtypes. To retain the old behavior, exclude the relevant entries before the concat operation.\n",
      "  df_result_cosmos_B = pd.concat([df_result_cosmos_B, yeni_satir], ignore_index=True)\n"
     ]
    },
    {
     "name": "stdout",
     "output_type": "stream",
     "text": [
      "B-1\n",
      "{'faithfulness': 0.7495, 'answer_correctness': 0.7384, 'answer_relevancy': 0.7534}\n",
      "\n",
      "\n"
     ]
    },
    {
     "name": "stderr",
     "output_type": "stream",
     "text": [
      "Evaluating: 100%|██████████| 150/150 [01:35<00:00,  1.57it/s]\n"
     ]
    },
    {
     "name": "stdout",
     "output_type": "stream",
     "text": [
      "B-2\n",
      "{'faithfulness': 0.7323, 'answer_correctness': 0.6573, 'answer_relevancy': 0.6233}\n",
      "\n",
      "\n"
     ]
    },
    {
     "name": "stderr",
     "output_type": "stream",
     "text": [
      "Evaluating:  16%|█▌        | 24/150 [02:29<13:05,  6.24s/it]\n"
     ]
    },
    {
     "ename": "KeyboardInterrupt",
     "evalue": "",
     "output_type": "error",
     "traceback": [
      "\u001b[1;31m---------------------------------------------------------------------------\u001b[0m",
      "\u001b[1;31mKeyboardInterrupt\u001b[0m                         Traceback (most recent call last)",
      "Cell \u001b[1;32mIn[43], line 8\u001b[0m\n\u001b[0;32m      5\u001b[0m sonuclar[\u001b[38;5;124m'\u001b[39m\u001b[38;5;124mcontexts\u001b[39m\u001b[38;5;124m'\u001b[39m] \u001b[38;5;241m=\u001b[39m sonuclar[\u001b[38;5;124m'\u001b[39m\u001b[38;5;124mcontexts\u001b[39m\u001b[38;5;124m'\u001b[39m]\u001b[38;5;241m.\u001b[39mapply(\u001b[38;5;28;01mlambda\u001b[39;00m x: [x])\n\u001b[0;32m      7\u001b[0m dataset \u001b[38;5;241m=\u001b[39m Dataset\u001b[38;5;241m.\u001b[39mfrom_pandas(sonuclar)\n\u001b[1;32m----> 8\u001b[0m result \u001b[38;5;241m=\u001b[39m \u001b[43mevaluate\u001b[49m\u001b[43m(\u001b[49m\u001b[43mdataset\u001b[49m\u001b[43m,\u001b[49m\n\u001b[0;32m      9\u001b[0m \u001b[43m              \u001b[49m\u001b[43mmetrics\u001b[49m\u001b[38;5;241;43m=\u001b[39;49m\u001b[43m[\u001b[49m\n\u001b[0;32m     10\u001b[0m \u001b[43m    \u001b[49m\u001b[43mfaithfulness\u001b[49m\u001b[43m,\u001b[49m\n\u001b[0;32m     11\u001b[0m \u001b[43m    \u001b[49m\u001b[43manswer_correctness\u001b[49m\u001b[43m,\u001b[49m\n\u001b[0;32m     12\u001b[0m \u001b[43m    \u001b[49m\u001b[43manswer_relevancy\u001b[49m\u001b[43m]\u001b[49m\u001b[43m,\u001b[49m\u001b[43mllm\u001b[49m\u001b[38;5;241;43m=\u001b[39;49m\u001b[43mevaluator_llm\u001b[49m\u001b[43m,\u001b[49m\u001b[43m \u001b[49m\u001b[43membeddings\u001b[49m\u001b[38;5;241;43m=\u001b[39;49m\u001b[43mevaluator_embeddings\u001b[49m\u001b[43m)\u001b[49m\n\u001b[0;32m     15\u001b[0m yeni_satir \u001b[38;5;241m=\u001b[39m pd\u001b[38;5;241m.\u001b[39mDataFrame({\u001b[38;5;124m'\u001b[39m\u001b[38;5;124mmodel\u001b[39m\u001b[38;5;124m'\u001b[39m: [\u001b[38;5;124m\"\u001b[39m\u001b[38;5;124mcosmos-dpo\u001b[39m\u001b[38;5;124m\"\u001b[39m], \u001b[38;5;124m'\u001b[39m\u001b[38;5;124mlocation\u001b[39m\u001b[38;5;124m'\u001b[39m: [location_B[i]], \n\u001b[0;32m     16\u001b[0m                        \u001b[38;5;124m'\u001b[39m\u001b[38;5;124mfaithfulness\u001b[39m\u001b[38;5;124m'\u001b[39m: [\u001b[38;5;28mround\u001b[39m(pd\u001b[38;5;241m.\u001b[39mSeries(result[\u001b[38;5;124m\"\u001b[39m\u001b[38;5;124mfaithfulness\u001b[39m\u001b[38;5;124m\"\u001b[39m])\u001b[38;5;241m.\u001b[39mmean(),\u001b[38;5;241m4\u001b[39m)],\n\u001b[0;32m     17\u001b[0m                        \u001b[38;5;124m'\u001b[39m\u001b[38;5;124manswer_correctness\u001b[39m\u001b[38;5;124m'\u001b[39m: [\u001b[38;5;28mround\u001b[39m(pd\u001b[38;5;241m.\u001b[39mSeries(result[\u001b[38;5;124m\"\u001b[39m\u001b[38;5;124manswer_correctness\u001b[39m\u001b[38;5;124m\"\u001b[39m])\u001b[38;5;241m.\u001b[39mmean(),\u001b[38;5;241m4\u001b[39m)],\n\u001b[0;32m     18\u001b[0m                        \u001b[38;5;124m'\u001b[39m\u001b[38;5;124manswer_relevancy\u001b[39m\u001b[38;5;124m'\u001b[39m: [\u001b[38;5;28mround\u001b[39m(pd\u001b[38;5;241m.\u001b[39mSeries(result[\u001b[38;5;124m\"\u001b[39m\u001b[38;5;124manswer_relevancy\u001b[39m\u001b[38;5;124m\"\u001b[39m])\u001b[38;5;241m.\u001b[39mmean(),\u001b[38;5;241m4\u001b[39m)]})\n\u001b[0;32m     20\u001b[0m df_result_cosmos_B \u001b[38;5;241m=\u001b[39m pd\u001b[38;5;241m.\u001b[39mconcat([df_result_cosmos_B, yeni_satir], ignore_index\u001b[38;5;241m=\u001b[39m\u001b[38;5;28;01mTrue\u001b[39;00m)\n",
      "File \u001b[1;32mc:\\Users\\gorke\\anaconda3\\envs\\odevler\\Lib\\site-packages\\ragas\\_analytics.py:227\u001b[0m, in \u001b[0;36mtrack_was_completed.<locals>.wrapper\u001b[1;34m(*args, **kwargs)\u001b[0m\n\u001b[0;32m    224\u001b[0m \u001b[38;5;129m@wraps\u001b[39m(func)\n\u001b[0;32m    225\u001b[0m \u001b[38;5;28;01mdef\u001b[39;00m \u001b[38;5;21mwrapper\u001b[39m(\u001b[38;5;241m*\u001b[39margs: P\u001b[38;5;241m.\u001b[39margs, \u001b[38;5;241m*\u001b[39m\u001b[38;5;241m*\u001b[39mkwargs: P\u001b[38;5;241m.\u001b[39mkwargs) \u001b[38;5;241m-\u001b[39m\u001b[38;5;241m>\u001b[39m t\u001b[38;5;241m.\u001b[39mAny:\n\u001b[0;32m    226\u001b[0m     track(IsCompleteEvent(event_type\u001b[38;5;241m=\u001b[39mfunc\u001b[38;5;241m.\u001b[39m\u001b[38;5;18m__name__\u001b[39m, is_completed\u001b[38;5;241m=\u001b[39m\u001b[38;5;28;01mFalse\u001b[39;00m))\n\u001b[1;32m--> 227\u001b[0m     result \u001b[38;5;241m=\u001b[39m \u001b[43mfunc\u001b[49m\u001b[43m(\u001b[49m\u001b[38;5;241;43m*\u001b[39;49m\u001b[43margs\u001b[49m\u001b[43m,\u001b[49m\u001b[43m \u001b[49m\u001b[38;5;241;43m*\u001b[39;49m\u001b[38;5;241;43m*\u001b[39;49m\u001b[43mkwargs\u001b[49m\u001b[43m)\u001b[49m\n\u001b[0;32m    228\u001b[0m     track(IsCompleteEvent(event_type\u001b[38;5;241m=\u001b[39mfunc\u001b[38;5;241m.\u001b[39m\u001b[38;5;18m__name__\u001b[39m, is_completed\u001b[38;5;241m=\u001b[39m\u001b[38;5;28;01mTrue\u001b[39;00m))\n\u001b[0;32m    230\u001b[0m     \u001b[38;5;28;01mreturn\u001b[39;00m result\n",
      "File \u001b[1;32mc:\\Users\\gorke\\anaconda3\\envs\\odevler\\Lib\\site-packages\\ragas\\evaluation.py:298\u001b[0m, in \u001b[0;36mevaluate\u001b[1;34m(dataset, metrics, llm, embeddings, experiment_name, callbacks, run_config, token_usage_parser, raise_exceptions, column_map, show_progress, batch_size, _run_id, _pbar)\u001b[0m\n\u001b[0;32m    295\u001b[0m scores: t\u001b[38;5;241m.\u001b[39mList[t\u001b[38;5;241m.\u001b[39mDict[\u001b[38;5;28mstr\u001b[39m, t\u001b[38;5;241m.\u001b[39mAny]] \u001b[38;5;241m=\u001b[39m []\n\u001b[0;32m    296\u001b[0m \u001b[38;5;28;01mtry\u001b[39;00m:\n\u001b[0;32m    297\u001b[0m     \u001b[38;5;66;03m# get the results\u001b[39;00m\n\u001b[1;32m--> 298\u001b[0m     results \u001b[38;5;241m=\u001b[39m \u001b[43mexecutor\u001b[49m\u001b[38;5;241;43m.\u001b[39;49m\u001b[43mresults\u001b[49m\u001b[43m(\u001b[49m\u001b[43m)\u001b[49m\n\u001b[0;32m    299\u001b[0m     \u001b[38;5;28;01mif\u001b[39;00m results \u001b[38;5;241m==\u001b[39m []:\n\u001b[0;32m    300\u001b[0m         \u001b[38;5;28;01mraise\u001b[39;00m ExceptionInRunner()\n",
      "File \u001b[1;32mc:\\Users\\gorke\\anaconda3\\envs\\odevler\\Lib\\site-packages\\ragas\\executor.py:213\u001b[0m, in \u001b[0;36mExecutor.results\u001b[1;34m(self)\u001b[0m\n\u001b[0;32m    210\u001b[0m             nest_asyncio\u001b[38;5;241m.\u001b[39mapply()\n\u001b[0;32m    211\u001b[0m             \u001b[38;5;28mself\u001b[39m\u001b[38;5;241m.\u001b[39m_nest_asyncio_applied \u001b[38;5;241m=\u001b[39m \u001b[38;5;28;01mTrue\u001b[39;00m\n\u001b[1;32m--> 213\u001b[0m results \u001b[38;5;241m=\u001b[39m \u001b[43masyncio\u001b[49m\u001b[38;5;241;43m.\u001b[39;49m\u001b[43mrun\u001b[49m\u001b[43m(\u001b[49m\u001b[38;5;28;43mself\u001b[39;49m\u001b[38;5;241;43m.\u001b[39;49m\u001b[43m_process_jobs\u001b[49m\u001b[43m(\u001b[49m\u001b[43m)\u001b[49m\u001b[43m)\u001b[49m\n\u001b[0;32m    214\u001b[0m sorted_results \u001b[38;5;241m=\u001b[39m \u001b[38;5;28msorted\u001b[39m(results, key\u001b[38;5;241m=\u001b[39m\u001b[38;5;28;01mlambda\u001b[39;00m x: x[\u001b[38;5;241m0\u001b[39m])\n\u001b[0;32m    215\u001b[0m \u001b[38;5;28;01mreturn\u001b[39;00m [r[\u001b[38;5;241m1\u001b[39m] \u001b[38;5;28;01mfor\u001b[39;00m r \u001b[38;5;129;01min\u001b[39;00m sorted_results]\n",
      "File \u001b[1;32mc:\\Users\\gorke\\anaconda3\\envs\\odevler\\Lib\\site-packages\\nest_asyncio.py:30\u001b[0m, in \u001b[0;36m_patch_asyncio.<locals>.run\u001b[1;34m(main, debug)\u001b[0m\n\u001b[0;32m     28\u001b[0m task \u001b[38;5;241m=\u001b[39m asyncio\u001b[38;5;241m.\u001b[39mensure_future(main)\n\u001b[0;32m     29\u001b[0m \u001b[38;5;28;01mtry\u001b[39;00m:\n\u001b[1;32m---> 30\u001b[0m     \u001b[38;5;28;01mreturn\u001b[39;00m \u001b[43mloop\u001b[49m\u001b[38;5;241;43m.\u001b[39;49m\u001b[43mrun_until_complete\u001b[49m\u001b[43m(\u001b[49m\u001b[43mtask\u001b[49m\u001b[43m)\u001b[49m\n\u001b[0;32m     31\u001b[0m \u001b[38;5;28;01mfinally\u001b[39;00m:\n\u001b[0;32m     32\u001b[0m     \u001b[38;5;28;01mif\u001b[39;00m \u001b[38;5;129;01mnot\u001b[39;00m task\u001b[38;5;241m.\u001b[39mdone():\n",
      "File \u001b[1;32mc:\\Users\\gorke\\anaconda3\\envs\\odevler\\Lib\\site-packages\\nest_asyncio.py:92\u001b[0m, in \u001b[0;36m_patch_loop.<locals>.run_until_complete\u001b[1;34m(self, future)\u001b[0m\n\u001b[0;32m     90\u001b[0m     f\u001b[38;5;241m.\u001b[39m_log_destroy_pending \u001b[38;5;241m=\u001b[39m \u001b[38;5;28;01mFalse\u001b[39;00m\n\u001b[0;32m     91\u001b[0m \u001b[38;5;28;01mwhile\u001b[39;00m \u001b[38;5;129;01mnot\u001b[39;00m f\u001b[38;5;241m.\u001b[39mdone():\n\u001b[1;32m---> 92\u001b[0m     \u001b[38;5;28;43mself\u001b[39;49m\u001b[38;5;241;43m.\u001b[39;49m\u001b[43m_run_once\u001b[49m\u001b[43m(\u001b[49m\u001b[43m)\u001b[49m\n\u001b[0;32m     93\u001b[0m     \u001b[38;5;28;01mif\u001b[39;00m \u001b[38;5;28mself\u001b[39m\u001b[38;5;241m.\u001b[39m_stopping:\n\u001b[0;32m     94\u001b[0m         \u001b[38;5;28;01mbreak\u001b[39;00m\n",
      "File \u001b[1;32mc:\\Users\\gorke\\anaconda3\\envs\\odevler\\Lib\\site-packages\\nest_asyncio.py:115\u001b[0m, in \u001b[0;36m_patch_loop.<locals>._run_once\u001b[1;34m(self)\u001b[0m\n\u001b[0;32m    108\u001b[0m     heappop(scheduled)\n\u001b[0;32m    110\u001b[0m timeout \u001b[38;5;241m=\u001b[39m (\n\u001b[0;32m    111\u001b[0m     \u001b[38;5;241m0\u001b[39m \u001b[38;5;28;01mif\u001b[39;00m ready \u001b[38;5;129;01mor\u001b[39;00m \u001b[38;5;28mself\u001b[39m\u001b[38;5;241m.\u001b[39m_stopping\n\u001b[0;32m    112\u001b[0m     \u001b[38;5;28;01melse\u001b[39;00m \u001b[38;5;28mmin\u001b[39m(\u001b[38;5;28mmax\u001b[39m(\n\u001b[0;32m    113\u001b[0m         scheduled[\u001b[38;5;241m0\u001b[39m]\u001b[38;5;241m.\u001b[39m_when \u001b[38;5;241m-\u001b[39m \u001b[38;5;28mself\u001b[39m\u001b[38;5;241m.\u001b[39mtime(), \u001b[38;5;241m0\u001b[39m), \u001b[38;5;241m86400\u001b[39m) \u001b[38;5;28;01mif\u001b[39;00m scheduled\n\u001b[0;32m    114\u001b[0m     \u001b[38;5;28;01melse\u001b[39;00m \u001b[38;5;28;01mNone\u001b[39;00m)\n\u001b[1;32m--> 115\u001b[0m event_list \u001b[38;5;241m=\u001b[39m \u001b[38;5;28;43mself\u001b[39;49m\u001b[38;5;241;43m.\u001b[39;49m\u001b[43m_selector\u001b[49m\u001b[38;5;241;43m.\u001b[39;49m\u001b[43mselect\u001b[49m\u001b[43m(\u001b[49m\u001b[43mtimeout\u001b[49m\u001b[43m)\u001b[49m\n\u001b[0;32m    116\u001b[0m \u001b[38;5;28mself\u001b[39m\u001b[38;5;241m.\u001b[39m_process_events(event_list)\n\u001b[0;32m    118\u001b[0m end_time \u001b[38;5;241m=\u001b[39m \u001b[38;5;28mself\u001b[39m\u001b[38;5;241m.\u001b[39mtime() \u001b[38;5;241m+\u001b[39m \u001b[38;5;28mself\u001b[39m\u001b[38;5;241m.\u001b[39m_clock_resolution\n",
      "File \u001b[1;32mc:\\Users\\gorke\\anaconda3\\envs\\odevler\\Lib\\selectors.py:323\u001b[0m, in \u001b[0;36mSelectSelector.select\u001b[1;34m(self, timeout)\u001b[0m\n\u001b[0;32m    321\u001b[0m ready \u001b[38;5;241m=\u001b[39m []\n\u001b[0;32m    322\u001b[0m \u001b[38;5;28;01mtry\u001b[39;00m:\n\u001b[1;32m--> 323\u001b[0m     r, w, _ \u001b[38;5;241m=\u001b[39m \u001b[38;5;28;43mself\u001b[39;49m\u001b[38;5;241;43m.\u001b[39;49m\u001b[43m_select\u001b[49m\u001b[43m(\u001b[49m\u001b[38;5;28;43mself\u001b[39;49m\u001b[38;5;241;43m.\u001b[39;49m\u001b[43m_readers\u001b[49m\u001b[43m,\u001b[49m\u001b[43m \u001b[49m\u001b[38;5;28;43mself\u001b[39;49m\u001b[38;5;241;43m.\u001b[39;49m\u001b[43m_writers\u001b[49m\u001b[43m,\u001b[49m\u001b[43m \u001b[49m\u001b[43m[\u001b[49m\u001b[43m]\u001b[49m\u001b[43m,\u001b[49m\u001b[43m \u001b[49m\u001b[43mtimeout\u001b[49m\u001b[43m)\u001b[49m\n\u001b[0;32m    324\u001b[0m \u001b[38;5;28;01mexcept\u001b[39;00m \u001b[38;5;167;01mInterruptedError\u001b[39;00m:\n\u001b[0;32m    325\u001b[0m     \u001b[38;5;28;01mreturn\u001b[39;00m ready\n",
      "File \u001b[1;32mc:\\Users\\gorke\\anaconda3\\envs\\odevler\\Lib\\selectors.py:314\u001b[0m, in \u001b[0;36mSelectSelector._select\u001b[1;34m(self, r, w, _, timeout)\u001b[0m\n\u001b[0;32m    313\u001b[0m \u001b[38;5;28;01mdef\u001b[39;00m \u001b[38;5;21m_select\u001b[39m(\u001b[38;5;28mself\u001b[39m, r, w, _, timeout\u001b[38;5;241m=\u001b[39m\u001b[38;5;28;01mNone\u001b[39;00m):\n\u001b[1;32m--> 314\u001b[0m     r, w, x \u001b[38;5;241m=\u001b[39m \u001b[43mselect\u001b[49m\u001b[38;5;241;43m.\u001b[39;49m\u001b[43mselect\u001b[49m\u001b[43m(\u001b[49m\u001b[43mr\u001b[49m\u001b[43m,\u001b[49m\u001b[43m \u001b[49m\u001b[43mw\u001b[49m\u001b[43m,\u001b[49m\u001b[43m \u001b[49m\u001b[43mw\u001b[49m\u001b[43m,\u001b[49m\u001b[43m \u001b[49m\u001b[43mtimeout\u001b[49m\u001b[43m)\u001b[49m\n\u001b[0;32m    315\u001b[0m     \u001b[38;5;28;01mreturn\u001b[39;00m r, w \u001b[38;5;241m+\u001b[39m x, []\n",
      "\u001b[1;31mKeyboardInterrupt\u001b[0m: "
     ]
    },
    {
     "name": "stderr",
     "output_type": "stream",
     "text": [
      "Exception raised in Job[32]: AssertionError()\n",
      "Exception raised in Job[40]: AssertionError(LLM must be set)\n",
      "Exception raised in Job[41]: AssertionError(LLM is not set)\n",
      "Exception raised in Job[42]: AssertionError(LLM is not set)\n",
      "Exception raised in Job[43]: AssertionError(LLM must be set)\n",
      "Exception raised in Job[44]: AssertionError(LLM is not set)\n",
      "Exception raised in Job[45]: AssertionError(LLM is not set)\n",
      "Exception raised in Job[46]: AssertionError(LLM must be set)\n",
      "Exception raised in Job[47]: AssertionError(LLM is not set)\n",
      "Exception raised in Job[48]: AssertionError(LLM is not set)\n",
      "Exception raised in Job[49]: AssertionError(LLM must be set)\n",
      "Exception raised in Job[50]: AssertionError(LLM is not set)\n",
      "Exception raised in Job[51]: AssertionError(LLM is not set)\n",
      "Exception raised in Job[52]: AssertionError(LLM must be set)\n",
      "Exception raised in Job[53]: AssertionError(LLM is not set)\n",
      "Exception raised in Job[54]: AssertionError(LLM is not set)\n",
      "Exception raised in Job[55]: AssertionError(LLM must be set)\n",
      "Exception raised in Job[56]: AssertionError(LLM is not set)\n",
      "Exception raised in Job[57]: AssertionError(LLM is not set)\n",
      "Exception raised in Job[58]: AssertionError(LLM must be set)\n",
      "Exception raised in Job[59]: AssertionError(LLM is not set)\n",
      "Exception raised in Job[60]: AssertionError(LLM is not set)\n",
      "Exception raised in Job[61]: AssertionError(LLM must be set)\n",
      "Exception raised in Job[62]: AssertionError(LLM is not set)\n",
      "Exception raised in Job[63]: AssertionError(LLM is not set)\n",
      "Exception raised in Job[64]: AssertionError(LLM must be set)\n",
      "Exception raised in Job[65]: AssertionError(LLM is not set)\n",
      "Exception raised in Job[66]: AssertionError(LLM is not set)\n",
      "Exception raised in Job[67]: AssertionError(LLM must be set)\n",
      "Exception raised in Job[68]: AssertionError(LLM is not set)\n",
      "Exception raised in Job[69]: AssertionError(LLM is not set)\n",
      "Exception raised in Job[70]: AssertionError(LLM must be set)\n",
      "Exception raised in Job[71]: AssertionError(LLM is not set)\n",
      "Exception raised in Job[72]: AssertionError(LLM is not set)\n",
      "Exception raised in Job[73]: AssertionError(LLM must be set)\n",
      "Exception raised in Job[74]: AssertionError(LLM is not set)\n",
      "Exception raised in Job[75]: AssertionError(LLM is not set)\n",
      "Exception raised in Job[76]: AssertionError(LLM must be set)\n",
      "Exception raised in Job[77]: AssertionError(LLM is not set)\n",
      "Exception raised in Job[78]: AssertionError(LLM is not set)\n",
      "Exception raised in Job[79]: AssertionError(LLM must be set)\n",
      "Exception raised in Job[80]: AssertionError(LLM is not set)\n",
      "Exception raised in Job[81]: AssertionError(LLM is not set)\n",
      "Exception raised in Job[82]: AssertionError(LLM must be set)\n",
      "Exception raised in Job[83]: AssertionError(LLM is not set)\n",
      "Exception raised in Job[84]: AssertionError(LLM is not set)\n",
      "Exception raised in Job[85]: AssertionError(LLM must be set)\n",
      "Exception raised in Job[86]: AssertionError(LLM is not set)\n",
      "Exception raised in Job[87]: AssertionError(LLM is not set)\n",
      "Exception raised in Job[88]: AssertionError(LLM must be set)\n",
      "Exception raised in Job[89]: AssertionError(LLM is not set)\n",
      "Exception raised in Job[90]: AssertionError(LLM is not set)\n",
      "Exception raised in Job[91]: AssertionError(LLM must be set)\n",
      "Exception raised in Job[92]: AssertionError(LLM is not set)\n",
      "Exception raised in Job[93]: AssertionError(LLM is not set)\n",
      "Exception raised in Job[94]: AssertionError(LLM must be set)\n",
      "Exception raised in Job[95]: AssertionError(LLM is not set)\n",
      "Exception raised in Job[96]: AssertionError(LLM is not set)\n",
      "Exception raised in Job[97]: AssertionError(LLM must be set)\n",
      "Exception raised in Job[98]: AssertionError(LLM is not set)\n",
      "Exception raised in Job[99]: AssertionError(LLM is not set)\n",
      "Exception raised in Job[100]: AssertionError(LLM must be set)\n",
      "Exception raised in Job[101]: AssertionError(LLM is not set)\n",
      "Exception raised in Job[102]: AssertionError(LLM is not set)\n",
      "Exception raised in Job[103]: AssertionError(LLM must be set)\n",
      "Exception raised in Job[104]: AssertionError(LLM is not set)\n",
      "Exception raised in Job[105]: AssertionError(LLM is not set)\n",
      "Exception raised in Job[106]: AssertionError(LLM must be set)\n",
      "Exception raised in Job[107]: AssertionError(LLM is not set)\n",
      "Exception raised in Job[108]: AssertionError(LLM is not set)\n",
      "Exception raised in Job[109]: AssertionError(LLM must be set)\n",
      "Exception raised in Job[110]: AssertionError(LLM is not set)\n",
      "Exception raised in Job[111]: AssertionError(LLM is not set)\n",
      "Exception raised in Job[112]: AssertionError(LLM must be set)\n",
      "Exception raised in Job[113]: AssertionError(LLM is not set)\n",
      "Exception raised in Job[114]: AssertionError(LLM is not set)\n",
      "Exception raised in Job[115]: AssertionError(LLM must be set)\n",
      "Exception raised in Job[116]: AssertionError(LLM is not set)\n",
      "Exception raised in Job[117]: AssertionError(LLM is not set)\n",
      "Exception raised in Job[118]: AssertionError(LLM must be set)\n",
      "Exception raised in Job[119]: AssertionError(LLM is not set)\n",
      "Exception raised in Job[120]: AssertionError(LLM is not set)\n",
      "Exception raised in Job[121]: AssertionError(LLM must be set)\n",
      "Exception raised in Job[122]: AssertionError(LLM is not set)\n",
      "Exception raised in Job[123]: AssertionError(LLM is not set)\n",
      "Exception raised in Job[124]: AssertionError(LLM must be set)\n",
      "Exception raised in Job[125]: AssertionError(LLM is not set)\n",
      "Exception raised in Job[126]: AssertionError(LLM is not set)\n",
      "Exception raised in Job[127]: AssertionError(LLM must be set)\n",
      "Exception raised in Job[128]: AssertionError(LLM is not set)\n",
      "Exception raised in Job[129]: AssertionError(LLM is not set)\n",
      "Exception raised in Job[130]: AssertionError(LLM must be set)\n",
      "Exception raised in Job[131]: AssertionError(LLM is not set)\n",
      "Exception raised in Job[132]: AssertionError(LLM is not set)\n",
      "Exception raised in Job[133]: AssertionError(LLM must be set)\n",
      "Exception raised in Job[134]: AssertionError(LLM is not set)\n",
      "Exception raised in Job[135]: AssertionError(LLM is not set)\n",
      "Exception raised in Job[136]: AssertionError(LLM must be set)\n",
      "Exception raised in Job[137]: AssertionError(LLM is not set)\n",
      "Exception raised in Job[138]: AssertionError(LLM is not set)\n",
      "Exception raised in Job[139]: AssertionError(LLM must be set)\n",
      "Exception raised in Job[140]: AssertionError(LLM is not set)\n",
      "Exception raised in Job[141]: AssertionError(LLM is not set)\n",
      "Exception raised in Job[142]: AssertionError(LLM must be set)\n",
      "Exception raised in Job[143]: AssertionError(LLM is not set)\n",
      "Exception raised in Job[144]: AssertionError(LLM is not set)\n",
      "Exception raised in Job[145]: AssertionError(LLM must be set)\n",
      "Exception raised in Job[146]: AssertionError(LLM is not set)\n",
      "Exception raised in Job[147]: AssertionError(LLM is not set)\n",
      "Exception raised in Job[148]: AssertionError(LLM must be set)\n",
      "Exception raised in Job[149]: AssertionError(LLM is not set)\n",
      "Exception raised in Job[22]: AttributeError('NoneType' object has no attribute 'generate')\n",
      "Exception raised in Job[37]: AttributeError('NoneType' object has no attribute 'generate')\n",
      "Exception raised in Job[33]: AssertionError(llm must be set to compute score)\n",
      "Exception raised in Job[24]: TimeoutError()\n",
      "Exception raised in Job[25]: TimeoutError()\n",
      "Exception raised in Job[27]: TimeoutError()\n",
      "Exception raised in Job[28]: TimeoutError()\n",
      "Exception raised in Job[29]: TimeoutError()\n",
      "Exception raised in Job[30]: TimeoutError()\n",
      "Exception raised in Job[31]: TimeoutError()\n",
      "Exception raised in Job[34]: TimeoutError()\n",
      "Exception raised in Job[35]: TimeoutError()\n",
      "Exception raised in Job[38]: TimeoutError()\n"
     ]
    }
   ],
   "source": [
    "df_result_cosmos_B = pd.DataFrame(columns=[\"model\", \"location\", \"faithfulness\",\"answer_correctness\",\"answer_relevancy\"])\n",
    "\n",
    "for i in range(len(output_names_cosmos)):\n",
    "    sonuclar = pd.read_csv(output_names_cosmos[i])\n",
    "    sonuclar['contexts'] = sonuclar['contexts'].apply(lambda x: [x])\n",
    "\n",
    "    dataset = Dataset.from_pandas(sonuclar)\n",
    "    result = evaluate(dataset,\n",
    "                  metrics=[\n",
    "        faithfulness,\n",
    "        answer_correctness,\n",
    "        answer_relevancy],llm=evaluator_llm, embeddings=evaluator_embeddings)\n",
    "    \n",
    "\n",
    "    yeni_satir = pd.DataFrame({'model': [\"cosmos-dpo\"], 'location': [location_B[i]], \n",
    "                           'faithfulness': [round(pd.Series(result[\"faithfulness\"]).mean(),4)],\n",
    "                           'answer_correctness': [round(pd.Series(result[\"answer_correctness\"]).mean(),4)],\n",
    "                           'answer_relevancy': [round(pd.Series(result[\"answer_relevancy\"]).mean(),4)]})\n",
    "\n",
    "    df_result_cosmos_B = pd.concat([df_result_cosmos_B, yeni_satir], ignore_index=True)\n",
    "\n",
    "    result.to_pandas().to_csv(\"RagasResult---\"+\"cosmos-dpo\"+\"-\"+location_B[i]+\".csv\", index=False)\n",
    "\n",
    "    print(location_B[i])\n",
    "    print(result)\n",
    "    print(\"\\n\")\n",
    "\n",
    "df_result_cosmos_B.to_csv(\"OverallResult---\"+\"cosmos-dpo-for-question-B.csv\", index=False)"
   ]
  },
  {
   "cell_type": "code",
   "execution_count": 44,
   "metadata": {},
   "outputs": [],
   "source": [
    "df_result_cosmos_B.to_csv(\"OverallResult---\"+\"cosmos-dpo-for-question-B-1.csv\", index=False)"
   ]
  },
  {
   "cell_type": "code",
   "execution_count": 49,
   "metadata": {},
   "outputs": [
    {
     "name": "stderr",
     "output_type": "stream",
     "text": [
      "Evaluating: 100%|██████████| 150/150 [01:38<00:00,  1.52it/s]\n",
      "C:\\Users\\gorke\\AppData\\Local\\Temp\\ipykernel_15516\\950029404.py:21: FutureWarning: The behavior of DataFrame concatenation with empty or all-NA entries is deprecated. In a future version, this will no longer exclude empty or all-NA columns when determining the result dtypes. To retain the old behavior, exclude the relevant entries before the concat operation.\n",
      "  df_result_cosmos_B = pd.concat([df_result_cosmos_B, yeni_satir], ignore_index=True)\n"
     ]
    },
    {
     "name": "stdout",
     "output_type": "stream",
     "text": [
      "B-3\n",
      "{'faithfulness': 0.7787, 'answer_correctness': 0.6487, 'answer_relevancy': 0.7228}\n",
      "\n",
      "\n"
     ]
    },
    {
     "name": "stderr",
     "output_type": "stream",
     "text": [
      "Evaluating: 100%|██████████| 150/150 [01:44<00:00,  1.44it/s]\n"
     ]
    },
    {
     "name": "stdout",
     "output_type": "stream",
     "text": [
      "B-4\n",
      "{'faithfulness': 0.7943, 'answer_correctness': 0.6485, 'answer_relevancy': 0.7427}\n",
      "\n",
      "\n"
     ]
    },
    {
     "name": "stderr",
     "output_type": "stream",
     "text": [
      "Evaluating: 100%|██████████| 150/150 [01:26<00:00,  1.74it/s]\n"
     ]
    },
    {
     "name": "stdout",
     "output_type": "stream",
     "text": [
      "B-5\n",
      "{'faithfulness': 0.8000, 'answer_correctness': 0.6398, 'answer_relevancy': 0.7580}\n",
      "\n",
      "\n"
     ]
    },
    {
     "name": "stderr",
     "output_type": "stream",
     "text": [
      "Evaluating: 100%|██████████| 150/150 [03:11<00:00,  1.28s/it]\n"
     ]
    },
    {
     "name": "stdout",
     "output_type": "stream",
     "text": [
      "B-6\n",
      "{'faithfulness': 0.8236, 'answer_correctness': 0.6546, 'answer_relevancy': 0.7558}\n",
      "\n",
      "\n"
     ]
    },
    {
     "name": "stderr",
     "output_type": "stream",
     "text": [
      "Evaluating:   0%|          | 0/150 [00:45<?, ?it/s]\n"
     ]
    },
    {
     "ename": "KeyboardInterrupt",
     "evalue": "",
     "output_type": "error",
     "traceback": [
      "\u001b[1;31m---------------------------------------------------------------------------\u001b[0m",
      "\u001b[1;31mKeyboardInterrupt\u001b[0m                         Traceback (most recent call last)",
      "Cell \u001b[1;32mIn[49], line 9\u001b[0m\n\u001b[0;32m      6\u001b[0m sonuclar[\u001b[38;5;124m'\u001b[39m\u001b[38;5;124mcontexts\u001b[39m\u001b[38;5;124m'\u001b[39m] \u001b[38;5;241m=\u001b[39m sonuclar[\u001b[38;5;124m'\u001b[39m\u001b[38;5;124mcontexts\u001b[39m\u001b[38;5;124m'\u001b[39m]\u001b[38;5;241m.\u001b[39mapply(\u001b[38;5;28;01mlambda\u001b[39;00m x: [x])\n\u001b[0;32m      8\u001b[0m dataset \u001b[38;5;241m=\u001b[39m Dataset\u001b[38;5;241m.\u001b[39mfrom_pandas(sonuclar)\n\u001b[1;32m----> 9\u001b[0m result \u001b[38;5;241m=\u001b[39m \u001b[43mevaluate\u001b[49m\u001b[43m(\u001b[49m\u001b[43mdataset\u001b[49m\u001b[43m,\u001b[49m\n\u001b[0;32m     10\u001b[0m \u001b[43m              \u001b[49m\u001b[43mmetrics\u001b[49m\u001b[38;5;241;43m=\u001b[39;49m\u001b[43m[\u001b[49m\n\u001b[0;32m     11\u001b[0m \u001b[43m    \u001b[49m\u001b[43mfaithfulness\u001b[49m\u001b[43m,\u001b[49m\n\u001b[0;32m     12\u001b[0m \u001b[43m    \u001b[49m\u001b[43manswer_correctness\u001b[49m\u001b[43m,\u001b[49m\n\u001b[0;32m     13\u001b[0m \u001b[43m    \u001b[49m\u001b[43manswer_relevancy\u001b[49m\u001b[43m]\u001b[49m\u001b[43m,\u001b[49m\u001b[43mllm\u001b[49m\u001b[38;5;241;43m=\u001b[39;49m\u001b[43mevaluator_llm\u001b[49m\u001b[43m,\u001b[49m\u001b[43m \u001b[49m\u001b[43membeddings\u001b[49m\u001b[38;5;241;43m=\u001b[39;49m\u001b[43mevaluator_embeddings\u001b[49m\u001b[43m)\u001b[49m\n\u001b[0;32m     16\u001b[0m yeni_satir \u001b[38;5;241m=\u001b[39m pd\u001b[38;5;241m.\u001b[39mDataFrame({\u001b[38;5;124m'\u001b[39m\u001b[38;5;124mmodel\u001b[39m\u001b[38;5;124m'\u001b[39m: [\u001b[38;5;124m\"\u001b[39m\u001b[38;5;124mcosmos-dpo\u001b[39m\u001b[38;5;124m\"\u001b[39m], \u001b[38;5;124m'\u001b[39m\u001b[38;5;124mlocation\u001b[39m\u001b[38;5;124m'\u001b[39m: [location_B[i]], \n\u001b[0;32m     17\u001b[0m                        \u001b[38;5;124m'\u001b[39m\u001b[38;5;124mfaithfulness\u001b[39m\u001b[38;5;124m'\u001b[39m: [\u001b[38;5;28mround\u001b[39m(pd\u001b[38;5;241m.\u001b[39mSeries(result[\u001b[38;5;124m\"\u001b[39m\u001b[38;5;124mfaithfulness\u001b[39m\u001b[38;5;124m\"\u001b[39m])\u001b[38;5;241m.\u001b[39mmean(),\u001b[38;5;241m4\u001b[39m)],\n\u001b[0;32m     18\u001b[0m                        \u001b[38;5;124m'\u001b[39m\u001b[38;5;124manswer_correctness\u001b[39m\u001b[38;5;124m'\u001b[39m: [\u001b[38;5;28mround\u001b[39m(pd\u001b[38;5;241m.\u001b[39mSeries(result[\u001b[38;5;124m\"\u001b[39m\u001b[38;5;124manswer_correctness\u001b[39m\u001b[38;5;124m\"\u001b[39m])\u001b[38;5;241m.\u001b[39mmean(),\u001b[38;5;241m4\u001b[39m)],\n\u001b[0;32m     19\u001b[0m                        \u001b[38;5;124m'\u001b[39m\u001b[38;5;124manswer_relevancy\u001b[39m\u001b[38;5;124m'\u001b[39m: [\u001b[38;5;28mround\u001b[39m(pd\u001b[38;5;241m.\u001b[39mSeries(result[\u001b[38;5;124m\"\u001b[39m\u001b[38;5;124manswer_relevancy\u001b[39m\u001b[38;5;124m\"\u001b[39m])\u001b[38;5;241m.\u001b[39mmean(),\u001b[38;5;241m4\u001b[39m)]})\n\u001b[0;32m     21\u001b[0m df_result_cosmos_B \u001b[38;5;241m=\u001b[39m pd\u001b[38;5;241m.\u001b[39mconcat([df_result_cosmos_B, yeni_satir], ignore_index\u001b[38;5;241m=\u001b[39m\u001b[38;5;28;01mTrue\u001b[39;00m)\n",
      "File \u001b[1;32mc:\\Users\\gorke\\anaconda3\\envs\\odevler\\Lib\\site-packages\\ragas\\_analytics.py:227\u001b[0m, in \u001b[0;36mtrack_was_completed.<locals>.wrapper\u001b[1;34m(*args, **kwargs)\u001b[0m\n\u001b[0;32m    224\u001b[0m \u001b[38;5;129m@wraps\u001b[39m(func)\n\u001b[0;32m    225\u001b[0m \u001b[38;5;28;01mdef\u001b[39;00m \u001b[38;5;21mwrapper\u001b[39m(\u001b[38;5;241m*\u001b[39margs: P\u001b[38;5;241m.\u001b[39margs, \u001b[38;5;241m*\u001b[39m\u001b[38;5;241m*\u001b[39mkwargs: P\u001b[38;5;241m.\u001b[39mkwargs) \u001b[38;5;241m-\u001b[39m\u001b[38;5;241m>\u001b[39m t\u001b[38;5;241m.\u001b[39mAny:\n\u001b[0;32m    226\u001b[0m     track(IsCompleteEvent(event_type\u001b[38;5;241m=\u001b[39mfunc\u001b[38;5;241m.\u001b[39m\u001b[38;5;18m__name__\u001b[39m, is_completed\u001b[38;5;241m=\u001b[39m\u001b[38;5;28;01mFalse\u001b[39;00m))\n\u001b[1;32m--> 227\u001b[0m     result \u001b[38;5;241m=\u001b[39m \u001b[43mfunc\u001b[49m\u001b[43m(\u001b[49m\u001b[38;5;241;43m*\u001b[39;49m\u001b[43margs\u001b[49m\u001b[43m,\u001b[49m\u001b[43m \u001b[49m\u001b[38;5;241;43m*\u001b[39;49m\u001b[38;5;241;43m*\u001b[39;49m\u001b[43mkwargs\u001b[49m\u001b[43m)\u001b[49m\n\u001b[0;32m    228\u001b[0m     track(IsCompleteEvent(event_type\u001b[38;5;241m=\u001b[39mfunc\u001b[38;5;241m.\u001b[39m\u001b[38;5;18m__name__\u001b[39m, is_completed\u001b[38;5;241m=\u001b[39m\u001b[38;5;28;01mTrue\u001b[39;00m))\n\u001b[0;32m    230\u001b[0m     \u001b[38;5;28;01mreturn\u001b[39;00m result\n",
      "File \u001b[1;32mc:\\Users\\gorke\\anaconda3\\envs\\odevler\\Lib\\site-packages\\ragas\\evaluation.py:298\u001b[0m, in \u001b[0;36mevaluate\u001b[1;34m(dataset, metrics, llm, embeddings, experiment_name, callbacks, run_config, token_usage_parser, raise_exceptions, column_map, show_progress, batch_size, _run_id, _pbar)\u001b[0m\n\u001b[0;32m    295\u001b[0m scores: t\u001b[38;5;241m.\u001b[39mList[t\u001b[38;5;241m.\u001b[39mDict[\u001b[38;5;28mstr\u001b[39m, t\u001b[38;5;241m.\u001b[39mAny]] \u001b[38;5;241m=\u001b[39m []\n\u001b[0;32m    296\u001b[0m \u001b[38;5;28;01mtry\u001b[39;00m:\n\u001b[0;32m    297\u001b[0m     \u001b[38;5;66;03m# get the results\u001b[39;00m\n\u001b[1;32m--> 298\u001b[0m     results \u001b[38;5;241m=\u001b[39m \u001b[43mexecutor\u001b[49m\u001b[38;5;241;43m.\u001b[39;49m\u001b[43mresults\u001b[49m\u001b[43m(\u001b[49m\u001b[43m)\u001b[49m\n\u001b[0;32m    299\u001b[0m     \u001b[38;5;28;01mif\u001b[39;00m results \u001b[38;5;241m==\u001b[39m []:\n\u001b[0;32m    300\u001b[0m         \u001b[38;5;28;01mraise\u001b[39;00m ExceptionInRunner()\n",
      "File \u001b[1;32mc:\\Users\\gorke\\anaconda3\\envs\\odevler\\Lib\\site-packages\\ragas\\executor.py:213\u001b[0m, in \u001b[0;36mExecutor.results\u001b[1;34m(self)\u001b[0m\n\u001b[0;32m    210\u001b[0m             nest_asyncio\u001b[38;5;241m.\u001b[39mapply()\n\u001b[0;32m    211\u001b[0m             \u001b[38;5;28mself\u001b[39m\u001b[38;5;241m.\u001b[39m_nest_asyncio_applied \u001b[38;5;241m=\u001b[39m \u001b[38;5;28;01mTrue\u001b[39;00m\n\u001b[1;32m--> 213\u001b[0m results \u001b[38;5;241m=\u001b[39m \u001b[43masyncio\u001b[49m\u001b[38;5;241;43m.\u001b[39;49m\u001b[43mrun\u001b[49m\u001b[43m(\u001b[49m\u001b[38;5;28;43mself\u001b[39;49m\u001b[38;5;241;43m.\u001b[39;49m\u001b[43m_process_jobs\u001b[49m\u001b[43m(\u001b[49m\u001b[43m)\u001b[49m\u001b[43m)\u001b[49m\n\u001b[0;32m    214\u001b[0m sorted_results \u001b[38;5;241m=\u001b[39m \u001b[38;5;28msorted\u001b[39m(results, key\u001b[38;5;241m=\u001b[39m\u001b[38;5;28;01mlambda\u001b[39;00m x: x[\u001b[38;5;241m0\u001b[39m])\n\u001b[0;32m    215\u001b[0m \u001b[38;5;28;01mreturn\u001b[39;00m [r[\u001b[38;5;241m1\u001b[39m] \u001b[38;5;28;01mfor\u001b[39;00m r \u001b[38;5;129;01min\u001b[39;00m sorted_results]\n",
      "File \u001b[1;32mc:\\Users\\gorke\\anaconda3\\envs\\odevler\\Lib\\site-packages\\nest_asyncio.py:30\u001b[0m, in \u001b[0;36m_patch_asyncio.<locals>.run\u001b[1;34m(main, debug)\u001b[0m\n\u001b[0;32m     28\u001b[0m task \u001b[38;5;241m=\u001b[39m asyncio\u001b[38;5;241m.\u001b[39mensure_future(main)\n\u001b[0;32m     29\u001b[0m \u001b[38;5;28;01mtry\u001b[39;00m:\n\u001b[1;32m---> 30\u001b[0m     \u001b[38;5;28;01mreturn\u001b[39;00m \u001b[43mloop\u001b[49m\u001b[38;5;241;43m.\u001b[39;49m\u001b[43mrun_until_complete\u001b[49m\u001b[43m(\u001b[49m\u001b[43mtask\u001b[49m\u001b[43m)\u001b[49m\n\u001b[0;32m     31\u001b[0m \u001b[38;5;28;01mfinally\u001b[39;00m:\n\u001b[0;32m     32\u001b[0m     \u001b[38;5;28;01mif\u001b[39;00m \u001b[38;5;129;01mnot\u001b[39;00m task\u001b[38;5;241m.\u001b[39mdone():\n",
      "File \u001b[1;32mc:\\Users\\gorke\\anaconda3\\envs\\odevler\\Lib\\site-packages\\nest_asyncio.py:92\u001b[0m, in \u001b[0;36m_patch_loop.<locals>.run_until_complete\u001b[1;34m(self, future)\u001b[0m\n\u001b[0;32m     90\u001b[0m     f\u001b[38;5;241m.\u001b[39m_log_destroy_pending \u001b[38;5;241m=\u001b[39m \u001b[38;5;28;01mFalse\u001b[39;00m\n\u001b[0;32m     91\u001b[0m \u001b[38;5;28;01mwhile\u001b[39;00m \u001b[38;5;129;01mnot\u001b[39;00m f\u001b[38;5;241m.\u001b[39mdone():\n\u001b[1;32m---> 92\u001b[0m     \u001b[38;5;28;43mself\u001b[39;49m\u001b[38;5;241;43m.\u001b[39;49m\u001b[43m_run_once\u001b[49m\u001b[43m(\u001b[49m\u001b[43m)\u001b[49m\n\u001b[0;32m     93\u001b[0m     \u001b[38;5;28;01mif\u001b[39;00m \u001b[38;5;28mself\u001b[39m\u001b[38;5;241m.\u001b[39m_stopping:\n\u001b[0;32m     94\u001b[0m         \u001b[38;5;28;01mbreak\u001b[39;00m\n",
      "File \u001b[1;32mc:\\Users\\gorke\\anaconda3\\envs\\odevler\\Lib\\site-packages\\nest_asyncio.py:115\u001b[0m, in \u001b[0;36m_patch_loop.<locals>._run_once\u001b[1;34m(self)\u001b[0m\n\u001b[0;32m    108\u001b[0m     heappop(scheduled)\n\u001b[0;32m    110\u001b[0m timeout \u001b[38;5;241m=\u001b[39m (\n\u001b[0;32m    111\u001b[0m     \u001b[38;5;241m0\u001b[39m \u001b[38;5;28;01mif\u001b[39;00m ready \u001b[38;5;129;01mor\u001b[39;00m \u001b[38;5;28mself\u001b[39m\u001b[38;5;241m.\u001b[39m_stopping\n\u001b[0;32m    112\u001b[0m     \u001b[38;5;28;01melse\u001b[39;00m \u001b[38;5;28mmin\u001b[39m(\u001b[38;5;28mmax\u001b[39m(\n\u001b[0;32m    113\u001b[0m         scheduled[\u001b[38;5;241m0\u001b[39m]\u001b[38;5;241m.\u001b[39m_when \u001b[38;5;241m-\u001b[39m \u001b[38;5;28mself\u001b[39m\u001b[38;5;241m.\u001b[39mtime(), \u001b[38;5;241m0\u001b[39m), \u001b[38;5;241m86400\u001b[39m) \u001b[38;5;28;01mif\u001b[39;00m scheduled\n\u001b[0;32m    114\u001b[0m     \u001b[38;5;28;01melse\u001b[39;00m \u001b[38;5;28;01mNone\u001b[39;00m)\n\u001b[1;32m--> 115\u001b[0m event_list \u001b[38;5;241m=\u001b[39m \u001b[38;5;28;43mself\u001b[39;49m\u001b[38;5;241;43m.\u001b[39;49m\u001b[43m_selector\u001b[49m\u001b[38;5;241;43m.\u001b[39;49m\u001b[43mselect\u001b[49m\u001b[43m(\u001b[49m\u001b[43mtimeout\u001b[49m\u001b[43m)\u001b[49m\n\u001b[0;32m    116\u001b[0m \u001b[38;5;28mself\u001b[39m\u001b[38;5;241m.\u001b[39m_process_events(event_list)\n\u001b[0;32m    118\u001b[0m end_time \u001b[38;5;241m=\u001b[39m \u001b[38;5;28mself\u001b[39m\u001b[38;5;241m.\u001b[39mtime() \u001b[38;5;241m+\u001b[39m \u001b[38;5;28mself\u001b[39m\u001b[38;5;241m.\u001b[39m_clock_resolution\n",
      "File \u001b[1;32mc:\\Users\\gorke\\anaconda3\\envs\\odevler\\Lib\\selectors.py:323\u001b[0m, in \u001b[0;36mSelectSelector.select\u001b[1;34m(self, timeout)\u001b[0m\n\u001b[0;32m    321\u001b[0m ready \u001b[38;5;241m=\u001b[39m []\n\u001b[0;32m    322\u001b[0m \u001b[38;5;28;01mtry\u001b[39;00m:\n\u001b[1;32m--> 323\u001b[0m     r, w, _ \u001b[38;5;241m=\u001b[39m \u001b[38;5;28;43mself\u001b[39;49m\u001b[38;5;241;43m.\u001b[39;49m\u001b[43m_select\u001b[49m\u001b[43m(\u001b[49m\u001b[38;5;28;43mself\u001b[39;49m\u001b[38;5;241;43m.\u001b[39;49m\u001b[43m_readers\u001b[49m\u001b[43m,\u001b[49m\u001b[43m \u001b[49m\u001b[38;5;28;43mself\u001b[39;49m\u001b[38;5;241;43m.\u001b[39;49m\u001b[43m_writers\u001b[49m\u001b[43m,\u001b[49m\u001b[43m \u001b[49m\u001b[43m[\u001b[49m\u001b[43m]\u001b[49m\u001b[43m,\u001b[49m\u001b[43m \u001b[49m\u001b[43mtimeout\u001b[49m\u001b[43m)\u001b[49m\n\u001b[0;32m    324\u001b[0m \u001b[38;5;28;01mexcept\u001b[39;00m \u001b[38;5;167;01mInterruptedError\u001b[39;00m:\n\u001b[0;32m    325\u001b[0m     \u001b[38;5;28;01mreturn\u001b[39;00m ready\n",
      "File \u001b[1;32mc:\\Users\\gorke\\anaconda3\\envs\\odevler\\Lib\\selectors.py:314\u001b[0m, in \u001b[0;36mSelectSelector._select\u001b[1;34m(self, r, w, _, timeout)\u001b[0m\n\u001b[0;32m    313\u001b[0m \u001b[38;5;28;01mdef\u001b[39;00m \u001b[38;5;21m_select\u001b[39m(\u001b[38;5;28mself\u001b[39m, r, w, _, timeout\u001b[38;5;241m=\u001b[39m\u001b[38;5;28;01mNone\u001b[39;00m):\n\u001b[1;32m--> 314\u001b[0m     r, w, x \u001b[38;5;241m=\u001b[39m \u001b[43mselect\u001b[49m\u001b[38;5;241;43m.\u001b[39;49m\u001b[43mselect\u001b[49m\u001b[43m(\u001b[49m\u001b[43mr\u001b[49m\u001b[43m,\u001b[49m\u001b[43m \u001b[49m\u001b[43mw\u001b[49m\u001b[43m,\u001b[49m\u001b[43m \u001b[49m\u001b[43mw\u001b[49m\u001b[43m,\u001b[49m\u001b[43m \u001b[49m\u001b[43mtimeout\u001b[49m\u001b[43m)\u001b[49m\n\u001b[0;32m    315\u001b[0m     \u001b[38;5;28;01mreturn\u001b[39;00m r, w \u001b[38;5;241m+\u001b[39m x, []\n",
      "\u001b[1;31mKeyboardInterrupt\u001b[0m: "
     ]
    },
    {
     "name": "stderr",
     "output_type": "stream",
     "text": [
      "Exception raised in Job[12]: AssertionError(llm must be set to compute score)\n",
      "Exception raised in Job[16]: AssertionError(LLM must be set)\n",
      "Exception raised in Job[17]: AssertionError(LLM is not set)\n",
      "Exception raised in Job[18]: AssertionError(LLM is not set)\n",
      "Exception raised in Job[19]: AssertionError(LLM must be set)\n",
      "Exception raised in Job[20]: AssertionError(LLM is not set)\n",
      "Exception raised in Job[21]: AssertionError(LLM is not set)\n",
      "Exception raised in Job[22]: AssertionError(LLM must be set)\n",
      "Exception raised in Job[23]: AssertionError(LLM is not set)\n",
      "Exception raised in Job[24]: AssertionError(LLM is not set)\n",
      "Exception raised in Job[25]: AssertionError(LLM must be set)\n",
      "Exception raised in Job[26]: AssertionError(LLM is not set)\n",
      "Exception raised in Job[27]: AssertionError(LLM is not set)\n",
      "Exception raised in Job[28]: AssertionError(LLM must be set)\n",
      "Exception raised in Job[29]: AssertionError(LLM is not set)\n",
      "Exception raised in Job[30]: AssertionError(LLM is not set)\n",
      "Exception raised in Job[31]: AssertionError(LLM must be set)\n",
      "Exception raised in Job[32]: AssertionError(LLM is not set)\n",
      "Exception raised in Job[33]: AssertionError(LLM is not set)\n",
      "Exception raised in Job[34]: AssertionError(LLM must be set)\n",
      "Exception raised in Job[35]: AssertionError(LLM is not set)\n",
      "Exception raised in Job[36]: AssertionError(LLM is not set)\n",
      "Exception raised in Job[37]: AssertionError(LLM must be set)\n",
      "Exception raised in Job[38]: AssertionError(LLM is not set)\n",
      "Exception raised in Job[39]: AssertionError(LLM is not set)\n",
      "Exception raised in Job[40]: AssertionError(LLM must be set)\n",
      "Exception raised in Job[41]: AssertionError(LLM is not set)\n",
      "Exception raised in Job[42]: AssertionError(LLM is not set)\n",
      "Exception raised in Job[43]: AssertionError(LLM must be set)\n",
      "Exception raised in Job[44]: AssertionError(LLM is not set)\n",
      "Exception raised in Job[45]: AssertionError(LLM is not set)\n",
      "Exception raised in Job[46]: AssertionError(LLM must be set)\n",
      "Exception raised in Job[47]: AssertionError(LLM is not set)\n",
      "Exception raised in Job[48]: AssertionError(LLM is not set)\n",
      "Exception raised in Job[49]: AssertionError(LLM must be set)\n",
      "Exception raised in Job[50]: AssertionError(LLM is not set)\n",
      "Exception raised in Job[51]: AssertionError(LLM is not set)\n",
      "Exception raised in Job[52]: AssertionError(LLM must be set)\n",
      "Exception raised in Job[53]: AssertionError(LLM is not set)\n",
      "Exception raised in Job[54]: AssertionError(LLM is not set)\n",
      "Exception raised in Job[55]: AssertionError(LLM must be set)\n",
      "Exception raised in Job[56]: AssertionError(LLM is not set)\n",
      "Exception raised in Job[57]: AssertionError(LLM is not set)\n",
      "Exception raised in Job[58]: AssertionError(LLM must be set)\n",
      "Exception raised in Job[59]: AssertionError(LLM is not set)\n",
      "Exception raised in Job[60]: AssertionError(LLM is not set)\n",
      "Exception raised in Job[61]: AssertionError(LLM must be set)\n",
      "Exception raised in Job[62]: AssertionError(LLM is not set)\n",
      "Exception raised in Job[63]: AssertionError(LLM is not set)\n",
      "Exception raised in Job[64]: AssertionError(LLM must be set)\n",
      "Exception raised in Job[65]: AssertionError(LLM is not set)\n",
      "Exception raised in Job[66]: AssertionError(LLM is not set)\n",
      "Exception raised in Job[67]: AssertionError(LLM must be set)\n",
      "Exception raised in Job[68]: AssertionError(LLM is not set)\n",
      "Exception raised in Job[69]: AssertionError(LLM is not set)\n",
      "Exception raised in Job[70]: AssertionError(LLM must be set)\n",
      "Exception raised in Job[71]: AssertionError(LLM is not set)\n",
      "Exception raised in Job[72]: AssertionError(LLM is not set)\n",
      "Exception raised in Job[73]: AssertionError(LLM must be set)\n",
      "Exception raised in Job[74]: AssertionError(LLM is not set)\n",
      "Exception raised in Job[75]: AssertionError(LLM is not set)\n",
      "Exception raised in Job[76]: AssertionError(LLM must be set)\n",
      "Exception raised in Job[77]: AssertionError(LLM is not set)\n",
      "Exception raised in Job[78]: AssertionError(LLM is not set)\n",
      "Exception raised in Job[79]: AssertionError(LLM must be set)\n",
      "Exception raised in Job[80]: AssertionError(LLM is not set)\n",
      "Exception raised in Job[81]: AssertionError(LLM is not set)\n",
      "Exception raised in Job[82]: AssertionError(LLM must be set)\n",
      "Exception raised in Job[83]: AssertionError(LLM is not set)\n",
      "Exception raised in Job[84]: AssertionError(LLM is not set)\n",
      "Exception raised in Job[85]: AssertionError(LLM must be set)\n",
      "Exception raised in Job[86]: AssertionError(LLM is not set)\n",
      "Exception raised in Job[87]: AssertionError(LLM is not set)\n",
      "Exception raised in Job[88]: AssertionError(LLM must be set)\n",
      "Exception raised in Job[89]: AssertionError(LLM is not set)\n",
      "Exception raised in Job[90]: AssertionError(LLM is not set)\n",
      "Exception raised in Job[91]: AssertionError(LLM must be set)\n",
      "Exception raised in Job[92]: AssertionError(LLM is not set)\n",
      "Exception raised in Job[93]: AssertionError(LLM is not set)\n",
      "Exception raised in Job[94]: AssertionError(LLM must be set)\n",
      "Exception raised in Job[95]: AssertionError(LLM is not set)\n",
      "Exception raised in Job[96]: AssertionError(LLM is not set)\n",
      "Exception raised in Job[97]: AssertionError(LLM must be set)\n",
      "Exception raised in Job[98]: AssertionError(LLM is not set)\n",
      "Exception raised in Job[99]: AssertionError(LLM is not set)\n",
      "Exception raised in Job[100]: AssertionError(LLM must be set)\n",
      "Exception raised in Job[101]: AssertionError(LLM is not set)\n",
      "Exception raised in Job[102]: AssertionError(LLM is not set)\n",
      "Exception raised in Job[103]: AssertionError(LLM must be set)\n",
      "Exception raised in Job[104]: AssertionError(LLM is not set)\n",
      "Exception raised in Job[105]: AssertionError(LLM is not set)\n",
      "Exception raised in Job[106]: AssertionError(LLM must be set)\n",
      "Exception raised in Job[107]: AssertionError(LLM is not set)\n",
      "Exception raised in Job[108]: AssertionError(LLM is not set)\n",
      "Exception raised in Job[109]: AssertionError(LLM must be set)\n",
      "Exception raised in Job[110]: AssertionError(LLM is not set)\n",
      "Exception raised in Job[111]: AssertionError(LLM is not set)\n",
      "Exception raised in Job[112]: AssertionError(LLM must be set)\n",
      "Exception raised in Job[113]: AssertionError(LLM is not set)\n",
      "Exception raised in Job[114]: AssertionError(LLM is not set)\n",
      "Exception raised in Job[115]: AssertionError(LLM must be set)\n",
      "Exception raised in Job[116]: AssertionError(LLM is not set)\n",
      "Exception raised in Job[117]: AssertionError(LLM is not set)\n",
      "Exception raised in Job[118]: AssertionError(LLM must be set)\n",
      "Exception raised in Job[119]: AssertionError(LLM is not set)\n",
      "Exception raised in Job[120]: AssertionError(LLM is not set)\n",
      "Exception raised in Job[121]: AssertionError(LLM must be set)\n",
      "Exception raised in Job[122]: AssertionError(LLM is not set)\n",
      "Exception raised in Job[123]: AssertionError(LLM is not set)\n",
      "Exception raised in Job[124]: AssertionError(LLM must be set)\n",
      "Exception raised in Job[125]: AssertionError(LLM is not set)\n",
      "Exception raised in Job[126]: AssertionError(LLM is not set)\n",
      "Exception raised in Job[127]: AssertionError(LLM must be set)\n",
      "Exception raised in Job[128]: AssertionError(LLM is not set)\n",
      "Exception raised in Job[129]: AssertionError(LLM is not set)\n",
      "Exception raised in Job[130]: AssertionError(LLM must be set)\n",
      "Exception raised in Job[131]: AssertionError(LLM is not set)\n",
      "Exception raised in Job[132]: AssertionError(LLM is not set)\n",
      "Exception raised in Job[133]: AssertionError(LLM must be set)\n",
      "Exception raised in Job[134]: AssertionError(LLM is not set)\n",
      "Exception raised in Job[135]: AssertionError(LLM is not set)\n",
      "Exception raised in Job[136]: AssertionError(LLM must be set)\n",
      "Exception raised in Job[137]: AssertionError(LLM is not set)\n",
      "Exception raised in Job[138]: AssertionError(LLM is not set)\n",
      "Exception raised in Job[139]: AssertionError(LLM must be set)\n",
      "Exception raised in Job[140]: AssertionError(LLM is not set)\n",
      "Exception raised in Job[141]: AssertionError(LLM is not set)\n",
      "Exception raised in Job[142]: AssertionError(LLM must be set)\n",
      "Exception raised in Job[143]: AssertionError(LLM is not set)\n",
      "Exception raised in Job[144]: AssertionError(LLM is not set)\n",
      "Exception raised in Job[145]: AssertionError(LLM must be set)\n",
      "Exception raised in Job[146]: AssertionError(LLM is not set)\n",
      "Exception raised in Job[147]: AssertionError(LLM is not set)\n",
      "Exception raised in Job[148]: AssertionError(LLM must be set)\n",
      "Exception raised in Job[149]: AssertionError(LLM is not set)\n",
      "Exception raised in Job[2]: AssertionError()\n",
      "Exception raised in Job[8]: AssertionError()\n",
      "Exception raised in Job[9]: AssertionError(llm must be set to compute score)\n",
      "Exception raised in Job[14]: AssertionError()\n",
      "Exception raised in Job[1]: AssertionError(llm is not set)\n",
      "Exception raised in Job[4]: AssertionError(llm is not set)\n",
      "Exception raised in Job[5]: AssertionError()\n",
      "Exception raised in Job[10]: AssertionError(llm is not set)\n",
      "Exception raised in Job[7]: AssertionError(llm is not set)\n",
      "Exception raised in Job[15]: TimeoutError()\n",
      "Exception raised in Job[3]: TimeoutError()\n",
      "Exception raised in Job[0]: TimeoutError()\n",
      "Exception raised in Job[11]: TimeoutError()\n",
      "Exception raised in Job[13]: TimeoutError()\n"
     ]
    }
   ],
   "source": [
    "df_result_cosmos_B = pd.DataFrame(columns=[\"model\", \"location\", \"faithfulness\",\"answer_correctness\",\"answer_relevancy\"])\n",
    "\n",
    "i=2\n",
    "while(i<len(output_names_cosmos)):\n",
    "    sonuclar = pd.read_csv(output_names_cosmos[i])\n",
    "    sonuclar['contexts'] = sonuclar['contexts'].apply(lambda x: [x])\n",
    "\n",
    "    dataset = Dataset.from_pandas(sonuclar)\n",
    "    result = evaluate(dataset,\n",
    "                  metrics=[\n",
    "        faithfulness,\n",
    "        answer_correctness,\n",
    "        answer_relevancy],llm=evaluator_llm, embeddings=evaluator_embeddings)\n",
    "    \n",
    "\n",
    "    yeni_satir = pd.DataFrame({'model': [\"cosmos-dpo\"], 'location': [location_B[i]], \n",
    "                           'faithfulness': [round(pd.Series(result[\"faithfulness\"]).mean(),4)],\n",
    "                           'answer_correctness': [round(pd.Series(result[\"answer_correctness\"]).mean(),4)],\n",
    "                           'answer_relevancy': [round(pd.Series(result[\"answer_relevancy\"]).mean(),4)]})\n",
    "\n",
    "    df_result_cosmos_B = pd.concat([df_result_cosmos_B, yeni_satir], ignore_index=True)\n",
    "\n",
    "    result.to_pandas().to_csv(\"RagasResult---\"+\"cosmos-dpo\"+\"-\"+location_B[i]+\".csv\", index=False)\n",
    "\n",
    "    print(location_B[i])\n",
    "    print(result)\n",
    "    print(\"\\n\")\n",
    "    i=i+1\n",
    "\n",
    "df_result_cosmos_B.to_csv(\"OverallResult---\"+\"cosmos-dpo-for-question-B-2.csv\", index=False)"
   ]
  },
  {
   "cell_type": "code",
   "execution_count": 50,
   "metadata": {},
   "outputs": [],
   "source": [
    "df_result_cosmos_B.to_csv(\"OverallResult---\"+\"cosmos-dpo-for-question-B-2.csv\", index=False)"
   ]
  },
  {
   "cell_type": "code",
   "execution_count": 51,
   "metadata": {},
   "outputs": [
    {
     "name": "stderr",
     "output_type": "stream",
     "text": [
      "Evaluating: 100%|██████████| 150/150 [01:34<00:00,  1.59it/s]\n",
      "C:\\Users\\gorke\\AppData\\Local\\Temp\\ipykernel_15516\\1754935533.py:21: FutureWarning: The behavior of DataFrame concatenation with empty or all-NA entries is deprecated. In a future version, this will no longer exclude empty or all-NA columns when determining the result dtypes. To retain the old behavior, exclude the relevant entries before the concat operation.\n",
      "  df_result_cosmos_B = pd.concat([df_result_cosmos_B, yeni_satir], ignore_index=True)\n"
     ]
    },
    {
     "name": "stdout",
     "output_type": "stream",
     "text": [
      "B-7\n",
      "{'faithfulness': 0.7957, 'answer_correctness': 0.6291, 'answer_relevancy': 0.7567}\n",
      "\n",
      "\n"
     ]
    },
    {
     "name": "stderr",
     "output_type": "stream",
     "text": [
      "Evaluating: 100%|██████████| 150/150 [01:27<00:00,  1.71it/s]\n"
     ]
    },
    {
     "name": "stdout",
     "output_type": "stream",
     "text": [
      "B-8\n",
      "{'faithfulness': 0.7970, 'answer_correctness': 0.6465, 'answer_relevancy': 0.7746}\n",
      "\n",
      "\n"
     ]
    },
    {
     "name": "stderr",
     "output_type": "stream",
     "text": [
      "Evaluating:  99%|█████████▉| 149/150 [04:10<00:13, 13.22s/it]Exception raised in Job[135]: TimeoutError()\n",
      "Evaluating: 100%|██████████| 150/150 [04:13<00:00,  1.69s/it]\n"
     ]
    },
    {
     "name": "stdout",
     "output_type": "stream",
     "text": [
      "B-9\n",
      "{'faithfulness': 0.7741, 'answer_correctness': 0.6562, 'answer_relevancy': 0.7206}\n",
      "\n",
      "\n"
     ]
    },
    {
     "name": "stderr",
     "output_type": "stream",
     "text": [
      "Evaluating:   1%|          | 1/150 [00:29<1:13:04, 29.42s/it]\n"
     ]
    },
    {
     "ename": "KeyboardInterrupt",
     "evalue": "",
     "output_type": "error",
     "traceback": [
      "\u001b[1;31m---------------------------------------------------------------------------\u001b[0m",
      "\u001b[1;31mKeyboardInterrupt\u001b[0m                         Traceback (most recent call last)",
      "Cell \u001b[1;32mIn[51], line 9\u001b[0m\n\u001b[0;32m      6\u001b[0m sonuclar[\u001b[38;5;124m'\u001b[39m\u001b[38;5;124mcontexts\u001b[39m\u001b[38;5;124m'\u001b[39m] \u001b[38;5;241m=\u001b[39m sonuclar[\u001b[38;5;124m'\u001b[39m\u001b[38;5;124mcontexts\u001b[39m\u001b[38;5;124m'\u001b[39m]\u001b[38;5;241m.\u001b[39mapply(\u001b[38;5;28;01mlambda\u001b[39;00m x: [x])\n\u001b[0;32m      8\u001b[0m dataset \u001b[38;5;241m=\u001b[39m Dataset\u001b[38;5;241m.\u001b[39mfrom_pandas(sonuclar)\n\u001b[1;32m----> 9\u001b[0m result \u001b[38;5;241m=\u001b[39m \u001b[43mevaluate\u001b[49m\u001b[43m(\u001b[49m\u001b[43mdataset\u001b[49m\u001b[43m,\u001b[49m\n\u001b[0;32m     10\u001b[0m \u001b[43m              \u001b[49m\u001b[43mmetrics\u001b[49m\u001b[38;5;241;43m=\u001b[39;49m\u001b[43m[\u001b[49m\n\u001b[0;32m     11\u001b[0m \u001b[43m    \u001b[49m\u001b[43mfaithfulness\u001b[49m\u001b[43m,\u001b[49m\n\u001b[0;32m     12\u001b[0m \u001b[43m    \u001b[49m\u001b[43manswer_correctness\u001b[49m\u001b[43m,\u001b[49m\n\u001b[0;32m     13\u001b[0m \u001b[43m    \u001b[49m\u001b[43manswer_relevancy\u001b[49m\u001b[43m]\u001b[49m\u001b[43m,\u001b[49m\u001b[43mllm\u001b[49m\u001b[38;5;241;43m=\u001b[39;49m\u001b[43mevaluator_llm\u001b[49m\u001b[43m,\u001b[49m\u001b[43m \u001b[49m\u001b[43membeddings\u001b[49m\u001b[38;5;241;43m=\u001b[39;49m\u001b[43mevaluator_embeddings\u001b[49m\u001b[43m)\u001b[49m\n\u001b[0;32m     16\u001b[0m yeni_satir \u001b[38;5;241m=\u001b[39m pd\u001b[38;5;241m.\u001b[39mDataFrame({\u001b[38;5;124m'\u001b[39m\u001b[38;5;124mmodel\u001b[39m\u001b[38;5;124m'\u001b[39m: [\u001b[38;5;124m\"\u001b[39m\u001b[38;5;124mcosmos-dpo\u001b[39m\u001b[38;5;124m\"\u001b[39m], \u001b[38;5;124m'\u001b[39m\u001b[38;5;124mlocation\u001b[39m\u001b[38;5;124m'\u001b[39m: [location_B[i]], \n\u001b[0;32m     17\u001b[0m                        \u001b[38;5;124m'\u001b[39m\u001b[38;5;124mfaithfulness\u001b[39m\u001b[38;5;124m'\u001b[39m: [\u001b[38;5;28mround\u001b[39m(pd\u001b[38;5;241m.\u001b[39mSeries(result[\u001b[38;5;124m\"\u001b[39m\u001b[38;5;124mfaithfulness\u001b[39m\u001b[38;5;124m\"\u001b[39m])\u001b[38;5;241m.\u001b[39mmean(),\u001b[38;5;241m4\u001b[39m)],\n\u001b[0;32m     18\u001b[0m                        \u001b[38;5;124m'\u001b[39m\u001b[38;5;124manswer_correctness\u001b[39m\u001b[38;5;124m'\u001b[39m: [\u001b[38;5;28mround\u001b[39m(pd\u001b[38;5;241m.\u001b[39mSeries(result[\u001b[38;5;124m\"\u001b[39m\u001b[38;5;124manswer_correctness\u001b[39m\u001b[38;5;124m\"\u001b[39m])\u001b[38;5;241m.\u001b[39mmean(),\u001b[38;5;241m4\u001b[39m)],\n\u001b[0;32m     19\u001b[0m                        \u001b[38;5;124m'\u001b[39m\u001b[38;5;124manswer_relevancy\u001b[39m\u001b[38;5;124m'\u001b[39m: [\u001b[38;5;28mround\u001b[39m(pd\u001b[38;5;241m.\u001b[39mSeries(result[\u001b[38;5;124m\"\u001b[39m\u001b[38;5;124manswer_relevancy\u001b[39m\u001b[38;5;124m\"\u001b[39m])\u001b[38;5;241m.\u001b[39mmean(),\u001b[38;5;241m4\u001b[39m)]})\n\u001b[0;32m     21\u001b[0m df_result_cosmos_B \u001b[38;5;241m=\u001b[39m pd\u001b[38;5;241m.\u001b[39mconcat([df_result_cosmos_B, yeni_satir], ignore_index\u001b[38;5;241m=\u001b[39m\u001b[38;5;28;01mTrue\u001b[39;00m)\n",
      "File \u001b[1;32mc:\\Users\\gorke\\anaconda3\\envs\\odevler\\Lib\\site-packages\\ragas\\_analytics.py:227\u001b[0m, in \u001b[0;36mtrack_was_completed.<locals>.wrapper\u001b[1;34m(*args, **kwargs)\u001b[0m\n\u001b[0;32m    224\u001b[0m \u001b[38;5;129m@wraps\u001b[39m(func)\n\u001b[0;32m    225\u001b[0m \u001b[38;5;28;01mdef\u001b[39;00m \u001b[38;5;21mwrapper\u001b[39m(\u001b[38;5;241m*\u001b[39margs: P\u001b[38;5;241m.\u001b[39margs, \u001b[38;5;241m*\u001b[39m\u001b[38;5;241m*\u001b[39mkwargs: P\u001b[38;5;241m.\u001b[39mkwargs) \u001b[38;5;241m-\u001b[39m\u001b[38;5;241m>\u001b[39m t\u001b[38;5;241m.\u001b[39mAny:\n\u001b[0;32m    226\u001b[0m     track(IsCompleteEvent(event_type\u001b[38;5;241m=\u001b[39mfunc\u001b[38;5;241m.\u001b[39m\u001b[38;5;18m__name__\u001b[39m, is_completed\u001b[38;5;241m=\u001b[39m\u001b[38;5;28;01mFalse\u001b[39;00m))\n\u001b[1;32m--> 227\u001b[0m     result \u001b[38;5;241m=\u001b[39m \u001b[43mfunc\u001b[49m\u001b[43m(\u001b[49m\u001b[38;5;241;43m*\u001b[39;49m\u001b[43margs\u001b[49m\u001b[43m,\u001b[49m\u001b[43m \u001b[49m\u001b[38;5;241;43m*\u001b[39;49m\u001b[38;5;241;43m*\u001b[39;49m\u001b[43mkwargs\u001b[49m\u001b[43m)\u001b[49m\n\u001b[0;32m    228\u001b[0m     track(IsCompleteEvent(event_type\u001b[38;5;241m=\u001b[39mfunc\u001b[38;5;241m.\u001b[39m\u001b[38;5;18m__name__\u001b[39m, is_completed\u001b[38;5;241m=\u001b[39m\u001b[38;5;28;01mTrue\u001b[39;00m))\n\u001b[0;32m    230\u001b[0m     \u001b[38;5;28;01mreturn\u001b[39;00m result\n",
      "File \u001b[1;32mc:\\Users\\gorke\\anaconda3\\envs\\odevler\\Lib\\site-packages\\ragas\\evaluation.py:298\u001b[0m, in \u001b[0;36mevaluate\u001b[1;34m(dataset, metrics, llm, embeddings, experiment_name, callbacks, run_config, token_usage_parser, raise_exceptions, column_map, show_progress, batch_size, _run_id, _pbar)\u001b[0m\n\u001b[0;32m    295\u001b[0m scores: t\u001b[38;5;241m.\u001b[39mList[t\u001b[38;5;241m.\u001b[39mDict[\u001b[38;5;28mstr\u001b[39m, t\u001b[38;5;241m.\u001b[39mAny]] \u001b[38;5;241m=\u001b[39m []\n\u001b[0;32m    296\u001b[0m \u001b[38;5;28;01mtry\u001b[39;00m:\n\u001b[0;32m    297\u001b[0m     \u001b[38;5;66;03m# get the results\u001b[39;00m\n\u001b[1;32m--> 298\u001b[0m     results \u001b[38;5;241m=\u001b[39m \u001b[43mexecutor\u001b[49m\u001b[38;5;241;43m.\u001b[39;49m\u001b[43mresults\u001b[49m\u001b[43m(\u001b[49m\u001b[43m)\u001b[49m\n\u001b[0;32m    299\u001b[0m     \u001b[38;5;28;01mif\u001b[39;00m results \u001b[38;5;241m==\u001b[39m []:\n\u001b[0;32m    300\u001b[0m         \u001b[38;5;28;01mraise\u001b[39;00m ExceptionInRunner()\n",
      "File \u001b[1;32mc:\\Users\\gorke\\anaconda3\\envs\\odevler\\Lib\\site-packages\\ragas\\executor.py:213\u001b[0m, in \u001b[0;36mExecutor.results\u001b[1;34m(self)\u001b[0m\n\u001b[0;32m    210\u001b[0m             nest_asyncio\u001b[38;5;241m.\u001b[39mapply()\n\u001b[0;32m    211\u001b[0m             \u001b[38;5;28mself\u001b[39m\u001b[38;5;241m.\u001b[39m_nest_asyncio_applied \u001b[38;5;241m=\u001b[39m \u001b[38;5;28;01mTrue\u001b[39;00m\n\u001b[1;32m--> 213\u001b[0m results \u001b[38;5;241m=\u001b[39m \u001b[43masyncio\u001b[49m\u001b[38;5;241;43m.\u001b[39;49m\u001b[43mrun\u001b[49m\u001b[43m(\u001b[49m\u001b[38;5;28;43mself\u001b[39;49m\u001b[38;5;241;43m.\u001b[39;49m\u001b[43m_process_jobs\u001b[49m\u001b[43m(\u001b[49m\u001b[43m)\u001b[49m\u001b[43m)\u001b[49m\n\u001b[0;32m    214\u001b[0m sorted_results \u001b[38;5;241m=\u001b[39m \u001b[38;5;28msorted\u001b[39m(results, key\u001b[38;5;241m=\u001b[39m\u001b[38;5;28;01mlambda\u001b[39;00m x: x[\u001b[38;5;241m0\u001b[39m])\n\u001b[0;32m    215\u001b[0m \u001b[38;5;28;01mreturn\u001b[39;00m [r[\u001b[38;5;241m1\u001b[39m] \u001b[38;5;28;01mfor\u001b[39;00m r \u001b[38;5;129;01min\u001b[39;00m sorted_results]\n",
      "File \u001b[1;32mc:\\Users\\gorke\\anaconda3\\envs\\odevler\\Lib\\site-packages\\nest_asyncio.py:30\u001b[0m, in \u001b[0;36m_patch_asyncio.<locals>.run\u001b[1;34m(main, debug)\u001b[0m\n\u001b[0;32m     28\u001b[0m task \u001b[38;5;241m=\u001b[39m asyncio\u001b[38;5;241m.\u001b[39mensure_future(main)\n\u001b[0;32m     29\u001b[0m \u001b[38;5;28;01mtry\u001b[39;00m:\n\u001b[1;32m---> 30\u001b[0m     \u001b[38;5;28;01mreturn\u001b[39;00m \u001b[43mloop\u001b[49m\u001b[38;5;241;43m.\u001b[39;49m\u001b[43mrun_until_complete\u001b[49m\u001b[43m(\u001b[49m\u001b[43mtask\u001b[49m\u001b[43m)\u001b[49m\n\u001b[0;32m     31\u001b[0m \u001b[38;5;28;01mfinally\u001b[39;00m:\n\u001b[0;32m     32\u001b[0m     \u001b[38;5;28;01mif\u001b[39;00m \u001b[38;5;129;01mnot\u001b[39;00m task\u001b[38;5;241m.\u001b[39mdone():\n",
      "File \u001b[1;32mc:\\Users\\gorke\\anaconda3\\envs\\odevler\\Lib\\site-packages\\nest_asyncio.py:92\u001b[0m, in \u001b[0;36m_patch_loop.<locals>.run_until_complete\u001b[1;34m(self, future)\u001b[0m\n\u001b[0;32m     90\u001b[0m     f\u001b[38;5;241m.\u001b[39m_log_destroy_pending \u001b[38;5;241m=\u001b[39m \u001b[38;5;28;01mFalse\u001b[39;00m\n\u001b[0;32m     91\u001b[0m \u001b[38;5;28;01mwhile\u001b[39;00m \u001b[38;5;129;01mnot\u001b[39;00m f\u001b[38;5;241m.\u001b[39mdone():\n\u001b[1;32m---> 92\u001b[0m     \u001b[38;5;28;43mself\u001b[39;49m\u001b[38;5;241;43m.\u001b[39;49m\u001b[43m_run_once\u001b[49m\u001b[43m(\u001b[49m\u001b[43m)\u001b[49m\n\u001b[0;32m     93\u001b[0m     \u001b[38;5;28;01mif\u001b[39;00m \u001b[38;5;28mself\u001b[39m\u001b[38;5;241m.\u001b[39m_stopping:\n\u001b[0;32m     94\u001b[0m         \u001b[38;5;28;01mbreak\u001b[39;00m\n",
      "File \u001b[1;32mc:\\Users\\gorke\\anaconda3\\envs\\odevler\\Lib\\site-packages\\nest_asyncio.py:115\u001b[0m, in \u001b[0;36m_patch_loop.<locals>._run_once\u001b[1;34m(self)\u001b[0m\n\u001b[0;32m    108\u001b[0m     heappop(scheduled)\n\u001b[0;32m    110\u001b[0m timeout \u001b[38;5;241m=\u001b[39m (\n\u001b[0;32m    111\u001b[0m     \u001b[38;5;241m0\u001b[39m \u001b[38;5;28;01mif\u001b[39;00m ready \u001b[38;5;129;01mor\u001b[39;00m \u001b[38;5;28mself\u001b[39m\u001b[38;5;241m.\u001b[39m_stopping\n\u001b[0;32m    112\u001b[0m     \u001b[38;5;28;01melse\u001b[39;00m \u001b[38;5;28mmin\u001b[39m(\u001b[38;5;28mmax\u001b[39m(\n\u001b[0;32m    113\u001b[0m         scheduled[\u001b[38;5;241m0\u001b[39m]\u001b[38;5;241m.\u001b[39m_when \u001b[38;5;241m-\u001b[39m \u001b[38;5;28mself\u001b[39m\u001b[38;5;241m.\u001b[39mtime(), \u001b[38;5;241m0\u001b[39m), \u001b[38;5;241m86400\u001b[39m) \u001b[38;5;28;01mif\u001b[39;00m scheduled\n\u001b[0;32m    114\u001b[0m     \u001b[38;5;28;01melse\u001b[39;00m \u001b[38;5;28;01mNone\u001b[39;00m)\n\u001b[1;32m--> 115\u001b[0m event_list \u001b[38;5;241m=\u001b[39m \u001b[38;5;28;43mself\u001b[39;49m\u001b[38;5;241;43m.\u001b[39;49m\u001b[43m_selector\u001b[49m\u001b[38;5;241;43m.\u001b[39;49m\u001b[43mselect\u001b[49m\u001b[43m(\u001b[49m\u001b[43mtimeout\u001b[49m\u001b[43m)\u001b[49m\n\u001b[0;32m    116\u001b[0m \u001b[38;5;28mself\u001b[39m\u001b[38;5;241m.\u001b[39m_process_events(event_list)\n\u001b[0;32m    118\u001b[0m end_time \u001b[38;5;241m=\u001b[39m \u001b[38;5;28mself\u001b[39m\u001b[38;5;241m.\u001b[39mtime() \u001b[38;5;241m+\u001b[39m \u001b[38;5;28mself\u001b[39m\u001b[38;5;241m.\u001b[39m_clock_resolution\n",
      "File \u001b[1;32mc:\\Users\\gorke\\anaconda3\\envs\\odevler\\Lib\\selectors.py:323\u001b[0m, in \u001b[0;36mSelectSelector.select\u001b[1;34m(self, timeout)\u001b[0m\n\u001b[0;32m    321\u001b[0m ready \u001b[38;5;241m=\u001b[39m []\n\u001b[0;32m    322\u001b[0m \u001b[38;5;28;01mtry\u001b[39;00m:\n\u001b[1;32m--> 323\u001b[0m     r, w, _ \u001b[38;5;241m=\u001b[39m \u001b[38;5;28;43mself\u001b[39;49m\u001b[38;5;241;43m.\u001b[39;49m\u001b[43m_select\u001b[49m\u001b[43m(\u001b[49m\u001b[38;5;28;43mself\u001b[39;49m\u001b[38;5;241;43m.\u001b[39;49m\u001b[43m_readers\u001b[49m\u001b[43m,\u001b[49m\u001b[43m \u001b[49m\u001b[38;5;28;43mself\u001b[39;49m\u001b[38;5;241;43m.\u001b[39;49m\u001b[43m_writers\u001b[49m\u001b[43m,\u001b[49m\u001b[43m \u001b[49m\u001b[43m[\u001b[49m\u001b[43m]\u001b[49m\u001b[43m,\u001b[49m\u001b[43m \u001b[49m\u001b[43mtimeout\u001b[49m\u001b[43m)\u001b[49m\n\u001b[0;32m    324\u001b[0m \u001b[38;5;28;01mexcept\u001b[39;00m \u001b[38;5;167;01mInterruptedError\u001b[39;00m:\n\u001b[0;32m    325\u001b[0m     \u001b[38;5;28;01mreturn\u001b[39;00m ready\n",
      "File \u001b[1;32mc:\\Users\\gorke\\anaconda3\\envs\\odevler\\Lib\\selectors.py:314\u001b[0m, in \u001b[0;36mSelectSelector._select\u001b[1;34m(self, r, w, _, timeout)\u001b[0m\n\u001b[0;32m    313\u001b[0m \u001b[38;5;28;01mdef\u001b[39;00m \u001b[38;5;21m_select\u001b[39m(\u001b[38;5;28mself\u001b[39m, r, w, _, timeout\u001b[38;5;241m=\u001b[39m\u001b[38;5;28;01mNone\u001b[39;00m):\n\u001b[1;32m--> 314\u001b[0m     r, w, x \u001b[38;5;241m=\u001b[39m \u001b[43mselect\u001b[49m\u001b[38;5;241;43m.\u001b[39;49m\u001b[43mselect\u001b[49m\u001b[43m(\u001b[49m\u001b[43mr\u001b[49m\u001b[43m,\u001b[49m\u001b[43m \u001b[49m\u001b[43mw\u001b[49m\u001b[43m,\u001b[49m\u001b[43m \u001b[49m\u001b[43mw\u001b[49m\u001b[43m,\u001b[49m\u001b[43m \u001b[49m\u001b[43mtimeout\u001b[49m\u001b[43m)\u001b[49m\n\u001b[0;32m    315\u001b[0m     \u001b[38;5;28;01mreturn\u001b[39;00m r, w \u001b[38;5;241m+\u001b[39m x, []\n",
      "\u001b[1;31mKeyboardInterrupt\u001b[0m: "
     ]
    },
    {
     "name": "stderr",
     "output_type": "stream",
     "text": [
      "Exception raised in Job[4]: AttributeError('NoneType' object has no attribute 'generate')\n",
      "Exception raised in Job[17]: AssertionError(LLM is not set)\n",
      "Exception raised in Job[18]: AssertionError(LLM is not set)\n",
      "Exception raised in Job[19]: AssertionError(LLM must be set)\n",
      "Exception raised in Job[20]: AssertionError(LLM is not set)\n",
      "Exception raised in Job[21]: AssertionError(LLM is not set)\n",
      "Exception raised in Job[22]: AssertionError(LLM must be set)\n",
      "Exception raised in Job[23]: AssertionError(LLM is not set)\n",
      "Exception raised in Job[24]: AssertionError(LLM is not set)\n",
      "Exception raised in Job[25]: AssertionError(LLM must be set)\n",
      "Exception raised in Job[26]: AssertionError(LLM is not set)\n",
      "Exception raised in Job[27]: AssertionError(LLM is not set)\n",
      "Exception raised in Job[28]: AssertionError(LLM must be set)\n",
      "Exception raised in Job[29]: AssertionError(LLM is not set)\n",
      "Exception raised in Job[30]: AssertionError(LLM is not set)\n",
      "Exception raised in Job[31]: AssertionError(LLM must be set)\n",
      "Exception raised in Job[32]: AssertionError(LLM is not set)\n",
      "Exception raised in Job[33]: AssertionError(LLM is not set)\n",
      "Exception raised in Job[34]: AssertionError(LLM must be set)\n",
      "Exception raised in Job[35]: AssertionError(LLM is not set)\n",
      "Exception raised in Job[36]: AssertionError(LLM is not set)\n",
      "Exception raised in Job[37]: AssertionError(LLM must be set)\n",
      "Exception raised in Job[38]: AssertionError(LLM is not set)\n",
      "Exception raised in Job[39]: AssertionError(LLM is not set)\n",
      "Exception raised in Job[40]: AssertionError(LLM must be set)\n",
      "Exception raised in Job[41]: AssertionError(LLM is not set)\n",
      "Exception raised in Job[42]: AssertionError(LLM is not set)\n",
      "Exception raised in Job[43]: AssertionError(LLM must be set)\n",
      "Exception raised in Job[44]: AssertionError(LLM is not set)\n",
      "Exception raised in Job[45]: AssertionError(LLM is not set)\n",
      "Exception raised in Job[46]: AssertionError(LLM must be set)\n",
      "Exception raised in Job[47]: AssertionError(LLM is not set)\n",
      "Exception raised in Job[48]: AssertionError(LLM is not set)\n",
      "Exception raised in Job[49]: AssertionError(LLM must be set)\n",
      "Exception raised in Job[50]: AssertionError(LLM is not set)\n",
      "Exception raised in Job[51]: AssertionError(LLM is not set)\n",
      "Exception raised in Job[52]: AssertionError(LLM must be set)\n",
      "Exception raised in Job[53]: AssertionError(LLM is not set)\n",
      "Exception raised in Job[54]: AssertionError(LLM is not set)\n",
      "Exception raised in Job[55]: AssertionError(LLM must be set)\n",
      "Exception raised in Job[56]: AssertionError(LLM is not set)\n",
      "Exception raised in Job[57]: AssertionError(LLM is not set)\n",
      "Exception raised in Job[58]: AssertionError(LLM must be set)\n",
      "Exception raised in Job[59]: AssertionError(LLM is not set)\n",
      "Exception raised in Job[60]: AssertionError(LLM is not set)\n",
      "Exception raised in Job[61]: AssertionError(LLM must be set)\n",
      "Exception raised in Job[62]: AssertionError(LLM is not set)\n",
      "Exception raised in Job[63]: AssertionError(LLM is not set)\n",
      "Exception raised in Job[64]: AssertionError(LLM must be set)\n",
      "Exception raised in Job[65]: AssertionError(LLM is not set)\n",
      "Exception raised in Job[66]: AssertionError(LLM is not set)\n",
      "Exception raised in Job[67]: AssertionError(LLM must be set)\n",
      "Exception raised in Job[68]: AssertionError(LLM is not set)\n",
      "Exception raised in Job[69]: AssertionError(LLM is not set)\n",
      "Exception raised in Job[70]: AssertionError(LLM must be set)\n",
      "Exception raised in Job[71]: AssertionError(LLM is not set)\n",
      "Exception raised in Job[72]: AssertionError(LLM is not set)\n",
      "Exception raised in Job[73]: AssertionError(LLM must be set)\n",
      "Exception raised in Job[74]: AssertionError(LLM is not set)\n",
      "Exception raised in Job[75]: AssertionError(LLM is not set)\n",
      "Exception raised in Job[76]: AssertionError(LLM must be set)\n",
      "Exception raised in Job[77]: AssertionError(LLM is not set)\n",
      "Exception raised in Job[78]: AssertionError(LLM is not set)\n",
      "Exception raised in Job[79]: AssertionError(LLM must be set)\n",
      "Exception raised in Job[80]: AssertionError(LLM is not set)\n",
      "Exception raised in Job[81]: AssertionError(LLM is not set)\n",
      "Exception raised in Job[82]: AssertionError(LLM must be set)\n",
      "Exception raised in Job[83]: AssertionError(LLM is not set)\n",
      "Exception raised in Job[84]: AssertionError(LLM is not set)\n",
      "Exception raised in Job[85]: AssertionError(LLM must be set)\n",
      "Exception raised in Job[86]: AssertionError(LLM is not set)\n",
      "Exception raised in Job[87]: AssertionError(LLM is not set)\n",
      "Exception raised in Job[88]: AssertionError(LLM must be set)\n",
      "Exception raised in Job[89]: AssertionError(LLM is not set)\n",
      "Exception raised in Job[90]: AssertionError(LLM is not set)\n",
      "Exception raised in Job[91]: AssertionError(LLM must be set)\n",
      "Exception raised in Job[92]: AssertionError(LLM is not set)\n",
      "Exception raised in Job[93]: AssertionError(LLM is not set)\n",
      "Exception raised in Job[94]: AssertionError(LLM must be set)\n",
      "Exception raised in Job[95]: AssertionError(LLM is not set)\n",
      "Exception raised in Job[96]: AssertionError(LLM is not set)\n",
      "Exception raised in Job[97]: AssertionError(LLM must be set)\n",
      "Exception raised in Job[98]: AssertionError(LLM is not set)\n",
      "Exception raised in Job[99]: AssertionError(LLM is not set)\n",
      "Exception raised in Job[100]: AssertionError(LLM must be set)\n",
      "Exception raised in Job[101]: AssertionError(LLM is not set)\n",
      "Exception raised in Job[102]: AssertionError(LLM is not set)\n",
      "Exception raised in Job[103]: AssertionError(LLM must be set)\n",
      "Exception raised in Job[104]: AssertionError(LLM is not set)\n",
      "Exception raised in Job[105]: AssertionError(LLM is not set)\n",
      "Exception raised in Job[106]: AssertionError(LLM must be set)\n",
      "Exception raised in Job[107]: AssertionError(LLM is not set)\n",
      "Exception raised in Job[108]: AssertionError(LLM is not set)\n",
      "Exception raised in Job[109]: AssertionError(LLM must be set)\n",
      "Exception raised in Job[110]: AssertionError(LLM is not set)\n",
      "Exception raised in Job[111]: AssertionError(LLM is not set)\n",
      "Exception raised in Job[112]: AssertionError(LLM must be set)\n",
      "Exception raised in Job[113]: AssertionError(LLM is not set)\n",
      "Exception raised in Job[114]: AssertionError(LLM is not set)\n",
      "Exception raised in Job[115]: AssertionError(LLM must be set)\n",
      "Exception raised in Job[116]: AssertionError(LLM is not set)\n",
      "Exception raised in Job[117]: AssertionError(LLM is not set)\n",
      "Exception raised in Job[118]: AssertionError(LLM must be set)\n",
      "Exception raised in Job[119]: AssertionError(LLM is not set)\n",
      "Exception raised in Job[120]: AssertionError(LLM is not set)\n",
      "Exception raised in Job[121]: AssertionError(LLM must be set)\n",
      "Exception raised in Job[122]: AssertionError(LLM is not set)\n",
      "Exception raised in Job[123]: AssertionError(LLM is not set)\n",
      "Exception raised in Job[124]: AssertionError(LLM must be set)\n",
      "Exception raised in Job[125]: AssertionError(LLM is not set)\n",
      "Exception raised in Job[126]: AssertionError(LLM is not set)\n",
      "Exception raised in Job[127]: AssertionError(LLM must be set)\n",
      "Exception raised in Job[128]: AssertionError(LLM is not set)\n",
      "Exception raised in Job[129]: AssertionError(LLM is not set)\n",
      "Exception raised in Job[130]: AssertionError(LLM must be set)\n",
      "Exception raised in Job[131]: AssertionError(LLM is not set)\n",
      "Exception raised in Job[132]: AssertionError(LLM is not set)\n",
      "Exception raised in Job[133]: AssertionError(LLM must be set)\n",
      "Exception raised in Job[134]: AssertionError(LLM is not set)\n",
      "Exception raised in Job[135]: AssertionError(LLM is not set)\n",
      "Exception raised in Job[136]: AssertionError(LLM must be set)\n",
      "Exception raised in Job[137]: AssertionError(LLM is not set)\n",
      "Exception raised in Job[138]: AssertionError(LLM is not set)\n",
      "Exception raised in Job[139]: AssertionError(LLM must be set)\n",
      "Exception raised in Job[140]: AssertionError(LLM is not set)\n",
      "Exception raised in Job[141]: AssertionError(LLM is not set)\n",
      "Exception raised in Job[142]: AssertionError(LLM must be set)\n",
      "Exception raised in Job[143]: AssertionError(LLM is not set)\n",
      "Exception raised in Job[144]: AssertionError(LLM is not set)\n",
      "Exception raised in Job[145]: AssertionError(LLM must be set)\n",
      "Exception raised in Job[146]: AssertionError(LLM is not set)\n",
      "Exception raised in Job[147]: AssertionError(LLM is not set)\n",
      "Exception raised in Job[148]: AssertionError(LLM must be set)\n",
      "Exception raised in Job[149]: AssertionError(LLM is not set)\n",
      "Exception raised in Job[3]: AssertionError(llm must be set to compute score)\n",
      "Exception raised in Job[16]: AssertionError(llm is not set)\n",
      "Exception raised in Job[1]: AssertionError(llm is not set)\n",
      "Exception raised in Job[5]: AssertionError()\n",
      "Exception raised in Job[8]: AssertionError()\n",
      "Exception raised in Job[9]: AssertionError(llm must be set to compute score)\n",
      "Exception raised in Job[14]: AssertionError()\n",
      "Exception raised in Job[2]: TimeoutError()\n",
      "Exception raised in Job[12]: TimeoutError()\n",
      "Exception raised in Job[15]: TimeoutError()\n",
      "Exception raised in Job[13]: TimeoutError()\n",
      "Exception raised in Job[6]: TimeoutError()\n",
      "Exception raised in Job[11]: TimeoutError()\n",
      "Exception raised in Job[10]: TimeoutError()\n",
      "Exception raised in Job[7]: TimeoutError()\n"
     ]
    }
   ],
   "source": [
    "df_result_cosmos_B = pd.DataFrame(columns=[\"model\", \"location\", \"faithfulness\",\"answer_correctness\",\"answer_relevancy\"])\n",
    "\n",
    "i=6\n",
    "while(i<len(output_names_cosmos)):\n",
    "    sonuclar = pd.read_csv(output_names_cosmos[i])\n",
    "    sonuclar['contexts'] = sonuclar['contexts'].apply(lambda x: [x])\n",
    "\n",
    "    dataset = Dataset.from_pandas(sonuclar)\n",
    "    result = evaluate(dataset,\n",
    "                  metrics=[\n",
    "        faithfulness,\n",
    "        answer_correctness,\n",
    "        answer_relevancy],llm=evaluator_llm, embeddings=evaluator_embeddings)\n",
    "    \n",
    "\n",
    "    yeni_satir = pd.DataFrame({'model': [\"cosmos-dpo\"], 'location': [location_B[i]], \n",
    "                           'faithfulness': [round(pd.Series(result[\"faithfulness\"]).mean(),4)],\n",
    "                           'answer_correctness': [round(pd.Series(result[\"answer_correctness\"]).mean(),4)],\n",
    "                           'answer_relevancy': [round(pd.Series(result[\"answer_relevancy\"]).mean(),4)]})\n",
    "\n",
    "    df_result_cosmos_B = pd.concat([df_result_cosmos_B, yeni_satir], ignore_index=True)\n",
    "\n",
    "    result.to_pandas().to_csv(\"RagasResult---\"+\"cosmos-dpo\"+\"-\"+location_B[i]+\".csv\", index=False)\n",
    "\n",
    "    print(location_B[i])\n",
    "    print(result)\n",
    "    print(\"\\n\")\n",
    "    i=i+1\n",
    "\n",
    "df_result_cosmos_B.to_csv(\"OverallResult---\"+\"cosmos-dpo-for-question-B-3.csv\", index=False)"
   ]
  },
  {
   "cell_type": "code",
   "execution_count": 52,
   "metadata": {},
   "outputs": [],
   "source": [
    "df_result_cosmos_B.to_csv(\"OverallResult---\"+\"cosmos-dpo-for-question-B-3.csv\", index=False)"
   ]
  },
  {
   "cell_type": "code",
   "execution_count": 58,
   "metadata": {},
   "outputs": [
    {
     "name": "stderr",
     "output_type": "stream",
     "text": [
      "Evaluating: 100%|██████████| 150/150 [01:23<00:00,  1.79it/s]\n",
      "C:\\Users\\gorke\\AppData\\Local\\Temp\\ipykernel_15516\\1582282095.py:21: FutureWarning: The behavior of DataFrame concatenation with empty or all-NA entries is deprecated. In a future version, this will no longer exclude empty or all-NA columns when determining the result dtypes. To retain the old behavior, exclude the relevant entries before the concat operation.\n",
      "  df_result_cosmos_B = pd.concat([df_result_cosmos_B, yeni_satir], ignore_index=True)\n"
     ]
    },
    {
     "name": "stdout",
     "output_type": "stream",
     "text": [
      "B-10\n",
      "{'faithfulness': 0.8262, 'answer_correctness': 0.6532, 'answer_relevancy': 0.7615}\n",
      "\n",
      "\n"
     ]
    },
    {
     "name": "stderr",
     "output_type": "stream",
     "text": [
      "Evaluating: 100%|██████████| 150/150 [01:29<00:00,  1.67it/s]\n"
     ]
    },
    {
     "name": "stdout",
     "output_type": "stream",
     "text": [
      "B-11\n",
      "{'faithfulness': 0.7731, 'answer_correctness': 0.6573, 'answer_relevancy': 0.7765}\n",
      "\n",
      "\n"
     ]
    },
    {
     "name": "stderr",
     "output_type": "stream",
     "text": [
      "Evaluating: 100%|██████████| 150/150 [01:48<00:00,  1.38it/s]\n"
     ]
    },
    {
     "name": "stdout",
     "output_type": "stream",
     "text": [
      "B-12\n",
      "{'faithfulness': 0.8085, 'answer_correctness': 0.6799, 'answer_relevancy': 0.7652}\n",
      "\n",
      "\n"
     ]
    },
    {
     "name": "stderr",
     "output_type": "stream",
     "text": [
      "Evaluating: 100%|██████████| 150/150 [01:52<00:00,  1.33it/s]\n"
     ]
    },
    {
     "name": "stdout",
     "output_type": "stream",
     "text": [
      "B-13\n",
      "{'faithfulness': 0.7516, 'answer_correctness': 0.6634, 'answer_relevancy': 0.7569}\n",
      "\n",
      "\n"
     ]
    },
    {
     "name": "stderr",
     "output_type": "stream",
     "text": [
      "Evaluating: 100%|██████████| 150/150 [02:19<00:00,  1.07it/s]\n"
     ]
    },
    {
     "name": "stdout",
     "output_type": "stream",
     "text": [
      "B-14\n",
      "{'faithfulness': 0.7619, 'answer_correctness': 0.6354, 'answer_relevancy': 0.6587}\n",
      "\n",
      "\n"
     ]
    },
    {
     "name": "stderr",
     "output_type": "stream",
     "text": [
      "Evaluating: 100%|██████████| 150/150 [01:38<00:00,  1.53it/s]\n"
     ]
    },
    {
     "name": "stdout",
     "output_type": "stream",
     "text": [
      "B-15\n",
      "{'faithfulness': 0.7327, 'answer_correctness': 0.6309, 'answer_relevancy': 0.6931}\n",
      "\n",
      "\n"
     ]
    }
   ],
   "source": [
    "df_result_cosmos_B = pd.DataFrame(columns=[\"model\", \"location\", \"faithfulness\",\"answer_correctness\",\"answer_relevancy\"])\n",
    "\n",
    "i=9\n",
    "while(i<len(output_names_cosmos)):\n",
    "    sonuclar = pd.read_csv(output_names_cosmos[i])\n",
    "    sonuclar['contexts'] = sonuclar['contexts'].apply(lambda x: [x])\n",
    "\n",
    "    dataset = Dataset.from_pandas(sonuclar)\n",
    "    result = evaluate(dataset,\n",
    "                  metrics=[\n",
    "        faithfulness,\n",
    "        answer_correctness,\n",
    "        answer_relevancy],llm=evaluator_llm, embeddings=evaluator_embeddings)\n",
    "    \n",
    "\n",
    "    yeni_satir = pd.DataFrame({'model': [\"cosmos-dpo\"], 'location': [location_B[i]], \n",
    "                           'faithfulness': [round(pd.Series(result[\"faithfulness\"]).mean(),4)],\n",
    "                           'answer_correctness': [round(pd.Series(result[\"answer_correctness\"]).mean(),4)],\n",
    "                           'answer_relevancy': [round(pd.Series(result[\"answer_relevancy\"]).mean(),4)]})\n",
    "\n",
    "    df_result_cosmos_B = pd.concat([df_result_cosmos_B, yeni_satir], ignore_index=True)\n",
    "\n",
    "    result.to_pandas().to_csv(\"RagasResult---\"+\"cosmos-dpo\"+\"-\"+location_B[i]+\".csv\", index=False)\n",
    "\n",
    "    print(location_B[i])\n",
    "    print(result)\n",
    "    print(\"\\n\")\n",
    "    i=i+1\n",
    "\n",
    "df_result_cosmos_B.to_csv(\"OverallResult---\"+\"cosmos-dpo-for-question-B-4.csv\", index=False)"
   ]
  },
  {
   "cell_type": "code",
   "execution_count": 59,
   "metadata": {},
   "outputs": [
    {
     "name": "stderr",
     "output_type": "stream",
     "text": [
      "Evaluating: 100%|██████████| 150/150 [01:18<00:00,  1.92it/s]\n",
      "C:\\Users\\gorke\\AppData\\Local\\Temp\\ipykernel_15516\\1132463274.py:21: FutureWarning: The behavior of DataFrame concatenation with empty or all-NA entries is deprecated. In a future version, this will no longer exclude empty or all-NA columns when determining the result dtypes. To retain the old behavior, exclude the relevant entries before the concat operation.\n",
      "  df_result_gemma_B = pd.concat([df_result_gemma_B, yeni_satir], ignore_index=True)\n"
     ]
    },
    {
     "name": "stdout",
     "output_type": "stream",
     "text": [
      "B-1\n",
      "{'faithfulness': 0.9420, 'answer_correctness': 0.5747, 'answer_relevancy': 0.6335}\n",
      "\n",
      "\n"
     ]
    },
    {
     "name": "stderr",
     "output_type": "stream",
     "text": [
      "Evaluating: 100%|██████████| 150/150 [01:22<00:00,  1.81it/s]\n"
     ]
    },
    {
     "name": "stdout",
     "output_type": "stream",
     "text": [
      "B-2\n",
      "{'faithfulness': 0.8252, 'answer_correctness': 0.5791, 'answer_relevancy': 0.6134}\n",
      "\n",
      "\n"
     ]
    },
    {
     "name": "stderr",
     "output_type": "stream",
     "text": [
      "Evaluating: 100%|██████████| 150/150 [01:27<00:00,  1.72it/s]\n"
     ]
    },
    {
     "name": "stdout",
     "output_type": "stream",
     "text": [
      "B-3\n",
      "{'faithfulness': 0.8660, 'answer_correctness': 0.6128, 'answer_relevancy': 0.5998}\n",
      "\n",
      "\n"
     ]
    },
    {
     "name": "stderr",
     "output_type": "stream",
     "text": [
      "Evaluating: 100%|██████████| 150/150 [01:31<00:00,  1.64it/s]\n"
     ]
    },
    {
     "name": "stdout",
     "output_type": "stream",
     "text": [
      "B-4\n",
      "{'faithfulness': 0.8329, 'answer_correctness': 0.6090, 'answer_relevancy': 0.6158}\n",
      "\n",
      "\n"
     ]
    },
    {
     "name": "stderr",
     "output_type": "stream",
     "text": [
      "Evaluating: 100%|██████████| 150/150 [02:25<00:00,  1.03it/s]\n"
     ]
    },
    {
     "name": "stdout",
     "output_type": "stream",
     "text": [
      "B-5\n",
      "{'faithfulness': 0.8358, 'answer_correctness': 0.6114, 'answer_relevancy': 0.6491}\n",
      "\n",
      "\n"
     ]
    },
    {
     "name": "stderr",
     "output_type": "stream",
     "text": [
      "Evaluating: 100%|██████████| 150/150 [01:21<00:00,  1.83it/s]\n"
     ]
    },
    {
     "name": "stdout",
     "output_type": "stream",
     "text": [
      "B-6\n",
      "{'faithfulness': 0.8583, 'answer_correctness': 0.5740, 'answer_relevancy': 0.6507}\n",
      "\n",
      "\n"
     ]
    },
    {
     "name": "stderr",
     "output_type": "stream",
     "text": [
      "Evaluating: 100%|██████████| 150/150 [01:18<00:00,  1.92it/s]\n"
     ]
    },
    {
     "name": "stdout",
     "output_type": "stream",
     "text": [
      "B-7\n",
      "{'faithfulness': 0.8883, 'answer_correctness': 0.5918, 'answer_relevancy': 0.5961}\n",
      "\n",
      "\n"
     ]
    },
    {
     "name": "stderr",
     "output_type": "stream",
     "text": [
      "Evaluating: 100%|██████████| 150/150 [01:29<00:00,  1.67it/s]\n"
     ]
    },
    {
     "name": "stdout",
     "output_type": "stream",
     "text": [
      "B-8\n",
      "{'faithfulness': 0.8527, 'answer_correctness': 0.5990, 'answer_relevancy': 0.6320}\n",
      "\n",
      "\n"
     ]
    },
    {
     "name": "stderr",
     "output_type": "stream",
     "text": [
      "Evaluating: 100%|██████████| 150/150 [01:43<00:00,  1.45it/s]\n"
     ]
    },
    {
     "name": "stdout",
     "output_type": "stream",
     "text": [
      "B-9\n",
      "{'faithfulness': 0.8668, 'answer_correctness': 0.5923, 'answer_relevancy': 0.6494}\n",
      "\n",
      "\n"
     ]
    },
    {
     "name": "stderr",
     "output_type": "stream",
     "text": [
      "Evaluating: 100%|██████████| 150/150 [01:51<00:00,  1.34it/s]\n"
     ]
    },
    {
     "name": "stdout",
     "output_type": "stream",
     "text": [
      "B-10\n",
      "{'faithfulness': 0.8380, 'answer_correctness': 0.6030, 'answer_relevancy': 0.6129}\n",
      "\n",
      "\n"
     ]
    },
    {
     "name": "stderr",
     "output_type": "stream",
     "text": [
      "Evaluating: 100%|██████████| 150/150 [01:22<00:00,  1.82it/s]\n"
     ]
    },
    {
     "name": "stdout",
     "output_type": "stream",
     "text": [
      "B-11\n",
      "{'faithfulness': 0.8907, 'answer_correctness': 0.5854, 'answer_relevancy': 0.6508}\n",
      "\n",
      "\n"
     ]
    },
    {
     "name": "stderr",
     "output_type": "stream",
     "text": [
      "Evaluating:  95%|█████████▌| 143/150 [03:29<01:06,  9.56s/it]Exception raised in Job[78]: TimeoutError()\n",
      "Evaluating:  97%|█████████▋| 146/150 [03:48<00:27,  6.99s/it]Exception raised in Job[129]: TimeoutError()\n",
      "Evaluating:  98%|█████████▊| 147/150 [04:13<00:36, 12.11s/it]Exception raised in Job[136]: TimeoutError()\n",
      "Evaluating:  99%|█████████▊| 148/150 [04:19<00:20, 10.30s/it]Exception raised in Job[145]: TimeoutError()\n",
      "Evaluating:  99%|█████████▉| 149/150 [04:23<00:08,  8.45s/it]Exception raised in Job[148]: TimeoutError()\n",
      "Evaluating: 100%|██████████| 150/150 [04:24<00:00,  1.76s/it]\n"
     ]
    },
    {
     "name": "stdout",
     "output_type": "stream",
     "text": [
      "B-12\n",
      "{'faithfulness': 0.8476, 'answer_correctness': 0.5759, 'answer_relevancy': 0.5957}\n",
      "\n",
      "\n"
     ]
    },
    {
     "name": "stderr",
     "output_type": "stream",
     "text": [
      "Evaluating:   1%|          | 1/150 [00:17<44:41, 18.00s/it]\n"
     ]
    },
    {
     "ename": "KeyboardInterrupt",
     "evalue": "",
     "output_type": "error",
     "traceback": [
      "\u001b[1;31m---------------------------------------------------------------------------\u001b[0m",
      "\u001b[1;31mHTTPStatusError\u001b[0m                           Traceback (most recent call last)",
      "File \u001b[1;32mc:\\Users\\gorke\\anaconda3\\envs\\odevler\\Lib\\site-packages\\openai\\_base_client.py:1623\u001b[0m, in \u001b[0;36mAsyncAPIClient._request\u001b[1;34m(self, cast_to, options, stream, stream_cls, retries_taken)\u001b[0m\n\u001b[0;32m   1622\u001b[0m \u001b[38;5;28;01mtry\u001b[39;00m:\n\u001b[1;32m-> 1623\u001b[0m     \u001b[43mresponse\u001b[49m\u001b[38;5;241;43m.\u001b[39;49m\u001b[43mraise_for_status\u001b[49m\u001b[43m(\u001b[49m\u001b[43m)\u001b[49m\n\u001b[0;32m   1624\u001b[0m \u001b[38;5;28;01mexcept\u001b[39;00m httpx\u001b[38;5;241m.\u001b[39mHTTPStatusError \u001b[38;5;28;01mas\u001b[39;00m err:  \u001b[38;5;66;03m# thrown on 4xx and 5xx status code\u001b[39;00m\n",
      "File \u001b[1;32mc:\\Users\\gorke\\anaconda3\\envs\\odevler\\Lib\\site-packages\\httpx\\_models.py:761\u001b[0m, in \u001b[0;36mResponse.raise_for_status\u001b[1;34m(self)\u001b[0m\n\u001b[0;32m    760\u001b[0m message \u001b[38;5;241m=\u001b[39m message\u001b[38;5;241m.\u001b[39mformat(\u001b[38;5;28mself\u001b[39m, error_type\u001b[38;5;241m=\u001b[39merror_type)\n\u001b[1;32m--> 761\u001b[0m \u001b[38;5;28;01mraise\u001b[39;00m HTTPStatusError(message, request\u001b[38;5;241m=\u001b[39mrequest, response\u001b[38;5;241m=\u001b[39m\u001b[38;5;28mself\u001b[39m)\n",
      "\u001b[1;31mHTTPStatusError\u001b[0m: Client error '429 Too Many Requests' for url 'https://api.openai.com/v1/chat/completions'\nFor more information check: https://developer.mozilla.org/en-US/docs/Web/HTTP/Status/429",
      "\nDuring handling of the above exception, another exception occurred:\n",
      "\u001b[1;31mHTTPStatusError\u001b[0m                           Traceback (most recent call last)",
      "File \u001b[1;32mc:\\Users\\gorke\\anaconda3\\envs\\odevler\\Lib\\site-packages\\openai\\_base_client.py:1623\u001b[0m, in \u001b[0;36mAsyncAPIClient._request\u001b[1;34m(self, cast_to, options, stream, stream_cls, retries_taken)\u001b[0m\n\u001b[0;32m   1622\u001b[0m \u001b[38;5;28;01mtry\u001b[39;00m:\n\u001b[1;32m-> 1623\u001b[0m     \u001b[43mresponse\u001b[49m\u001b[38;5;241;43m.\u001b[39;49m\u001b[43mraise_for_status\u001b[49m\u001b[43m(\u001b[49m\u001b[43m)\u001b[49m\n\u001b[0;32m   1624\u001b[0m \u001b[38;5;28;01mexcept\u001b[39;00m httpx\u001b[38;5;241m.\u001b[39mHTTPStatusError \u001b[38;5;28;01mas\u001b[39;00m err:  \u001b[38;5;66;03m# thrown on 4xx and 5xx status code\u001b[39;00m\n",
      "File \u001b[1;32mc:\\Users\\gorke\\anaconda3\\envs\\odevler\\Lib\\site-packages\\httpx\\_models.py:761\u001b[0m, in \u001b[0;36mResponse.raise_for_status\u001b[1;34m(self)\u001b[0m\n\u001b[0;32m    760\u001b[0m message \u001b[38;5;241m=\u001b[39m message\u001b[38;5;241m.\u001b[39mformat(\u001b[38;5;28mself\u001b[39m, error_type\u001b[38;5;241m=\u001b[39merror_type)\n\u001b[1;32m--> 761\u001b[0m \u001b[38;5;28;01mraise\u001b[39;00m HTTPStatusError(message, request\u001b[38;5;241m=\u001b[39mrequest, response\u001b[38;5;241m=\u001b[39m\u001b[38;5;28mself\u001b[39m)\n",
      "\u001b[1;31mHTTPStatusError\u001b[0m: Client error '429 Too Many Requests' for url 'https://api.openai.com/v1/chat/completions'\nFor more information check: https://developer.mozilla.org/en-US/docs/Web/HTTP/Status/429",
      "\nDuring handling of the above exception, another exception occurred:\n",
      "\u001b[1;31mKeyboardInterrupt\u001b[0m                         Traceback (most recent call last)",
      "Cell \u001b[1;32mIn[59], line 9\u001b[0m\n\u001b[0;32m      6\u001b[0m sonuclar[\u001b[38;5;124m'\u001b[39m\u001b[38;5;124mcontexts\u001b[39m\u001b[38;5;124m'\u001b[39m] \u001b[38;5;241m=\u001b[39m sonuclar[\u001b[38;5;124m'\u001b[39m\u001b[38;5;124mcontexts\u001b[39m\u001b[38;5;124m'\u001b[39m]\u001b[38;5;241m.\u001b[39mapply(\u001b[38;5;28;01mlambda\u001b[39;00m x: [x])\n\u001b[0;32m      8\u001b[0m dataset \u001b[38;5;241m=\u001b[39m Dataset\u001b[38;5;241m.\u001b[39mfrom_pandas(sonuclar)\n\u001b[1;32m----> 9\u001b[0m result \u001b[38;5;241m=\u001b[39m \u001b[43mevaluate\u001b[49m\u001b[43m(\u001b[49m\u001b[43mdataset\u001b[49m\u001b[43m,\u001b[49m\n\u001b[0;32m     10\u001b[0m \u001b[43m              \u001b[49m\u001b[43mmetrics\u001b[49m\u001b[38;5;241;43m=\u001b[39;49m\u001b[43m[\u001b[49m\n\u001b[0;32m     11\u001b[0m \u001b[43m    \u001b[49m\u001b[43mfaithfulness\u001b[49m\u001b[43m,\u001b[49m\n\u001b[0;32m     12\u001b[0m \u001b[43m    \u001b[49m\u001b[43manswer_correctness\u001b[49m\u001b[43m,\u001b[49m\n\u001b[0;32m     13\u001b[0m \u001b[43m    \u001b[49m\u001b[43manswer_relevancy\u001b[49m\u001b[43m]\u001b[49m\u001b[43m,\u001b[49m\u001b[43mllm\u001b[49m\u001b[38;5;241;43m=\u001b[39;49m\u001b[43mevaluator_llm\u001b[49m\u001b[43m,\u001b[49m\u001b[43m \u001b[49m\u001b[43membeddings\u001b[49m\u001b[38;5;241;43m=\u001b[39;49m\u001b[43mevaluator_embeddings\u001b[49m\u001b[43m)\u001b[49m\n\u001b[0;32m     16\u001b[0m yeni_satir \u001b[38;5;241m=\u001b[39m pd\u001b[38;5;241m.\u001b[39mDataFrame({\u001b[38;5;124m'\u001b[39m\u001b[38;5;124mmodel\u001b[39m\u001b[38;5;124m'\u001b[39m: [\u001b[38;5;124m\"\u001b[39m\u001b[38;5;124mgemma2-9b-it\u001b[39m\u001b[38;5;124m\"\u001b[39m], \u001b[38;5;124m'\u001b[39m\u001b[38;5;124mlocation\u001b[39m\u001b[38;5;124m'\u001b[39m: [location_B[i]], \n\u001b[0;32m     17\u001b[0m                        \u001b[38;5;124m'\u001b[39m\u001b[38;5;124mfaithfulness\u001b[39m\u001b[38;5;124m'\u001b[39m: [\u001b[38;5;28mround\u001b[39m(pd\u001b[38;5;241m.\u001b[39mSeries(result[\u001b[38;5;124m\"\u001b[39m\u001b[38;5;124mfaithfulness\u001b[39m\u001b[38;5;124m\"\u001b[39m])\u001b[38;5;241m.\u001b[39mmean(),\u001b[38;5;241m4\u001b[39m)],\n\u001b[0;32m     18\u001b[0m                        \u001b[38;5;124m'\u001b[39m\u001b[38;5;124manswer_correctness\u001b[39m\u001b[38;5;124m'\u001b[39m: [\u001b[38;5;28mround\u001b[39m(pd\u001b[38;5;241m.\u001b[39mSeries(result[\u001b[38;5;124m\"\u001b[39m\u001b[38;5;124manswer_correctness\u001b[39m\u001b[38;5;124m\"\u001b[39m])\u001b[38;5;241m.\u001b[39mmean(),\u001b[38;5;241m4\u001b[39m)],\n\u001b[0;32m     19\u001b[0m                        \u001b[38;5;124m'\u001b[39m\u001b[38;5;124manswer_relevancy\u001b[39m\u001b[38;5;124m'\u001b[39m: [\u001b[38;5;28mround\u001b[39m(pd\u001b[38;5;241m.\u001b[39mSeries(result[\u001b[38;5;124m\"\u001b[39m\u001b[38;5;124manswer_relevancy\u001b[39m\u001b[38;5;124m\"\u001b[39m])\u001b[38;5;241m.\u001b[39mmean(),\u001b[38;5;241m4\u001b[39m)]})\n\u001b[0;32m     21\u001b[0m df_result_gemma_B \u001b[38;5;241m=\u001b[39m pd\u001b[38;5;241m.\u001b[39mconcat([df_result_gemma_B, yeni_satir], ignore_index\u001b[38;5;241m=\u001b[39m\u001b[38;5;28;01mTrue\u001b[39;00m)\n",
      "File \u001b[1;32mc:\\Users\\gorke\\anaconda3\\envs\\odevler\\Lib\\site-packages\\ragas\\_analytics.py:227\u001b[0m, in \u001b[0;36mtrack_was_completed.<locals>.wrapper\u001b[1;34m(*args, **kwargs)\u001b[0m\n\u001b[0;32m    224\u001b[0m \u001b[38;5;129m@wraps\u001b[39m(func)\n\u001b[0;32m    225\u001b[0m \u001b[38;5;28;01mdef\u001b[39;00m \u001b[38;5;21mwrapper\u001b[39m(\u001b[38;5;241m*\u001b[39margs: P\u001b[38;5;241m.\u001b[39margs, \u001b[38;5;241m*\u001b[39m\u001b[38;5;241m*\u001b[39mkwargs: P\u001b[38;5;241m.\u001b[39mkwargs) \u001b[38;5;241m-\u001b[39m\u001b[38;5;241m>\u001b[39m t\u001b[38;5;241m.\u001b[39mAny:\n\u001b[0;32m    226\u001b[0m     track(IsCompleteEvent(event_type\u001b[38;5;241m=\u001b[39mfunc\u001b[38;5;241m.\u001b[39m\u001b[38;5;18m__name__\u001b[39m, is_completed\u001b[38;5;241m=\u001b[39m\u001b[38;5;28;01mFalse\u001b[39;00m))\n\u001b[1;32m--> 227\u001b[0m     result \u001b[38;5;241m=\u001b[39m \u001b[43mfunc\u001b[49m\u001b[43m(\u001b[49m\u001b[38;5;241;43m*\u001b[39;49m\u001b[43margs\u001b[49m\u001b[43m,\u001b[49m\u001b[43m \u001b[49m\u001b[38;5;241;43m*\u001b[39;49m\u001b[38;5;241;43m*\u001b[39;49m\u001b[43mkwargs\u001b[49m\u001b[43m)\u001b[49m\n\u001b[0;32m    228\u001b[0m     track(IsCompleteEvent(event_type\u001b[38;5;241m=\u001b[39mfunc\u001b[38;5;241m.\u001b[39m\u001b[38;5;18m__name__\u001b[39m, is_completed\u001b[38;5;241m=\u001b[39m\u001b[38;5;28;01mTrue\u001b[39;00m))\n\u001b[0;32m    230\u001b[0m     \u001b[38;5;28;01mreturn\u001b[39;00m result\n",
      "File \u001b[1;32mc:\\Users\\gorke\\anaconda3\\envs\\odevler\\Lib\\site-packages\\ragas\\evaluation.py:298\u001b[0m, in \u001b[0;36mevaluate\u001b[1;34m(dataset, metrics, llm, embeddings, experiment_name, callbacks, run_config, token_usage_parser, raise_exceptions, column_map, show_progress, batch_size, _run_id, _pbar)\u001b[0m\n\u001b[0;32m    295\u001b[0m scores: t\u001b[38;5;241m.\u001b[39mList[t\u001b[38;5;241m.\u001b[39mDict[\u001b[38;5;28mstr\u001b[39m, t\u001b[38;5;241m.\u001b[39mAny]] \u001b[38;5;241m=\u001b[39m []\n\u001b[0;32m    296\u001b[0m \u001b[38;5;28;01mtry\u001b[39;00m:\n\u001b[0;32m    297\u001b[0m     \u001b[38;5;66;03m# get the results\u001b[39;00m\n\u001b[1;32m--> 298\u001b[0m     results \u001b[38;5;241m=\u001b[39m \u001b[43mexecutor\u001b[49m\u001b[38;5;241;43m.\u001b[39;49m\u001b[43mresults\u001b[49m\u001b[43m(\u001b[49m\u001b[43m)\u001b[49m\n\u001b[0;32m    299\u001b[0m     \u001b[38;5;28;01mif\u001b[39;00m results \u001b[38;5;241m==\u001b[39m []:\n\u001b[0;32m    300\u001b[0m         \u001b[38;5;28;01mraise\u001b[39;00m ExceptionInRunner()\n",
      "File \u001b[1;32mc:\\Users\\gorke\\anaconda3\\envs\\odevler\\Lib\\site-packages\\ragas\\executor.py:213\u001b[0m, in \u001b[0;36mExecutor.results\u001b[1;34m(self)\u001b[0m\n\u001b[0;32m    210\u001b[0m             nest_asyncio\u001b[38;5;241m.\u001b[39mapply()\n\u001b[0;32m    211\u001b[0m             \u001b[38;5;28mself\u001b[39m\u001b[38;5;241m.\u001b[39m_nest_asyncio_applied \u001b[38;5;241m=\u001b[39m \u001b[38;5;28;01mTrue\u001b[39;00m\n\u001b[1;32m--> 213\u001b[0m results \u001b[38;5;241m=\u001b[39m \u001b[43masyncio\u001b[49m\u001b[38;5;241;43m.\u001b[39;49m\u001b[43mrun\u001b[49m\u001b[43m(\u001b[49m\u001b[38;5;28;43mself\u001b[39;49m\u001b[38;5;241;43m.\u001b[39;49m\u001b[43m_process_jobs\u001b[49m\u001b[43m(\u001b[49m\u001b[43m)\u001b[49m\u001b[43m)\u001b[49m\n\u001b[0;32m    214\u001b[0m sorted_results \u001b[38;5;241m=\u001b[39m \u001b[38;5;28msorted\u001b[39m(results, key\u001b[38;5;241m=\u001b[39m\u001b[38;5;28;01mlambda\u001b[39;00m x: x[\u001b[38;5;241m0\u001b[39m])\n\u001b[0;32m    215\u001b[0m \u001b[38;5;28;01mreturn\u001b[39;00m [r[\u001b[38;5;241m1\u001b[39m] \u001b[38;5;28;01mfor\u001b[39;00m r \u001b[38;5;129;01min\u001b[39;00m sorted_results]\n",
      "File \u001b[1;32mc:\\Users\\gorke\\anaconda3\\envs\\odevler\\Lib\\site-packages\\nest_asyncio.py:30\u001b[0m, in \u001b[0;36m_patch_asyncio.<locals>.run\u001b[1;34m(main, debug)\u001b[0m\n\u001b[0;32m     28\u001b[0m task \u001b[38;5;241m=\u001b[39m asyncio\u001b[38;5;241m.\u001b[39mensure_future(main)\n\u001b[0;32m     29\u001b[0m \u001b[38;5;28;01mtry\u001b[39;00m:\n\u001b[1;32m---> 30\u001b[0m     \u001b[38;5;28;01mreturn\u001b[39;00m \u001b[43mloop\u001b[49m\u001b[38;5;241;43m.\u001b[39;49m\u001b[43mrun_until_complete\u001b[49m\u001b[43m(\u001b[49m\u001b[43mtask\u001b[49m\u001b[43m)\u001b[49m\n\u001b[0;32m     31\u001b[0m \u001b[38;5;28;01mfinally\u001b[39;00m:\n\u001b[0;32m     32\u001b[0m     \u001b[38;5;28;01mif\u001b[39;00m \u001b[38;5;129;01mnot\u001b[39;00m task\u001b[38;5;241m.\u001b[39mdone():\n",
      "File \u001b[1;32mc:\\Users\\gorke\\anaconda3\\envs\\odevler\\Lib\\site-packages\\nest_asyncio.py:92\u001b[0m, in \u001b[0;36m_patch_loop.<locals>.run_until_complete\u001b[1;34m(self, future)\u001b[0m\n\u001b[0;32m     90\u001b[0m     f\u001b[38;5;241m.\u001b[39m_log_destroy_pending \u001b[38;5;241m=\u001b[39m \u001b[38;5;28;01mFalse\u001b[39;00m\n\u001b[0;32m     91\u001b[0m \u001b[38;5;28;01mwhile\u001b[39;00m \u001b[38;5;129;01mnot\u001b[39;00m f\u001b[38;5;241m.\u001b[39mdone():\n\u001b[1;32m---> 92\u001b[0m     \u001b[38;5;28;43mself\u001b[39;49m\u001b[38;5;241;43m.\u001b[39;49m\u001b[43m_run_once\u001b[49m\u001b[43m(\u001b[49m\u001b[43m)\u001b[49m\n\u001b[0;32m     93\u001b[0m     \u001b[38;5;28;01mif\u001b[39;00m \u001b[38;5;28mself\u001b[39m\u001b[38;5;241m.\u001b[39m_stopping:\n\u001b[0;32m     94\u001b[0m         \u001b[38;5;28;01mbreak\u001b[39;00m\n",
      "File \u001b[1;32mc:\\Users\\gorke\\anaconda3\\envs\\odevler\\Lib\\site-packages\\nest_asyncio.py:133\u001b[0m, in \u001b[0;36m_patch_loop.<locals>._run_once\u001b[1;34m(self)\u001b[0m\n\u001b[0;32m    130\u001b[0m curr_task \u001b[38;5;241m=\u001b[39m curr_tasks\u001b[38;5;241m.\u001b[39mpop(\u001b[38;5;28mself\u001b[39m, \u001b[38;5;28;01mNone\u001b[39;00m)\n\u001b[0;32m    132\u001b[0m \u001b[38;5;28;01mtry\u001b[39;00m:\n\u001b[1;32m--> 133\u001b[0m     \u001b[43mhandle\u001b[49m\u001b[38;5;241;43m.\u001b[39;49m\u001b[43m_run\u001b[49m\u001b[43m(\u001b[49m\u001b[43m)\u001b[49m\n\u001b[0;32m    134\u001b[0m \u001b[38;5;28;01mfinally\u001b[39;00m:\n\u001b[0;32m    135\u001b[0m     \u001b[38;5;66;03m# restore the current task\u001b[39;00m\n\u001b[0;32m    136\u001b[0m     \u001b[38;5;28;01mif\u001b[39;00m curr_task \u001b[38;5;129;01mis\u001b[39;00m \u001b[38;5;129;01mnot\u001b[39;00m \u001b[38;5;28;01mNone\u001b[39;00m:\n",
      "File \u001b[1;32mc:\\Users\\gorke\\anaconda3\\envs\\odevler\\Lib\\asyncio\\events.py:88\u001b[0m, in \u001b[0;36mHandle._run\u001b[1;34m(self)\u001b[0m\n\u001b[0;32m     86\u001b[0m \u001b[38;5;28;01mdef\u001b[39;00m \u001b[38;5;21m_run\u001b[39m(\u001b[38;5;28mself\u001b[39m):\n\u001b[0;32m     87\u001b[0m     \u001b[38;5;28;01mtry\u001b[39;00m:\n\u001b[1;32m---> 88\u001b[0m         \u001b[38;5;28;43mself\u001b[39;49m\u001b[38;5;241;43m.\u001b[39;49m\u001b[43m_context\u001b[49m\u001b[38;5;241;43m.\u001b[39;49m\u001b[43mrun\u001b[49m\u001b[43m(\u001b[49m\u001b[38;5;28;43mself\u001b[39;49m\u001b[38;5;241;43m.\u001b[39;49m\u001b[43m_callback\u001b[49m\u001b[43m,\u001b[49m\u001b[43m \u001b[49m\u001b[38;5;241;43m*\u001b[39;49m\u001b[38;5;28;43mself\u001b[39;49m\u001b[38;5;241;43m.\u001b[39;49m\u001b[43m_args\u001b[49m\u001b[43m)\u001b[49m\n\u001b[0;32m     89\u001b[0m     \u001b[38;5;28;01mexcept\u001b[39;00m (\u001b[38;5;167;01mSystemExit\u001b[39;00m, \u001b[38;5;167;01mKeyboardInterrupt\u001b[39;00m):\n\u001b[0;32m     90\u001b[0m         \u001b[38;5;28;01mraise\u001b[39;00m\n",
      "File \u001b[1;32mc:\\Users\\gorke\\anaconda3\\envs\\odevler\\Lib\\asyncio\\tasks.py:396\u001b[0m, in \u001b[0;36mTask.__wakeup\u001b[1;34m(self, future)\u001b[0m\n\u001b[0;32m    388\u001b[0m     \u001b[38;5;28mself\u001b[39m\u001b[38;5;241m.\u001b[39m__step(exc)\n\u001b[0;32m    389\u001b[0m \u001b[38;5;28;01melse\u001b[39;00m:\n\u001b[0;32m    390\u001b[0m     \u001b[38;5;66;03m# Don't pass the value of `future.result()` explicitly,\u001b[39;00m\n\u001b[0;32m    391\u001b[0m     \u001b[38;5;66;03m# as `Future.__iter__` and `Future.__await__` don't need it.\u001b[39;00m\n\u001b[1;32m   (...)\u001b[0m\n\u001b[0;32m    394\u001b[0m     \u001b[38;5;66;03m# instead of `__next__()`, which is slower for futures\u001b[39;00m\n\u001b[0;32m    395\u001b[0m     \u001b[38;5;66;03m# that return non-generator iterators from their `__iter__`.\u001b[39;00m\n\u001b[1;32m--> 396\u001b[0m     \u001b[38;5;28;43mself\u001b[39;49m\u001b[38;5;241;43m.\u001b[39;49m\u001b[43m__step\u001b[49m\u001b[43m(\u001b[49m\u001b[43m)\u001b[49m\n\u001b[0;32m    397\u001b[0m \u001b[38;5;28mself\u001b[39m \u001b[38;5;241m=\u001b[39m \u001b[38;5;28;01mNone\u001b[39;00m\n",
      "File \u001b[1;32mc:\\Users\\gorke\\anaconda3\\envs\\odevler\\Lib\\asyncio\\tasks.py:303\u001b[0m, in \u001b[0;36mTask.__step\u001b[1;34m(self, exc)\u001b[0m\n\u001b[0;32m    301\u001b[0m _enter_task(\u001b[38;5;28mself\u001b[39m\u001b[38;5;241m.\u001b[39m_loop, \u001b[38;5;28mself\u001b[39m)\n\u001b[0;32m    302\u001b[0m \u001b[38;5;28;01mtry\u001b[39;00m:\n\u001b[1;32m--> 303\u001b[0m     \u001b[38;5;28;43mself\u001b[39;49m\u001b[38;5;241;43m.\u001b[39;49m\u001b[43m__step_run_and_handle_result\u001b[49m\u001b[43m(\u001b[49m\u001b[43mexc\u001b[49m\u001b[43m)\u001b[49m\n\u001b[0;32m    304\u001b[0m \u001b[38;5;28;01mfinally\u001b[39;00m:\n\u001b[0;32m    305\u001b[0m     _leave_task(\u001b[38;5;28mself\u001b[39m\u001b[38;5;241m.\u001b[39m_loop, \u001b[38;5;28mself\u001b[39m)\n",
      "File \u001b[1;32mc:\\Users\\gorke\\anaconda3\\envs\\odevler\\Lib\\asyncio\\tasks.py:314\u001b[0m, in \u001b[0;36mTask.__step_run_and_handle_result\u001b[1;34m(***failed resolving arguments***)\u001b[0m\n\u001b[0;32m    310\u001b[0m \u001b[38;5;28;01mtry\u001b[39;00m:\n\u001b[0;32m    311\u001b[0m     \u001b[38;5;28;01mif\u001b[39;00m exc \u001b[38;5;129;01mis\u001b[39;00m \u001b[38;5;28;01mNone\u001b[39;00m:\n\u001b[0;32m    312\u001b[0m         \u001b[38;5;66;03m# We use the `send` method directly, because coroutines\u001b[39;00m\n\u001b[0;32m    313\u001b[0m         \u001b[38;5;66;03m# don't have `__iter__` and `__next__` methods.\u001b[39;00m\n\u001b[1;32m--> 314\u001b[0m         result \u001b[38;5;241m=\u001b[39m \u001b[43mcoro\u001b[49m\u001b[38;5;241;43m.\u001b[39;49m\u001b[43msend\u001b[49m\u001b[43m(\u001b[49m\u001b[38;5;28;43;01mNone\u001b[39;49;00m\u001b[43m)\u001b[49m\n\u001b[0;32m    315\u001b[0m     \u001b[38;5;28;01melse\u001b[39;00m:\n\u001b[0;32m    316\u001b[0m         result \u001b[38;5;241m=\u001b[39m coro\u001b[38;5;241m.\u001b[39mthrow(exc)\n",
      "File \u001b[1;32mc:\\Users\\gorke\\anaconda3\\envs\\odevler\\Lib\\site-packages\\langchain_core\\language_models\\chat_models.py:715\u001b[0m, in \u001b[0;36mBaseChatModel._agenerate_with_cache\u001b[1;34m(self, messages, stop, run_manager, **kwargs)\u001b[0m\n\u001b[0;32m    713\u001b[0m \u001b[38;5;28;01melse\u001b[39;00m:\n\u001b[0;32m    714\u001b[0m     \u001b[38;5;28;01mif\u001b[39;00m inspect\u001b[38;5;241m.\u001b[39msignature(\u001b[38;5;28mself\u001b[39m\u001b[38;5;241m.\u001b[39m_agenerate)\u001b[38;5;241m.\u001b[39mparameters\u001b[38;5;241m.\u001b[39mget(\u001b[38;5;124m\"\u001b[39m\u001b[38;5;124mrun_manager\u001b[39m\u001b[38;5;124m\"\u001b[39m):\n\u001b[1;32m--> 715\u001b[0m         result \u001b[38;5;241m=\u001b[39m \u001b[38;5;28;01mawait\u001b[39;00m \u001b[38;5;28mself\u001b[39m\u001b[38;5;241m.\u001b[39m_agenerate(\n\u001b[0;32m    716\u001b[0m             messages, stop\u001b[38;5;241m=\u001b[39mstop, run_manager\u001b[38;5;241m=\u001b[39mrun_manager, \u001b[38;5;241m*\u001b[39m\u001b[38;5;241m*\u001b[39mkwargs\n\u001b[0;32m    717\u001b[0m         )\n\u001b[0;32m    718\u001b[0m     \u001b[38;5;28;01melse\u001b[39;00m:\n\u001b[0;32m    719\u001b[0m         result \u001b[38;5;241m=\u001b[39m \u001b[38;5;28;01mawait\u001b[39;00m \u001b[38;5;28mself\u001b[39m\u001b[38;5;241m.\u001b[39m_agenerate(messages, stop\u001b[38;5;241m=\u001b[39mstop, \u001b[38;5;241m*\u001b[39m\u001b[38;5;241m*\u001b[39mkwargs)\n",
      "File \u001b[1;32mc:\\Users\\gorke\\anaconda3\\envs\\odevler\\Lib\\site-packages\\langchain_openai\\chat_models\\base.py:623\u001b[0m, in \u001b[0;36mBaseChatOpenAI._agenerate\u001b[1;34m(self, messages, stop, run_manager, **kwargs)\u001b[0m\n\u001b[0;32m    621\u001b[0m message_dicts, params \u001b[38;5;241m=\u001b[39m \u001b[38;5;28mself\u001b[39m\u001b[38;5;241m.\u001b[39m_create_message_dicts(messages, stop)\n\u001b[0;32m    622\u001b[0m params \u001b[38;5;241m=\u001b[39m {\u001b[38;5;241m*\u001b[39m\u001b[38;5;241m*\u001b[39mparams, \u001b[38;5;241m*\u001b[39m\u001b[38;5;241m*\u001b[39mkwargs}\n\u001b[1;32m--> 623\u001b[0m response \u001b[38;5;241m=\u001b[39m \u001b[38;5;28;01mawait\u001b[39;00m \u001b[38;5;28mself\u001b[39m\u001b[38;5;241m.\u001b[39masync_client\u001b[38;5;241m.\u001b[39mcreate(messages\u001b[38;5;241m=\u001b[39mmessage_dicts, \u001b[38;5;241m*\u001b[39m\u001b[38;5;241m*\u001b[39mparams)\n\u001b[0;32m    624\u001b[0m \u001b[38;5;28;01mreturn\u001b[39;00m \u001b[38;5;28mself\u001b[39m\u001b[38;5;241m.\u001b[39m_create_chat_result(response)\n",
      "File \u001b[1;32mc:\\Users\\gorke\\anaconda3\\envs\\odevler\\Lib\\site-packages\\openai\\resources\\chat\\completions.py:1702\u001b[0m, in \u001b[0;36mAsyncCompletions.create\u001b[1;34m(self, messages, model, audio, frequency_penalty, function_call, functions, logit_bias, logprobs, max_completion_tokens, max_tokens, metadata, modalities, n, parallel_tool_calls, prediction, presence_penalty, reasoning_effort, response_format, seed, service_tier, stop, store, stream, stream_options, temperature, tool_choice, tools, top_logprobs, top_p, user, extra_headers, extra_query, extra_body, timeout)\u001b[0m\n\u001b[0;32m   1660\u001b[0m \u001b[38;5;129m@required_args\u001b[39m([\u001b[38;5;124m\"\u001b[39m\u001b[38;5;124mmessages\u001b[39m\u001b[38;5;124m\"\u001b[39m, \u001b[38;5;124m\"\u001b[39m\u001b[38;5;124mmodel\u001b[39m\u001b[38;5;124m\"\u001b[39m], [\u001b[38;5;124m\"\u001b[39m\u001b[38;5;124mmessages\u001b[39m\u001b[38;5;124m\"\u001b[39m, \u001b[38;5;124m\"\u001b[39m\u001b[38;5;124mmodel\u001b[39m\u001b[38;5;124m\"\u001b[39m, \u001b[38;5;124m\"\u001b[39m\u001b[38;5;124mstream\u001b[39m\u001b[38;5;124m\"\u001b[39m])\n\u001b[0;32m   1661\u001b[0m \u001b[38;5;28;01masync\u001b[39;00m \u001b[38;5;28;01mdef\u001b[39;00m \u001b[38;5;21mcreate\u001b[39m(\n\u001b[0;32m   1662\u001b[0m     \u001b[38;5;28mself\u001b[39m,\n\u001b[1;32m   (...)\u001b[0m\n\u001b[0;32m   1699\u001b[0m     timeout: \u001b[38;5;28mfloat\u001b[39m \u001b[38;5;241m|\u001b[39m httpx\u001b[38;5;241m.\u001b[39mTimeout \u001b[38;5;241m|\u001b[39m \u001b[38;5;28;01mNone\u001b[39;00m \u001b[38;5;241m|\u001b[39m NotGiven \u001b[38;5;241m=\u001b[39m NOT_GIVEN,\n\u001b[0;32m   1700\u001b[0m ) \u001b[38;5;241m-\u001b[39m\u001b[38;5;241m>\u001b[39m ChatCompletion \u001b[38;5;241m|\u001b[39m AsyncStream[ChatCompletionChunk]:\n\u001b[0;32m   1701\u001b[0m     validate_response_format(response_format)\n\u001b[1;32m-> 1702\u001b[0m     \u001b[38;5;28;01mreturn\u001b[39;00m \u001b[38;5;28;01mawait\u001b[39;00m \u001b[38;5;28mself\u001b[39m\u001b[38;5;241m.\u001b[39m_post(\n\u001b[0;32m   1703\u001b[0m         \u001b[38;5;124m\"\u001b[39m\u001b[38;5;124m/chat/completions\u001b[39m\u001b[38;5;124m\"\u001b[39m,\n\u001b[0;32m   1704\u001b[0m         body\u001b[38;5;241m=\u001b[39m\u001b[38;5;28;01mawait\u001b[39;00m async_maybe_transform(\n\u001b[0;32m   1705\u001b[0m             {\n\u001b[0;32m   1706\u001b[0m                 \u001b[38;5;124m\"\u001b[39m\u001b[38;5;124mmessages\u001b[39m\u001b[38;5;124m\"\u001b[39m: messages,\n\u001b[0;32m   1707\u001b[0m                 \u001b[38;5;124m\"\u001b[39m\u001b[38;5;124mmodel\u001b[39m\u001b[38;5;124m\"\u001b[39m: model,\n\u001b[0;32m   1708\u001b[0m                 \u001b[38;5;124m\"\u001b[39m\u001b[38;5;124maudio\u001b[39m\u001b[38;5;124m\"\u001b[39m: audio,\n\u001b[0;32m   1709\u001b[0m                 \u001b[38;5;124m\"\u001b[39m\u001b[38;5;124mfrequency_penalty\u001b[39m\u001b[38;5;124m\"\u001b[39m: frequency_penalty,\n\u001b[0;32m   1710\u001b[0m                 \u001b[38;5;124m\"\u001b[39m\u001b[38;5;124mfunction_call\u001b[39m\u001b[38;5;124m\"\u001b[39m: function_call,\n\u001b[0;32m   1711\u001b[0m                 \u001b[38;5;124m\"\u001b[39m\u001b[38;5;124mfunctions\u001b[39m\u001b[38;5;124m\"\u001b[39m: functions,\n\u001b[0;32m   1712\u001b[0m                 \u001b[38;5;124m\"\u001b[39m\u001b[38;5;124mlogit_bias\u001b[39m\u001b[38;5;124m\"\u001b[39m: logit_bias,\n\u001b[0;32m   1713\u001b[0m                 \u001b[38;5;124m\"\u001b[39m\u001b[38;5;124mlogprobs\u001b[39m\u001b[38;5;124m\"\u001b[39m: logprobs,\n\u001b[0;32m   1714\u001b[0m                 \u001b[38;5;124m\"\u001b[39m\u001b[38;5;124mmax_completion_tokens\u001b[39m\u001b[38;5;124m\"\u001b[39m: max_completion_tokens,\n\u001b[0;32m   1715\u001b[0m                 \u001b[38;5;124m\"\u001b[39m\u001b[38;5;124mmax_tokens\u001b[39m\u001b[38;5;124m\"\u001b[39m: max_tokens,\n\u001b[0;32m   1716\u001b[0m                 \u001b[38;5;124m\"\u001b[39m\u001b[38;5;124mmetadata\u001b[39m\u001b[38;5;124m\"\u001b[39m: metadata,\n\u001b[0;32m   1717\u001b[0m                 \u001b[38;5;124m\"\u001b[39m\u001b[38;5;124mmodalities\u001b[39m\u001b[38;5;124m\"\u001b[39m: modalities,\n\u001b[0;32m   1718\u001b[0m                 \u001b[38;5;124m\"\u001b[39m\u001b[38;5;124mn\u001b[39m\u001b[38;5;124m\"\u001b[39m: n,\n\u001b[0;32m   1719\u001b[0m                 \u001b[38;5;124m\"\u001b[39m\u001b[38;5;124mparallel_tool_calls\u001b[39m\u001b[38;5;124m\"\u001b[39m: parallel_tool_calls,\n\u001b[0;32m   1720\u001b[0m                 \u001b[38;5;124m\"\u001b[39m\u001b[38;5;124mprediction\u001b[39m\u001b[38;5;124m\"\u001b[39m: prediction,\n\u001b[0;32m   1721\u001b[0m                 \u001b[38;5;124m\"\u001b[39m\u001b[38;5;124mpresence_penalty\u001b[39m\u001b[38;5;124m\"\u001b[39m: presence_penalty,\n\u001b[0;32m   1722\u001b[0m                 \u001b[38;5;124m\"\u001b[39m\u001b[38;5;124mreasoning_effort\u001b[39m\u001b[38;5;124m\"\u001b[39m: reasoning_effort,\n\u001b[0;32m   1723\u001b[0m                 \u001b[38;5;124m\"\u001b[39m\u001b[38;5;124mresponse_format\u001b[39m\u001b[38;5;124m\"\u001b[39m: response_format,\n\u001b[0;32m   1724\u001b[0m                 \u001b[38;5;124m\"\u001b[39m\u001b[38;5;124mseed\u001b[39m\u001b[38;5;124m\"\u001b[39m: seed,\n\u001b[0;32m   1725\u001b[0m                 \u001b[38;5;124m\"\u001b[39m\u001b[38;5;124mservice_tier\u001b[39m\u001b[38;5;124m\"\u001b[39m: service_tier,\n\u001b[0;32m   1726\u001b[0m                 \u001b[38;5;124m\"\u001b[39m\u001b[38;5;124mstop\u001b[39m\u001b[38;5;124m\"\u001b[39m: stop,\n\u001b[0;32m   1727\u001b[0m                 \u001b[38;5;124m\"\u001b[39m\u001b[38;5;124mstore\u001b[39m\u001b[38;5;124m\"\u001b[39m: store,\n\u001b[0;32m   1728\u001b[0m                 \u001b[38;5;124m\"\u001b[39m\u001b[38;5;124mstream\u001b[39m\u001b[38;5;124m\"\u001b[39m: stream,\n\u001b[0;32m   1729\u001b[0m                 \u001b[38;5;124m\"\u001b[39m\u001b[38;5;124mstream_options\u001b[39m\u001b[38;5;124m\"\u001b[39m: stream_options,\n\u001b[0;32m   1730\u001b[0m                 \u001b[38;5;124m\"\u001b[39m\u001b[38;5;124mtemperature\u001b[39m\u001b[38;5;124m\"\u001b[39m: temperature,\n\u001b[0;32m   1731\u001b[0m                 \u001b[38;5;124m\"\u001b[39m\u001b[38;5;124mtool_choice\u001b[39m\u001b[38;5;124m\"\u001b[39m: tool_choice,\n\u001b[0;32m   1732\u001b[0m                 \u001b[38;5;124m\"\u001b[39m\u001b[38;5;124mtools\u001b[39m\u001b[38;5;124m\"\u001b[39m: tools,\n\u001b[0;32m   1733\u001b[0m                 \u001b[38;5;124m\"\u001b[39m\u001b[38;5;124mtop_logprobs\u001b[39m\u001b[38;5;124m\"\u001b[39m: top_logprobs,\n\u001b[0;32m   1734\u001b[0m                 \u001b[38;5;124m\"\u001b[39m\u001b[38;5;124mtop_p\u001b[39m\u001b[38;5;124m\"\u001b[39m: top_p,\n\u001b[0;32m   1735\u001b[0m                 \u001b[38;5;124m\"\u001b[39m\u001b[38;5;124muser\u001b[39m\u001b[38;5;124m\"\u001b[39m: user,\n\u001b[0;32m   1736\u001b[0m             },\n\u001b[0;32m   1737\u001b[0m             completion_create_params\u001b[38;5;241m.\u001b[39mCompletionCreateParams,\n\u001b[0;32m   1738\u001b[0m         ),\n\u001b[0;32m   1739\u001b[0m         options\u001b[38;5;241m=\u001b[39mmake_request_options(\n\u001b[0;32m   1740\u001b[0m             extra_headers\u001b[38;5;241m=\u001b[39mextra_headers, extra_query\u001b[38;5;241m=\u001b[39mextra_query, extra_body\u001b[38;5;241m=\u001b[39mextra_body, timeout\u001b[38;5;241m=\u001b[39mtimeout\n\u001b[0;32m   1741\u001b[0m         ),\n\u001b[0;32m   1742\u001b[0m         cast_to\u001b[38;5;241m=\u001b[39mChatCompletion,\n\u001b[0;32m   1743\u001b[0m         stream\u001b[38;5;241m=\u001b[39mstream \u001b[38;5;129;01mor\u001b[39;00m \u001b[38;5;28;01mFalse\u001b[39;00m,\n\u001b[0;32m   1744\u001b[0m         stream_cls\u001b[38;5;241m=\u001b[39mAsyncStream[ChatCompletionChunk],\n\u001b[0;32m   1745\u001b[0m     )\n",
      "File \u001b[1;32mc:\\Users\\gorke\\anaconda3\\envs\\odevler\\Lib\\site-packages\\openai\\_base_client.py:1849\u001b[0m, in \u001b[0;36mAsyncAPIClient.post\u001b[1;34m(self, path, cast_to, body, files, options, stream, stream_cls)\u001b[0m\n\u001b[0;32m   1835\u001b[0m \u001b[38;5;28;01masync\u001b[39;00m \u001b[38;5;28;01mdef\u001b[39;00m \u001b[38;5;21mpost\u001b[39m(\n\u001b[0;32m   1836\u001b[0m     \u001b[38;5;28mself\u001b[39m,\n\u001b[0;32m   1837\u001b[0m     path: \u001b[38;5;28mstr\u001b[39m,\n\u001b[1;32m   (...)\u001b[0m\n\u001b[0;32m   1844\u001b[0m     stream_cls: \u001b[38;5;28mtype\u001b[39m[_AsyncStreamT] \u001b[38;5;241m|\u001b[39m \u001b[38;5;28;01mNone\u001b[39;00m \u001b[38;5;241m=\u001b[39m \u001b[38;5;28;01mNone\u001b[39;00m,\n\u001b[0;32m   1845\u001b[0m ) \u001b[38;5;241m-\u001b[39m\u001b[38;5;241m>\u001b[39m ResponseT \u001b[38;5;241m|\u001b[39m _AsyncStreamT:\n\u001b[0;32m   1846\u001b[0m     opts \u001b[38;5;241m=\u001b[39m FinalRequestOptions\u001b[38;5;241m.\u001b[39mconstruct(\n\u001b[0;32m   1847\u001b[0m         method\u001b[38;5;241m=\u001b[39m\u001b[38;5;124m\"\u001b[39m\u001b[38;5;124mpost\u001b[39m\u001b[38;5;124m\"\u001b[39m, url\u001b[38;5;241m=\u001b[39mpath, json_data\u001b[38;5;241m=\u001b[39mbody, files\u001b[38;5;241m=\u001b[39m\u001b[38;5;28;01mawait\u001b[39;00m async_to_httpx_files(files), \u001b[38;5;241m*\u001b[39m\u001b[38;5;241m*\u001b[39moptions\n\u001b[0;32m   1848\u001b[0m     )\n\u001b[1;32m-> 1849\u001b[0m     \u001b[38;5;28;01mreturn\u001b[39;00m \u001b[38;5;28;01mawait\u001b[39;00m \u001b[38;5;28mself\u001b[39m\u001b[38;5;241m.\u001b[39mrequest(cast_to, opts, stream\u001b[38;5;241m=\u001b[39mstream, stream_cls\u001b[38;5;241m=\u001b[39mstream_cls)\n",
      "File \u001b[1;32mc:\\Users\\gorke\\anaconda3\\envs\\odevler\\Lib\\site-packages\\openai\\_base_client.py:1543\u001b[0m, in \u001b[0;36mAsyncAPIClient.request\u001b[1;34m(self, cast_to, options, stream, stream_cls, remaining_retries)\u001b[0m\n\u001b[0;32m   1540\u001b[0m \u001b[38;5;28;01melse\u001b[39;00m:\n\u001b[0;32m   1541\u001b[0m     retries_taken \u001b[38;5;241m=\u001b[39m \u001b[38;5;241m0\u001b[39m\n\u001b[1;32m-> 1543\u001b[0m \u001b[38;5;28;01mreturn\u001b[39;00m \u001b[38;5;28;01mawait\u001b[39;00m \u001b[38;5;28mself\u001b[39m\u001b[38;5;241m.\u001b[39m_request(\n\u001b[0;32m   1544\u001b[0m     cast_to\u001b[38;5;241m=\u001b[39mcast_to,\n\u001b[0;32m   1545\u001b[0m     options\u001b[38;5;241m=\u001b[39moptions,\n\u001b[0;32m   1546\u001b[0m     stream\u001b[38;5;241m=\u001b[39mstream,\n\u001b[0;32m   1547\u001b[0m     stream_cls\u001b[38;5;241m=\u001b[39mstream_cls,\n\u001b[0;32m   1548\u001b[0m     retries_taken\u001b[38;5;241m=\u001b[39mretries_taken,\n\u001b[0;32m   1549\u001b[0m )\n",
      "File \u001b[1;32mc:\\Users\\gorke\\anaconda3\\envs\\odevler\\Lib\\site-packages\\openai\\_base_client.py:1629\u001b[0m, in \u001b[0;36mAsyncAPIClient._request\u001b[1;34m(self, cast_to, options, stream, stream_cls, retries_taken)\u001b[0m\n\u001b[0;32m   1627\u001b[0m \u001b[38;5;28;01mif\u001b[39;00m remaining_retries \u001b[38;5;241m>\u001b[39m \u001b[38;5;241m0\u001b[39m \u001b[38;5;129;01mand\u001b[39;00m \u001b[38;5;28mself\u001b[39m\u001b[38;5;241m.\u001b[39m_should_retry(err\u001b[38;5;241m.\u001b[39mresponse):\n\u001b[0;32m   1628\u001b[0m     \u001b[38;5;28;01mawait\u001b[39;00m err\u001b[38;5;241m.\u001b[39mresponse\u001b[38;5;241m.\u001b[39maclose()\n\u001b[1;32m-> 1629\u001b[0m     \u001b[38;5;28;01mreturn\u001b[39;00m \u001b[38;5;28;01mawait\u001b[39;00m \u001b[38;5;28mself\u001b[39m\u001b[38;5;241m.\u001b[39m_retry_request(\n\u001b[0;32m   1630\u001b[0m         input_options,\n\u001b[0;32m   1631\u001b[0m         cast_to,\n\u001b[0;32m   1632\u001b[0m         retries_taken\u001b[38;5;241m=\u001b[39mretries_taken,\n\u001b[0;32m   1633\u001b[0m         response_headers\u001b[38;5;241m=\u001b[39merr\u001b[38;5;241m.\u001b[39mresponse\u001b[38;5;241m.\u001b[39mheaders,\n\u001b[0;32m   1634\u001b[0m         stream\u001b[38;5;241m=\u001b[39mstream,\n\u001b[0;32m   1635\u001b[0m         stream_cls\u001b[38;5;241m=\u001b[39mstream_cls,\n\u001b[0;32m   1636\u001b[0m     )\n\u001b[0;32m   1638\u001b[0m \u001b[38;5;66;03m# If the response is streamed then we need to explicitly read the response\u001b[39;00m\n\u001b[0;32m   1639\u001b[0m \u001b[38;5;66;03m# to completion before attempting to access the response text.\u001b[39;00m\n\u001b[0;32m   1640\u001b[0m \u001b[38;5;28;01mif\u001b[39;00m \u001b[38;5;129;01mnot\u001b[39;00m err\u001b[38;5;241m.\u001b[39mresponse\u001b[38;5;241m.\u001b[39mis_closed:\n",
      "File \u001b[1;32mc:\\Users\\gorke\\anaconda3\\envs\\odevler\\Lib\\site-packages\\openai\\_base_client.py:1676\u001b[0m, in \u001b[0;36mAsyncAPIClient._retry_request\u001b[1;34m(self, options, cast_to, retries_taken, response_headers, stream, stream_cls)\u001b[0m\n\u001b[0;32m   1672\u001b[0m log\u001b[38;5;241m.\u001b[39minfo(\u001b[38;5;124m\"\u001b[39m\u001b[38;5;124mRetrying request to \u001b[39m\u001b[38;5;132;01m%s\u001b[39;00m\u001b[38;5;124m in \u001b[39m\u001b[38;5;132;01m%f\u001b[39;00m\u001b[38;5;124m seconds\u001b[39m\u001b[38;5;124m\"\u001b[39m, options\u001b[38;5;241m.\u001b[39murl, timeout)\n\u001b[0;32m   1674\u001b[0m \u001b[38;5;28;01mawait\u001b[39;00m anyio\u001b[38;5;241m.\u001b[39msleep(timeout)\n\u001b[1;32m-> 1676\u001b[0m \u001b[38;5;28;01mreturn\u001b[39;00m \u001b[38;5;28;01mawait\u001b[39;00m \u001b[38;5;28mself\u001b[39m\u001b[38;5;241m.\u001b[39m_request(\n\u001b[0;32m   1677\u001b[0m     options\u001b[38;5;241m=\u001b[39moptions,\n\u001b[0;32m   1678\u001b[0m     cast_to\u001b[38;5;241m=\u001b[39mcast_to,\n\u001b[0;32m   1679\u001b[0m     retries_taken\u001b[38;5;241m=\u001b[39mretries_taken \u001b[38;5;241m+\u001b[39m \u001b[38;5;241m1\u001b[39m,\n\u001b[0;32m   1680\u001b[0m     stream\u001b[38;5;241m=\u001b[39mstream,\n\u001b[0;32m   1681\u001b[0m     stream_cls\u001b[38;5;241m=\u001b[39mstream_cls,\n\u001b[0;32m   1682\u001b[0m )\n",
      "File \u001b[1;32mc:\\Users\\gorke\\anaconda3\\envs\\odevler\\Lib\\site-packages\\openai\\_base_client.py:1629\u001b[0m, in \u001b[0;36mAsyncAPIClient._request\u001b[1;34m(self, cast_to, options, stream, stream_cls, retries_taken)\u001b[0m\n\u001b[0;32m   1627\u001b[0m \u001b[38;5;28;01mif\u001b[39;00m remaining_retries \u001b[38;5;241m>\u001b[39m \u001b[38;5;241m0\u001b[39m \u001b[38;5;129;01mand\u001b[39;00m \u001b[38;5;28mself\u001b[39m\u001b[38;5;241m.\u001b[39m_should_retry(err\u001b[38;5;241m.\u001b[39mresponse):\n\u001b[0;32m   1628\u001b[0m     \u001b[38;5;28;01mawait\u001b[39;00m err\u001b[38;5;241m.\u001b[39mresponse\u001b[38;5;241m.\u001b[39maclose()\n\u001b[1;32m-> 1629\u001b[0m     \u001b[38;5;28;01mreturn\u001b[39;00m \u001b[38;5;28;01mawait\u001b[39;00m \u001b[38;5;28mself\u001b[39m\u001b[38;5;241m.\u001b[39m_retry_request(\n\u001b[0;32m   1630\u001b[0m         input_options,\n\u001b[0;32m   1631\u001b[0m         cast_to,\n\u001b[0;32m   1632\u001b[0m         retries_taken\u001b[38;5;241m=\u001b[39mretries_taken,\n\u001b[0;32m   1633\u001b[0m         response_headers\u001b[38;5;241m=\u001b[39merr\u001b[38;5;241m.\u001b[39mresponse\u001b[38;5;241m.\u001b[39mheaders,\n\u001b[0;32m   1634\u001b[0m         stream\u001b[38;5;241m=\u001b[39mstream,\n\u001b[0;32m   1635\u001b[0m         stream_cls\u001b[38;5;241m=\u001b[39mstream_cls,\n\u001b[0;32m   1636\u001b[0m     )\n\u001b[0;32m   1638\u001b[0m \u001b[38;5;66;03m# If the response is streamed then we need to explicitly read the response\u001b[39;00m\n\u001b[0;32m   1639\u001b[0m \u001b[38;5;66;03m# to completion before attempting to access the response text.\u001b[39;00m\n\u001b[0;32m   1640\u001b[0m \u001b[38;5;28;01mif\u001b[39;00m \u001b[38;5;129;01mnot\u001b[39;00m err\u001b[38;5;241m.\u001b[39mresponse\u001b[38;5;241m.\u001b[39mis_closed:\n",
      "File \u001b[1;32mc:\\Users\\gorke\\anaconda3\\envs\\odevler\\Lib\\site-packages\\openai\\_base_client.py:1676\u001b[0m, in \u001b[0;36mAsyncAPIClient._retry_request\u001b[1;34m(self, options, cast_to, retries_taken, response_headers, stream, stream_cls)\u001b[0m\n\u001b[0;32m   1672\u001b[0m log\u001b[38;5;241m.\u001b[39minfo(\u001b[38;5;124m\"\u001b[39m\u001b[38;5;124mRetrying request to \u001b[39m\u001b[38;5;132;01m%s\u001b[39;00m\u001b[38;5;124m in \u001b[39m\u001b[38;5;132;01m%f\u001b[39;00m\u001b[38;5;124m seconds\u001b[39m\u001b[38;5;124m\"\u001b[39m, options\u001b[38;5;241m.\u001b[39murl, timeout)\n\u001b[0;32m   1674\u001b[0m \u001b[38;5;28;01mawait\u001b[39;00m anyio\u001b[38;5;241m.\u001b[39msleep(timeout)\n\u001b[1;32m-> 1676\u001b[0m \u001b[38;5;28;01mreturn\u001b[39;00m \u001b[38;5;28;01mawait\u001b[39;00m \u001b[38;5;28mself\u001b[39m\u001b[38;5;241m.\u001b[39m_request(\n\u001b[0;32m   1677\u001b[0m     options\u001b[38;5;241m=\u001b[39moptions,\n\u001b[0;32m   1678\u001b[0m     cast_to\u001b[38;5;241m=\u001b[39mcast_to,\n\u001b[0;32m   1679\u001b[0m     retries_taken\u001b[38;5;241m=\u001b[39mretries_taken \u001b[38;5;241m+\u001b[39m \u001b[38;5;241m1\u001b[39m,\n\u001b[0;32m   1680\u001b[0m     stream\u001b[38;5;241m=\u001b[39mstream,\n\u001b[0;32m   1681\u001b[0m     stream_cls\u001b[38;5;241m=\u001b[39mstream_cls,\n\u001b[0;32m   1682\u001b[0m )\n",
      "File \u001b[1;32mc:\\Users\\gorke\\anaconda3\\envs\\odevler\\Lib\\site-packages\\openai\\_base_client.py:1582\u001b[0m, in \u001b[0;36mAsyncAPIClient._request\u001b[1;34m(self, cast_to, options, stream, stream_cls, retries_taken)\u001b[0m\n\u001b[0;32m   1579\u001b[0m     kwargs[\u001b[38;5;124m\"\u001b[39m\u001b[38;5;124mauth\u001b[39m\u001b[38;5;124m\"\u001b[39m] \u001b[38;5;241m=\u001b[39m \u001b[38;5;28mself\u001b[39m\u001b[38;5;241m.\u001b[39mcustom_auth\n\u001b[0;32m   1581\u001b[0m \u001b[38;5;28;01mtry\u001b[39;00m:\n\u001b[1;32m-> 1582\u001b[0m     response \u001b[38;5;241m=\u001b[39m \u001b[38;5;28;01mawait\u001b[39;00m \u001b[38;5;28mself\u001b[39m\u001b[38;5;241m.\u001b[39m_client\u001b[38;5;241m.\u001b[39msend(\n\u001b[0;32m   1583\u001b[0m         request,\n\u001b[0;32m   1584\u001b[0m         stream\u001b[38;5;241m=\u001b[39mstream \u001b[38;5;129;01mor\u001b[39;00m \u001b[38;5;28mself\u001b[39m\u001b[38;5;241m.\u001b[39m_should_stream_response_body(request\u001b[38;5;241m=\u001b[39mrequest),\n\u001b[0;32m   1585\u001b[0m         \u001b[38;5;241m*\u001b[39m\u001b[38;5;241m*\u001b[39mkwargs,\n\u001b[0;32m   1586\u001b[0m     )\n\u001b[0;32m   1587\u001b[0m \u001b[38;5;28;01mexcept\u001b[39;00m httpx\u001b[38;5;241m.\u001b[39mTimeoutException \u001b[38;5;28;01mas\u001b[39;00m err:\n\u001b[0;32m   1588\u001b[0m     log\u001b[38;5;241m.\u001b[39mdebug(\u001b[38;5;124m\"\u001b[39m\u001b[38;5;124mEncountered httpx.TimeoutException\u001b[39m\u001b[38;5;124m\"\u001b[39m, exc_info\u001b[38;5;241m=\u001b[39m\u001b[38;5;28;01mTrue\u001b[39;00m)\n",
      "File \u001b[1;32mc:\\Users\\gorke\\anaconda3\\envs\\odevler\\Lib\\site-packages\\httpx\\_client.py:1661\u001b[0m, in \u001b[0;36mAsyncClient.send\u001b[1;34m(self, request, stream, auth, follow_redirects)\u001b[0m\n\u001b[0;32m   1653\u001b[0m follow_redirects \u001b[38;5;241m=\u001b[39m (\n\u001b[0;32m   1654\u001b[0m     \u001b[38;5;28mself\u001b[39m\u001b[38;5;241m.\u001b[39mfollow_redirects\n\u001b[0;32m   1655\u001b[0m     \u001b[38;5;28;01mif\u001b[39;00m \u001b[38;5;28misinstance\u001b[39m(follow_redirects, UseClientDefault)\n\u001b[0;32m   1656\u001b[0m     \u001b[38;5;28;01melse\u001b[39;00m follow_redirects\n\u001b[0;32m   1657\u001b[0m )\n\u001b[0;32m   1659\u001b[0m auth \u001b[38;5;241m=\u001b[39m \u001b[38;5;28mself\u001b[39m\u001b[38;5;241m.\u001b[39m_build_request_auth(request, auth)\n\u001b[1;32m-> 1661\u001b[0m response \u001b[38;5;241m=\u001b[39m \u001b[38;5;28;01mawait\u001b[39;00m \u001b[38;5;28mself\u001b[39m\u001b[38;5;241m.\u001b[39m_send_handling_auth(\n\u001b[0;32m   1662\u001b[0m     request,\n\u001b[0;32m   1663\u001b[0m     auth\u001b[38;5;241m=\u001b[39mauth,\n\u001b[0;32m   1664\u001b[0m     follow_redirects\u001b[38;5;241m=\u001b[39mfollow_redirects,\n\u001b[0;32m   1665\u001b[0m     history\u001b[38;5;241m=\u001b[39m[],\n\u001b[0;32m   1666\u001b[0m )\n\u001b[0;32m   1667\u001b[0m \u001b[38;5;28;01mtry\u001b[39;00m:\n\u001b[0;32m   1668\u001b[0m     \u001b[38;5;28;01mif\u001b[39;00m \u001b[38;5;129;01mnot\u001b[39;00m stream:\n",
      "File \u001b[1;32mc:\\Users\\gorke\\anaconda3\\envs\\odevler\\Lib\\site-packages\\httpx\\_client.py:1689\u001b[0m, in \u001b[0;36mAsyncClient._send_handling_auth\u001b[1;34m(self, request, auth, follow_redirects, history)\u001b[0m\n\u001b[0;32m   1686\u001b[0m request \u001b[38;5;241m=\u001b[39m \u001b[38;5;28;01mawait\u001b[39;00m auth_flow\u001b[38;5;241m.\u001b[39m\u001b[38;5;21m__anext__\u001b[39m()\n\u001b[0;32m   1688\u001b[0m \u001b[38;5;28;01mwhile\u001b[39;00m \u001b[38;5;28;01mTrue\u001b[39;00m:\n\u001b[1;32m-> 1689\u001b[0m     response \u001b[38;5;241m=\u001b[39m \u001b[38;5;28;01mawait\u001b[39;00m \u001b[38;5;28mself\u001b[39m\u001b[38;5;241m.\u001b[39m_send_handling_redirects(\n\u001b[0;32m   1690\u001b[0m         request,\n\u001b[0;32m   1691\u001b[0m         follow_redirects\u001b[38;5;241m=\u001b[39mfollow_redirects,\n\u001b[0;32m   1692\u001b[0m         history\u001b[38;5;241m=\u001b[39mhistory,\n\u001b[0;32m   1693\u001b[0m     )\n\u001b[0;32m   1694\u001b[0m     \u001b[38;5;28;01mtry\u001b[39;00m:\n\u001b[0;32m   1695\u001b[0m         \u001b[38;5;28;01mtry\u001b[39;00m:\n",
      "File \u001b[1;32mc:\\Users\\gorke\\anaconda3\\envs\\odevler\\Lib\\site-packages\\httpx\\_client.py:1726\u001b[0m, in \u001b[0;36mAsyncClient._send_handling_redirects\u001b[1;34m(self, request, follow_redirects, history)\u001b[0m\n\u001b[0;32m   1723\u001b[0m \u001b[38;5;28;01mfor\u001b[39;00m hook \u001b[38;5;129;01min\u001b[39;00m \u001b[38;5;28mself\u001b[39m\u001b[38;5;241m.\u001b[39m_event_hooks[\u001b[38;5;124m\"\u001b[39m\u001b[38;5;124mrequest\u001b[39m\u001b[38;5;124m\"\u001b[39m]:\n\u001b[0;32m   1724\u001b[0m     \u001b[38;5;28;01mawait\u001b[39;00m hook(request)\n\u001b[1;32m-> 1726\u001b[0m response \u001b[38;5;241m=\u001b[39m \u001b[38;5;28;01mawait\u001b[39;00m \u001b[38;5;28mself\u001b[39m\u001b[38;5;241m.\u001b[39m_send_single_request(request)\n\u001b[0;32m   1727\u001b[0m \u001b[38;5;28;01mtry\u001b[39;00m:\n\u001b[0;32m   1728\u001b[0m     \u001b[38;5;28;01mfor\u001b[39;00m hook \u001b[38;5;129;01min\u001b[39;00m \u001b[38;5;28mself\u001b[39m\u001b[38;5;241m.\u001b[39m_event_hooks[\u001b[38;5;124m\"\u001b[39m\u001b[38;5;124mresponse\u001b[39m\u001b[38;5;124m\"\u001b[39m]:\n",
      "File \u001b[1;32mc:\\Users\\gorke\\anaconda3\\envs\\odevler\\Lib\\site-packages\\httpx\\_client.py:1763\u001b[0m, in \u001b[0;36mAsyncClient._send_single_request\u001b[1;34m(self, request)\u001b[0m\n\u001b[0;32m   1758\u001b[0m     \u001b[38;5;28;01mraise\u001b[39;00m \u001b[38;5;167;01mRuntimeError\u001b[39;00m(\n\u001b[0;32m   1759\u001b[0m         \u001b[38;5;124m\"\u001b[39m\u001b[38;5;124mAttempted to send an sync request with an AsyncClient instance.\u001b[39m\u001b[38;5;124m\"\u001b[39m\n\u001b[0;32m   1760\u001b[0m     )\n\u001b[0;32m   1762\u001b[0m \u001b[38;5;28;01mwith\u001b[39;00m request_context(request\u001b[38;5;241m=\u001b[39mrequest):\n\u001b[1;32m-> 1763\u001b[0m     response \u001b[38;5;241m=\u001b[39m \u001b[38;5;28;01mawait\u001b[39;00m transport\u001b[38;5;241m.\u001b[39mhandle_async_request(request)\n\u001b[0;32m   1765\u001b[0m \u001b[38;5;28;01massert\u001b[39;00m \u001b[38;5;28misinstance\u001b[39m(response\u001b[38;5;241m.\u001b[39mstream, AsyncByteStream)\n\u001b[0;32m   1766\u001b[0m response\u001b[38;5;241m.\u001b[39mrequest \u001b[38;5;241m=\u001b[39m request\n",
      "File \u001b[1;32mc:\\Users\\gorke\\anaconda3\\envs\\odevler\\Lib\\site-packages\\httpx\\_transports\\default.py:373\u001b[0m, in \u001b[0;36mAsyncHTTPTransport.handle_async_request\u001b[1;34m(self, request)\u001b[0m\n\u001b[0;32m    360\u001b[0m req \u001b[38;5;241m=\u001b[39m httpcore\u001b[38;5;241m.\u001b[39mRequest(\n\u001b[0;32m    361\u001b[0m     method\u001b[38;5;241m=\u001b[39mrequest\u001b[38;5;241m.\u001b[39mmethod,\n\u001b[0;32m    362\u001b[0m     url\u001b[38;5;241m=\u001b[39mhttpcore\u001b[38;5;241m.\u001b[39mURL(\n\u001b[1;32m   (...)\u001b[0m\n\u001b[0;32m    370\u001b[0m     extensions\u001b[38;5;241m=\u001b[39mrequest\u001b[38;5;241m.\u001b[39mextensions,\n\u001b[0;32m    371\u001b[0m )\n\u001b[0;32m    372\u001b[0m \u001b[38;5;28;01mwith\u001b[39;00m map_httpcore_exceptions():\n\u001b[1;32m--> 373\u001b[0m     resp \u001b[38;5;241m=\u001b[39m \u001b[38;5;28;01mawait\u001b[39;00m \u001b[38;5;28mself\u001b[39m\u001b[38;5;241m.\u001b[39m_pool\u001b[38;5;241m.\u001b[39mhandle_async_request(req)\n\u001b[0;32m    375\u001b[0m \u001b[38;5;28;01massert\u001b[39;00m \u001b[38;5;28misinstance\u001b[39m(resp\u001b[38;5;241m.\u001b[39mstream, typing\u001b[38;5;241m.\u001b[39mAsyncIterable)\n\u001b[0;32m    377\u001b[0m \u001b[38;5;28;01mreturn\u001b[39;00m Response(\n\u001b[0;32m    378\u001b[0m     status_code\u001b[38;5;241m=\u001b[39mresp\u001b[38;5;241m.\u001b[39mstatus,\n\u001b[0;32m    379\u001b[0m     headers\u001b[38;5;241m=\u001b[39mresp\u001b[38;5;241m.\u001b[39mheaders,\n\u001b[0;32m    380\u001b[0m     stream\u001b[38;5;241m=\u001b[39mAsyncResponseStream(resp\u001b[38;5;241m.\u001b[39mstream),\n\u001b[0;32m    381\u001b[0m     extensions\u001b[38;5;241m=\u001b[39mresp\u001b[38;5;241m.\u001b[39mextensions,\n\u001b[0;32m    382\u001b[0m )\n",
      "File \u001b[1;32mc:\\Users\\gorke\\anaconda3\\envs\\odevler\\Lib\\site-packages\\httpcore\\_async\\connection_pool.py:268\u001b[0m, in \u001b[0;36mAsyncConnectionPool.handle_async_request\u001b[1;34m(self, request)\u001b[0m\n\u001b[0;32m    266\u001b[0m     \u001b[38;5;28;01mwith\u001b[39;00m AsyncShieldCancellation():\n\u001b[0;32m    267\u001b[0m         \u001b[38;5;28;01mawait\u001b[39;00m \u001b[38;5;28mself\u001b[39m\u001b[38;5;241m.\u001b[39mresponse_closed(status)\n\u001b[1;32m--> 268\u001b[0m     \u001b[38;5;28;01mraise\u001b[39;00m exc\n\u001b[0;32m    269\u001b[0m \u001b[38;5;28;01melse\u001b[39;00m:\n\u001b[0;32m    270\u001b[0m     \u001b[38;5;28;01mbreak\u001b[39;00m\n",
      "File \u001b[1;32mc:\\Users\\gorke\\anaconda3\\envs\\odevler\\Lib\\site-packages\\httpcore\\_async\\connection_pool.py:251\u001b[0m, in \u001b[0;36mAsyncConnectionPool.handle_async_request\u001b[1;34m(self, request)\u001b[0m\n\u001b[0;32m    248\u001b[0m         \u001b[38;5;28;01mraise\u001b[39;00m exc\n\u001b[0;32m    250\u001b[0m \u001b[38;5;28;01mtry\u001b[39;00m:\n\u001b[1;32m--> 251\u001b[0m     response \u001b[38;5;241m=\u001b[39m \u001b[38;5;28;01mawait\u001b[39;00m connection\u001b[38;5;241m.\u001b[39mhandle_async_request(request)\n\u001b[0;32m    252\u001b[0m \u001b[38;5;28;01mexcept\u001b[39;00m ConnectionNotAvailable:\n\u001b[0;32m    253\u001b[0m     \u001b[38;5;66;03m# The ConnectionNotAvailable exception is a special case, that\u001b[39;00m\n\u001b[0;32m    254\u001b[0m     \u001b[38;5;66;03m# indicates we need to retry the request on a new connection.\u001b[39;00m\n\u001b[1;32m   (...)\u001b[0m\n\u001b[0;32m    258\u001b[0m     \u001b[38;5;66;03m# might end up as an HTTP/2 connection, but which actually ends\u001b[39;00m\n\u001b[0;32m    259\u001b[0m     \u001b[38;5;66;03m# up as HTTP/1.1.\u001b[39;00m\n\u001b[0;32m    260\u001b[0m     \u001b[38;5;28;01masync\u001b[39;00m \u001b[38;5;28;01mwith\u001b[39;00m \u001b[38;5;28mself\u001b[39m\u001b[38;5;241m.\u001b[39m_pool_lock:\n\u001b[0;32m    261\u001b[0m         \u001b[38;5;66;03m# Maintain our position in the request queue, but reset the\u001b[39;00m\n\u001b[0;32m    262\u001b[0m         \u001b[38;5;66;03m# status so that the request becomes queued again.\u001b[39;00m\n",
      "File \u001b[1;32mc:\\Users\\gorke\\anaconda3\\envs\\odevler\\Lib\\site-packages\\httpcore\\_async\\connection.py:76\u001b[0m, in \u001b[0;36mAsyncHTTPConnection.handle_async_request\u001b[1;34m(self, request)\u001b[0m\n\u001b[0;32m     74\u001b[0m \u001b[38;5;28;01mif\u001b[39;00m \u001b[38;5;28mself\u001b[39m\u001b[38;5;241m.\u001b[39m_connection \u001b[38;5;129;01mis\u001b[39;00m \u001b[38;5;28;01mNone\u001b[39;00m:\n\u001b[0;32m     75\u001b[0m     \u001b[38;5;28;01mtry\u001b[39;00m:\n\u001b[1;32m---> 76\u001b[0m         stream \u001b[38;5;241m=\u001b[39m \u001b[38;5;28;01mawait\u001b[39;00m \u001b[38;5;28mself\u001b[39m\u001b[38;5;241m.\u001b[39m_connect(request)\n\u001b[0;32m     78\u001b[0m         ssl_object \u001b[38;5;241m=\u001b[39m stream\u001b[38;5;241m.\u001b[39mget_extra_info(\u001b[38;5;124m\"\u001b[39m\u001b[38;5;124mssl_object\u001b[39m\u001b[38;5;124m\"\u001b[39m)\n\u001b[0;32m     79\u001b[0m         http2_negotiated \u001b[38;5;241m=\u001b[39m (\n\u001b[0;32m     80\u001b[0m             ssl_object \u001b[38;5;129;01mis\u001b[39;00m \u001b[38;5;129;01mnot\u001b[39;00m \u001b[38;5;28;01mNone\u001b[39;00m\n\u001b[0;32m     81\u001b[0m             \u001b[38;5;129;01mand\u001b[39;00m ssl_object\u001b[38;5;241m.\u001b[39mselected_alpn_protocol() \u001b[38;5;241m==\u001b[39m \u001b[38;5;124m\"\u001b[39m\u001b[38;5;124mh2\u001b[39m\u001b[38;5;124m\"\u001b[39m\n\u001b[0;32m     82\u001b[0m         )\n",
      "File \u001b[1;32mc:\\Users\\gorke\\anaconda3\\envs\\odevler\\Lib\\site-packages\\httpcore\\_async\\connection.py:156\u001b[0m, in \u001b[0;36mAsyncHTTPConnection._connect\u001b[1;34m(self, request)\u001b[0m\n\u001b[0;32m    149\u001b[0m     kwargs \u001b[38;5;241m=\u001b[39m {\n\u001b[0;32m    150\u001b[0m         \u001b[38;5;124m\"\u001b[39m\u001b[38;5;124mssl_context\u001b[39m\u001b[38;5;124m\"\u001b[39m: ssl_context,\n\u001b[0;32m    151\u001b[0m         \u001b[38;5;124m\"\u001b[39m\u001b[38;5;124mserver_hostname\u001b[39m\u001b[38;5;124m\"\u001b[39m: sni_hostname\n\u001b[0;32m    152\u001b[0m         \u001b[38;5;129;01mor\u001b[39;00m \u001b[38;5;28mself\u001b[39m\u001b[38;5;241m.\u001b[39m_origin\u001b[38;5;241m.\u001b[39mhost\u001b[38;5;241m.\u001b[39mdecode(\u001b[38;5;124m\"\u001b[39m\u001b[38;5;124mascii\u001b[39m\u001b[38;5;124m\"\u001b[39m),\n\u001b[0;32m    153\u001b[0m         \u001b[38;5;124m\"\u001b[39m\u001b[38;5;124mtimeout\u001b[39m\u001b[38;5;124m\"\u001b[39m: timeout,\n\u001b[0;32m    154\u001b[0m     }\n\u001b[0;32m    155\u001b[0m     \u001b[38;5;28;01masync\u001b[39;00m \u001b[38;5;28;01mwith\u001b[39;00m Trace(\u001b[38;5;124m\"\u001b[39m\u001b[38;5;124mstart_tls\u001b[39m\u001b[38;5;124m\"\u001b[39m, logger, request, kwargs) \u001b[38;5;28;01mas\u001b[39;00m trace:\n\u001b[1;32m--> 156\u001b[0m         stream \u001b[38;5;241m=\u001b[39m \u001b[38;5;28;01mawait\u001b[39;00m stream\u001b[38;5;241m.\u001b[39mstart_tls(\u001b[38;5;241m*\u001b[39m\u001b[38;5;241m*\u001b[39mkwargs)\n\u001b[0;32m    157\u001b[0m         trace\u001b[38;5;241m.\u001b[39mreturn_value \u001b[38;5;241m=\u001b[39m stream\n\u001b[0;32m    158\u001b[0m \u001b[38;5;28;01mreturn\u001b[39;00m stream\n",
      "File \u001b[1;32mc:\\Users\\gorke\\anaconda3\\envs\\odevler\\Lib\\site-packages\\httpcore\\_backends\\anyio.py:69\u001b[0m, in \u001b[0;36mAnyIOStream.start_tls\u001b[1;34m(self, ssl_context, server_hostname, timeout)\u001b[0m\n\u001b[0;32m     67\u001b[0m \u001b[38;5;28;01mtry\u001b[39;00m:\n\u001b[0;32m     68\u001b[0m     \u001b[38;5;28;01mwith\u001b[39;00m anyio\u001b[38;5;241m.\u001b[39mfail_after(timeout):\n\u001b[1;32m---> 69\u001b[0m         ssl_stream \u001b[38;5;241m=\u001b[39m \u001b[38;5;28;01mawait\u001b[39;00m anyio\u001b[38;5;241m.\u001b[39mstreams\u001b[38;5;241m.\u001b[39mtls\u001b[38;5;241m.\u001b[39mTLSStream\u001b[38;5;241m.\u001b[39mwrap(\n\u001b[0;32m     70\u001b[0m             \u001b[38;5;28mself\u001b[39m\u001b[38;5;241m.\u001b[39m_stream,\n\u001b[0;32m     71\u001b[0m             ssl_context\u001b[38;5;241m=\u001b[39mssl_context,\n\u001b[0;32m     72\u001b[0m             hostname\u001b[38;5;241m=\u001b[39mserver_hostname,\n\u001b[0;32m     73\u001b[0m             standard_compatible\u001b[38;5;241m=\u001b[39m\u001b[38;5;28;01mFalse\u001b[39;00m,\n\u001b[0;32m     74\u001b[0m             server_side\u001b[38;5;241m=\u001b[39m\u001b[38;5;28;01mFalse\u001b[39;00m,\n\u001b[0;32m     75\u001b[0m         )\n\u001b[0;32m     76\u001b[0m \u001b[38;5;28;01mexcept\u001b[39;00m \u001b[38;5;167;01mException\u001b[39;00m \u001b[38;5;28;01mas\u001b[39;00m exc:  \u001b[38;5;66;03m# pragma: nocover\u001b[39;00m\n\u001b[0;32m     77\u001b[0m     \u001b[38;5;28;01mawait\u001b[39;00m \u001b[38;5;28mself\u001b[39m\u001b[38;5;241m.\u001b[39maclose()\n",
      "File \u001b[1;32mc:\\Users\\gorke\\anaconda3\\envs\\odevler\\Lib\\site-packages\\anyio\\streams\\tls.py:132\u001b[0m, in \u001b[0;36mTLSStream.wrap\u001b[1;34m(cls, transport_stream, server_side, hostname, ssl_context, standard_compatible)\u001b[0m\n\u001b[0;32m    122\u001b[0m ssl_object \u001b[38;5;241m=\u001b[39m ssl_context\u001b[38;5;241m.\u001b[39mwrap_bio(\n\u001b[0;32m    123\u001b[0m     bio_in, bio_out, server_side\u001b[38;5;241m=\u001b[39mserver_side, server_hostname\u001b[38;5;241m=\u001b[39mhostname\n\u001b[0;32m    124\u001b[0m )\n\u001b[0;32m    125\u001b[0m wrapper \u001b[38;5;241m=\u001b[39m \u001b[38;5;28mcls\u001b[39m(\n\u001b[0;32m    126\u001b[0m     transport_stream\u001b[38;5;241m=\u001b[39mtransport_stream,\n\u001b[0;32m    127\u001b[0m     standard_compatible\u001b[38;5;241m=\u001b[39mstandard_compatible,\n\u001b[1;32m   (...)\u001b[0m\n\u001b[0;32m    130\u001b[0m     _write_bio\u001b[38;5;241m=\u001b[39mbio_out,\n\u001b[0;32m    131\u001b[0m )\n\u001b[1;32m--> 132\u001b[0m \u001b[38;5;28;01mawait\u001b[39;00m wrapper\u001b[38;5;241m.\u001b[39m_call_sslobject_method(ssl_object\u001b[38;5;241m.\u001b[39mdo_handshake)\n\u001b[0;32m    133\u001b[0m \u001b[38;5;28;01mreturn\u001b[39;00m wrapper\n",
      "File \u001b[1;32mc:\\Users\\gorke\\anaconda3\\envs\\odevler\\Lib\\site-packages\\anyio\\streams\\tls.py:140\u001b[0m, in \u001b[0;36mTLSStream._call_sslobject_method\u001b[1;34m(self, func, *args)\u001b[0m\n\u001b[0;32m    138\u001b[0m \u001b[38;5;28;01mwhile\u001b[39;00m \u001b[38;5;28;01mTrue\u001b[39;00m:\n\u001b[0;32m    139\u001b[0m     \u001b[38;5;28;01mtry\u001b[39;00m:\n\u001b[1;32m--> 140\u001b[0m         result \u001b[38;5;241m=\u001b[39m \u001b[43mfunc\u001b[49m\u001b[43m(\u001b[49m\u001b[38;5;241;43m*\u001b[39;49m\u001b[43margs\u001b[49m\u001b[43m)\u001b[49m\n\u001b[0;32m    141\u001b[0m     \u001b[38;5;28;01mexcept\u001b[39;00m ssl\u001b[38;5;241m.\u001b[39mSSLWantReadError:\n\u001b[0;32m    142\u001b[0m         \u001b[38;5;28;01mtry\u001b[39;00m:\n\u001b[0;32m    143\u001b[0m             \u001b[38;5;66;03m# Flush any pending writes first\u001b[39;00m\n",
      "File \u001b[1;32mc:\\Users\\gorke\\anaconda3\\envs\\odevler\\Lib\\ssl.py:916\u001b[0m, in \u001b[0;36mSSLObject.do_handshake\u001b[1;34m(self)\u001b[0m\n\u001b[0;32m    914\u001b[0m \u001b[38;5;28;01mdef\u001b[39;00m \u001b[38;5;21mdo_handshake\u001b[39m(\u001b[38;5;28mself\u001b[39m):\n\u001b[0;32m    915\u001b[0m \u001b[38;5;250m    \u001b[39m\u001b[38;5;124;03m\"\"\"Start the SSL/TLS handshake.\"\"\"\u001b[39;00m\n\u001b[1;32m--> 916\u001b[0m     \u001b[38;5;28;43mself\u001b[39;49m\u001b[38;5;241;43m.\u001b[39;49m\u001b[43m_sslobj\u001b[49m\u001b[38;5;241;43m.\u001b[39;49m\u001b[43mdo_handshake\u001b[49m\u001b[43m(\u001b[49m\u001b[43m)\u001b[49m\n",
      "\u001b[1;31mKeyboardInterrupt\u001b[0m: "
     ]
    },
    {
     "name": "stderr",
     "output_type": "stream",
     "text": [
      "Exception raised in Job[5]: AttributeError('KeyboardInterrupt' object has no attribute 'generations')\n",
      "Exception raised in Job[17]: AssertionError(LLM is not set)\n",
      "Exception raised in Job[18]: AssertionError(LLM is not set)\n",
      "Exception raised in Job[19]: AssertionError(LLM must be set)\n",
      "Exception raised in Job[20]: AssertionError(LLM is not set)\n",
      "Exception raised in Job[21]: AssertionError(LLM is not set)\n",
      "Exception raised in Job[22]: AssertionError(LLM must be set)\n",
      "Exception raised in Job[23]: AssertionError(LLM is not set)\n",
      "Exception raised in Job[24]: AssertionError(LLM is not set)\n",
      "Exception raised in Job[25]: AssertionError(LLM must be set)\n",
      "Exception raised in Job[26]: AssertionError(LLM is not set)\n",
      "Exception raised in Job[27]: AssertionError(LLM is not set)\n",
      "Exception raised in Job[28]: AssertionError(LLM must be set)\n",
      "Exception raised in Job[29]: AssertionError(LLM is not set)\n",
      "Exception raised in Job[30]: AssertionError(LLM is not set)\n",
      "Exception raised in Job[31]: AssertionError(LLM must be set)\n",
      "Exception raised in Job[32]: AssertionError(LLM is not set)\n",
      "Exception raised in Job[33]: AssertionError(LLM is not set)\n",
      "Exception raised in Job[34]: AssertionError(LLM must be set)\n",
      "Exception raised in Job[35]: AssertionError(LLM is not set)\n",
      "Exception raised in Job[36]: AssertionError(LLM is not set)\n",
      "Exception raised in Job[37]: AssertionError(LLM must be set)\n",
      "Exception raised in Job[38]: AssertionError(LLM is not set)\n",
      "Exception raised in Job[39]: AssertionError(LLM is not set)\n",
      "Exception raised in Job[40]: AssertionError(LLM must be set)\n",
      "Exception raised in Job[41]: AssertionError(LLM is not set)\n",
      "Exception raised in Job[42]: AssertionError(LLM is not set)\n",
      "Exception raised in Job[43]: AssertionError(LLM must be set)\n",
      "Exception raised in Job[44]: AssertionError(LLM is not set)\n",
      "Exception raised in Job[45]: AssertionError(LLM is not set)\n",
      "Exception raised in Job[46]: AssertionError(LLM must be set)\n",
      "Exception raised in Job[47]: AssertionError(LLM is not set)\n",
      "Exception raised in Job[48]: AssertionError(LLM is not set)\n",
      "Exception raised in Job[49]: AssertionError(LLM must be set)\n",
      "Exception raised in Job[50]: AssertionError(LLM is not set)\n",
      "Exception raised in Job[51]: AssertionError(LLM is not set)\n",
      "Exception raised in Job[52]: AssertionError(LLM must be set)\n",
      "Exception raised in Job[53]: AssertionError(LLM is not set)\n",
      "Exception raised in Job[54]: AssertionError(LLM is not set)\n",
      "Exception raised in Job[55]: AssertionError(LLM must be set)\n",
      "Exception raised in Job[56]: AssertionError(LLM is not set)\n",
      "Exception raised in Job[57]: AssertionError(LLM is not set)\n",
      "Exception raised in Job[58]: AssertionError(LLM must be set)\n",
      "Exception raised in Job[59]: AssertionError(LLM is not set)\n",
      "Exception raised in Job[60]: AssertionError(LLM is not set)\n",
      "Exception raised in Job[61]: AssertionError(LLM must be set)\n",
      "Exception raised in Job[62]: AssertionError(LLM is not set)\n",
      "Exception raised in Job[63]: AssertionError(LLM is not set)\n",
      "Exception raised in Job[64]: AssertionError(LLM must be set)\n",
      "Exception raised in Job[65]: AssertionError(LLM is not set)\n",
      "Exception raised in Job[66]: AssertionError(LLM is not set)\n",
      "Exception raised in Job[67]: AssertionError(LLM must be set)\n",
      "Exception raised in Job[68]: AssertionError(LLM is not set)\n",
      "Exception raised in Job[69]: AssertionError(LLM is not set)\n",
      "Exception raised in Job[70]: AssertionError(LLM must be set)\n",
      "Exception raised in Job[71]: AssertionError(LLM is not set)\n",
      "Exception raised in Job[72]: AssertionError(LLM is not set)\n",
      "Exception raised in Job[73]: AssertionError(LLM must be set)\n",
      "Exception raised in Job[74]: AssertionError(LLM is not set)\n",
      "Exception raised in Job[75]: AssertionError(LLM is not set)\n",
      "Exception raised in Job[76]: AssertionError(LLM must be set)\n",
      "Exception raised in Job[77]: AssertionError(LLM is not set)\n",
      "Exception raised in Job[78]: AssertionError(LLM is not set)\n",
      "Exception raised in Job[79]: AssertionError(LLM must be set)\n",
      "Exception raised in Job[80]: AssertionError(LLM is not set)\n",
      "Exception raised in Job[81]: AssertionError(LLM is not set)\n",
      "Exception raised in Job[82]: AssertionError(LLM must be set)\n",
      "Exception raised in Job[83]: AssertionError(LLM is not set)\n",
      "Exception raised in Job[84]: AssertionError(LLM is not set)\n",
      "Exception raised in Job[85]: AssertionError(LLM must be set)\n",
      "Exception raised in Job[86]: AssertionError(LLM is not set)\n",
      "Exception raised in Job[87]: AssertionError(LLM is not set)\n",
      "Exception raised in Job[88]: AssertionError(LLM must be set)\n",
      "Exception raised in Job[89]: AssertionError(LLM is not set)\n",
      "Exception raised in Job[90]: AssertionError(LLM is not set)\n",
      "Exception raised in Job[91]: AssertionError(LLM must be set)\n",
      "Exception raised in Job[92]: AssertionError(LLM is not set)\n",
      "Exception raised in Job[93]: AssertionError(LLM is not set)\n",
      "Exception raised in Job[94]: AssertionError(LLM must be set)\n",
      "Exception raised in Job[95]: AssertionError(LLM is not set)\n",
      "Exception raised in Job[96]: AssertionError(LLM is not set)\n",
      "Exception raised in Job[97]: AssertionError(LLM must be set)\n",
      "Exception raised in Job[98]: AssertionError(LLM is not set)\n",
      "Exception raised in Job[99]: AssertionError(LLM is not set)\n",
      "Exception raised in Job[100]: AssertionError(LLM must be set)\n",
      "Exception raised in Job[101]: AssertionError(LLM is not set)\n",
      "Exception raised in Job[102]: AssertionError(LLM is not set)\n",
      "Exception raised in Job[103]: AssertionError(LLM must be set)\n",
      "Exception raised in Job[104]: AssertionError(LLM is not set)\n",
      "Exception raised in Job[105]: AssertionError(LLM is not set)\n",
      "Exception raised in Job[106]: AssertionError(LLM must be set)\n",
      "Exception raised in Job[107]: AssertionError(LLM is not set)\n",
      "Exception raised in Job[108]: AssertionError(LLM is not set)\n",
      "Exception raised in Job[109]: AssertionError(LLM must be set)\n",
      "Exception raised in Job[110]: AssertionError(LLM is not set)\n",
      "Exception raised in Job[111]: AssertionError(LLM is not set)\n",
      "Exception raised in Job[112]: AssertionError(LLM must be set)\n",
      "Exception raised in Job[113]: AssertionError(LLM is not set)\n",
      "Exception raised in Job[114]: AssertionError(LLM is not set)\n",
      "Exception raised in Job[115]: AssertionError(LLM must be set)\n",
      "Exception raised in Job[116]: AssertionError(LLM is not set)\n",
      "Exception raised in Job[117]: AssertionError(LLM is not set)\n",
      "Exception raised in Job[118]: AssertionError(LLM must be set)\n",
      "Exception raised in Job[119]: AssertionError(LLM is not set)\n",
      "Exception raised in Job[120]: AssertionError(LLM is not set)\n",
      "Exception raised in Job[121]: AssertionError(LLM must be set)\n",
      "Exception raised in Job[122]: AssertionError(LLM is not set)\n",
      "Exception raised in Job[123]: AssertionError(LLM is not set)\n",
      "Exception raised in Job[124]: AssertionError(LLM must be set)\n",
      "Exception raised in Job[125]: AssertionError(LLM is not set)\n",
      "Exception raised in Job[126]: AssertionError(LLM is not set)\n",
      "Exception raised in Job[127]: AssertionError(LLM must be set)\n",
      "Exception raised in Job[128]: AssertionError(LLM is not set)\n",
      "Exception raised in Job[129]: AssertionError(LLM is not set)\n",
      "Exception raised in Job[130]: AssertionError(LLM must be set)\n",
      "Exception raised in Job[131]: AssertionError(LLM is not set)\n",
      "Exception raised in Job[132]: AssertionError(LLM is not set)\n",
      "Exception raised in Job[133]: AssertionError(LLM must be set)\n",
      "Exception raised in Job[134]: AssertionError(LLM is not set)\n",
      "Exception raised in Job[135]: AssertionError(LLM is not set)\n",
      "Exception raised in Job[136]: AssertionError(LLM must be set)\n",
      "Exception raised in Job[137]: AssertionError(LLM is not set)\n",
      "Exception raised in Job[138]: AssertionError(LLM is not set)\n",
      "Exception raised in Job[139]: AssertionError(LLM must be set)\n",
      "Exception raised in Job[140]: AssertionError(LLM is not set)\n",
      "Exception raised in Job[141]: AssertionError(LLM is not set)\n",
      "Exception raised in Job[142]: AssertionError(LLM must be set)\n",
      "Exception raised in Job[143]: AssertionError(LLM is not set)\n",
      "Exception raised in Job[144]: AssertionError(LLM is not set)\n",
      "Exception raised in Job[145]: AssertionError(LLM must be set)\n",
      "Exception raised in Job[146]: AssertionError(LLM is not set)\n",
      "Exception raised in Job[147]: AssertionError(LLM is not set)\n",
      "Exception raised in Job[148]: AssertionError(LLM must be set)\n",
      "Exception raised in Job[149]: AssertionError(LLM is not set)\n",
      "Exception raised in Job[6]: AssertionError(llm must be set to compute score)\n",
      "Exception raised in Job[7]: AssertionError(llm is not set)\n",
      "Exception raised in Job[0]: AssertionError(llm must be set to compute score)\n",
      "Exception raised in Job[15]: AssertionError(llm must be set to compute score)\n",
      "Exception raised in Job[4]: AssertionError(llm is not set)\n",
      "Exception raised in Job[1]: AssertionError(llm is not set)\n",
      "Exception raised in Job[10]: AssertionError(llm is not set)\n",
      "Exception raised in Job[2]: AssertionError()\n",
      "Exception raised in Job[3]: AssertionError(llm must be set to compute score)\n",
      "Exception raised in Job[12]: AssertionError(llm must be set to compute score)\n",
      "Exception raised in Job[16]: AssertionError(llm is not set)\n",
      "Exception raised in Job[8]: TimeoutError()\n",
      "Exception raised in Job[14]: TimeoutError()\n",
      "Exception raised in Job[11]: TimeoutError()\n",
      "Exception raised in Job[13]: TimeoutError()\n"
     ]
    }
   ],
   "source": [
    "df_result_gemma_B = pd.DataFrame(columns=[\"model\", \"location\", \"faithfulness\",\"answer_correctness\",\"answer_relevancy\"])\n",
    "\n",
    "i=0\n",
    "while(i<len(output_names_gemma)):\n",
    "    sonuclar = pd.read_csv(output_names_gemma[i])\n",
    "    sonuclar['contexts'] = sonuclar['contexts'].apply(lambda x: [x])\n",
    "\n",
    "    dataset = Dataset.from_pandas(sonuclar)\n",
    "    result = evaluate(dataset,\n",
    "                  metrics=[\n",
    "        faithfulness,\n",
    "        answer_correctness,\n",
    "        answer_relevancy],llm=evaluator_llm, embeddings=evaluator_embeddings)\n",
    "    \n",
    "\n",
    "    yeni_satir = pd.DataFrame({'model': [\"gemma2-9b-it\"], 'location': [location_B[i]], \n",
    "                           'faithfulness': [round(pd.Series(result[\"faithfulness\"]).mean(),4)],\n",
    "                           'answer_correctness': [round(pd.Series(result[\"answer_correctness\"]).mean(),4)],\n",
    "                           'answer_relevancy': [round(pd.Series(result[\"answer_relevancy\"]).mean(),4)]})\n",
    "\n",
    "    df_result_gemma_B = pd.concat([df_result_gemma_B, yeni_satir], ignore_index=True)\n",
    "\n",
    "    result.to_pandas().to_csv(\"RagasResult---\"+\"gemma2-9b-it\"+\"-\"+location_B[i]+\".csv\", index=False)\n",
    "\n",
    "    print(location_B[i])\n",
    "    print(result)\n",
    "    print(\"\\n\")\n",
    "    i=i+1\n",
    "\n",
    "df_result_gemma_B.to_csv(\"OverallResult---\"+\"gemma2-9b-it-for-question-B.csv\", index=False)"
   ]
  },
  {
   "cell_type": "code",
   "execution_count": 61,
   "metadata": {},
   "outputs": [],
   "source": [
    "df_result_gemma_B.to_csv(\"OverallResult---\"+\"gemma2-9b-it-for-question-B-1.csv\", index=False)"
   ]
  },
  {
   "cell_type": "code",
   "execution_count": 65,
   "metadata": {},
   "outputs": [
    {
     "name": "stderr",
     "output_type": "stream",
     "text": [
      "Evaluating: 100%|██████████| 150/150 [01:26<00:00,  1.73it/s]\n",
      "C:\\Users\\gorke\\AppData\\Local\\Temp\\ipykernel_15516\\2598930679.py:21: FutureWarning: The behavior of DataFrame concatenation with empty or all-NA entries is deprecated. In a future version, this will no longer exclude empty or all-NA columns when determining the result dtypes. To retain the old behavior, exclude the relevant entries before the concat operation.\n",
      "  df_result_gemma_B = pd.concat([df_result_gemma_B, yeni_satir], ignore_index=True)\n"
     ]
    },
    {
     "name": "stdout",
     "output_type": "stream",
     "text": [
      "B-12\n",
      "{'faithfulness': 0.8470, 'answer_correctness': 0.5661, 'answer_relevancy': 0.5967}\n",
      "\n",
      "\n"
     ]
    },
    {
     "name": "stderr",
     "output_type": "stream",
     "text": [
      "Evaluating:   1%|          | 1/150 [00:45<1:53:21, 45.65s/it]\n"
     ]
    },
    {
     "ename": "KeyboardInterrupt",
     "evalue": "",
     "output_type": "error",
     "traceback": [
      "\u001b[1;31m---------------------------------------------------------------------------\u001b[0m",
      "\u001b[1;31mKeyboardInterrupt\u001b[0m                         Traceback (most recent call last)",
      "Cell \u001b[1;32mIn[65], line 9\u001b[0m\n\u001b[0;32m      6\u001b[0m sonuclar[\u001b[38;5;124m'\u001b[39m\u001b[38;5;124mcontexts\u001b[39m\u001b[38;5;124m'\u001b[39m] \u001b[38;5;241m=\u001b[39m sonuclar[\u001b[38;5;124m'\u001b[39m\u001b[38;5;124mcontexts\u001b[39m\u001b[38;5;124m'\u001b[39m]\u001b[38;5;241m.\u001b[39mapply(\u001b[38;5;28;01mlambda\u001b[39;00m x: [x])\n\u001b[0;32m      8\u001b[0m dataset \u001b[38;5;241m=\u001b[39m Dataset\u001b[38;5;241m.\u001b[39mfrom_pandas(sonuclar)\n\u001b[1;32m----> 9\u001b[0m result \u001b[38;5;241m=\u001b[39m \u001b[43mevaluate\u001b[49m\u001b[43m(\u001b[49m\u001b[43mdataset\u001b[49m\u001b[43m,\u001b[49m\n\u001b[0;32m     10\u001b[0m \u001b[43m              \u001b[49m\u001b[43mmetrics\u001b[49m\u001b[38;5;241;43m=\u001b[39;49m\u001b[43m[\u001b[49m\n\u001b[0;32m     11\u001b[0m \u001b[43m    \u001b[49m\u001b[43mfaithfulness\u001b[49m\u001b[43m,\u001b[49m\n\u001b[0;32m     12\u001b[0m \u001b[43m    \u001b[49m\u001b[43manswer_correctness\u001b[49m\u001b[43m,\u001b[49m\n\u001b[0;32m     13\u001b[0m \u001b[43m    \u001b[49m\u001b[43manswer_relevancy\u001b[49m\u001b[43m]\u001b[49m\u001b[43m,\u001b[49m\u001b[43mllm\u001b[49m\u001b[38;5;241;43m=\u001b[39;49m\u001b[43mevaluator_llm\u001b[49m\u001b[43m,\u001b[49m\u001b[43m \u001b[49m\u001b[43membeddings\u001b[49m\u001b[38;5;241;43m=\u001b[39;49m\u001b[43mevaluator_embeddings\u001b[49m\u001b[43m)\u001b[49m\n\u001b[0;32m     16\u001b[0m yeni_satir \u001b[38;5;241m=\u001b[39m pd\u001b[38;5;241m.\u001b[39mDataFrame({\u001b[38;5;124m'\u001b[39m\u001b[38;5;124mmodel\u001b[39m\u001b[38;5;124m'\u001b[39m: [\u001b[38;5;124m\"\u001b[39m\u001b[38;5;124mgemma2-9b-it\u001b[39m\u001b[38;5;124m\"\u001b[39m], \u001b[38;5;124m'\u001b[39m\u001b[38;5;124mlocation\u001b[39m\u001b[38;5;124m'\u001b[39m: [location_B[i]], \n\u001b[0;32m     17\u001b[0m                        \u001b[38;5;124m'\u001b[39m\u001b[38;5;124mfaithfulness\u001b[39m\u001b[38;5;124m'\u001b[39m: [\u001b[38;5;28mround\u001b[39m(pd\u001b[38;5;241m.\u001b[39mSeries(result[\u001b[38;5;124m\"\u001b[39m\u001b[38;5;124mfaithfulness\u001b[39m\u001b[38;5;124m\"\u001b[39m])\u001b[38;5;241m.\u001b[39mmean(),\u001b[38;5;241m4\u001b[39m)],\n\u001b[0;32m     18\u001b[0m                        \u001b[38;5;124m'\u001b[39m\u001b[38;5;124manswer_correctness\u001b[39m\u001b[38;5;124m'\u001b[39m: [\u001b[38;5;28mround\u001b[39m(pd\u001b[38;5;241m.\u001b[39mSeries(result[\u001b[38;5;124m\"\u001b[39m\u001b[38;5;124manswer_correctness\u001b[39m\u001b[38;5;124m\"\u001b[39m])\u001b[38;5;241m.\u001b[39mmean(),\u001b[38;5;241m4\u001b[39m)],\n\u001b[0;32m     19\u001b[0m                        \u001b[38;5;124m'\u001b[39m\u001b[38;5;124manswer_relevancy\u001b[39m\u001b[38;5;124m'\u001b[39m: [\u001b[38;5;28mround\u001b[39m(pd\u001b[38;5;241m.\u001b[39mSeries(result[\u001b[38;5;124m\"\u001b[39m\u001b[38;5;124manswer_relevancy\u001b[39m\u001b[38;5;124m\"\u001b[39m])\u001b[38;5;241m.\u001b[39mmean(),\u001b[38;5;241m4\u001b[39m)]})\n\u001b[0;32m     21\u001b[0m df_result_gemma_B \u001b[38;5;241m=\u001b[39m pd\u001b[38;5;241m.\u001b[39mconcat([df_result_gemma_B, yeni_satir], ignore_index\u001b[38;5;241m=\u001b[39m\u001b[38;5;28;01mTrue\u001b[39;00m)\n",
      "File \u001b[1;32mc:\\Users\\gorke\\anaconda3\\envs\\odevler\\Lib\\site-packages\\ragas\\_analytics.py:227\u001b[0m, in \u001b[0;36mtrack_was_completed.<locals>.wrapper\u001b[1;34m(*args, **kwargs)\u001b[0m\n\u001b[0;32m    224\u001b[0m \u001b[38;5;129m@wraps\u001b[39m(func)\n\u001b[0;32m    225\u001b[0m \u001b[38;5;28;01mdef\u001b[39;00m \u001b[38;5;21mwrapper\u001b[39m(\u001b[38;5;241m*\u001b[39margs: P\u001b[38;5;241m.\u001b[39margs, \u001b[38;5;241m*\u001b[39m\u001b[38;5;241m*\u001b[39mkwargs: P\u001b[38;5;241m.\u001b[39mkwargs) \u001b[38;5;241m-\u001b[39m\u001b[38;5;241m>\u001b[39m t\u001b[38;5;241m.\u001b[39mAny:\n\u001b[0;32m    226\u001b[0m     track(IsCompleteEvent(event_type\u001b[38;5;241m=\u001b[39mfunc\u001b[38;5;241m.\u001b[39m\u001b[38;5;18m__name__\u001b[39m, is_completed\u001b[38;5;241m=\u001b[39m\u001b[38;5;28;01mFalse\u001b[39;00m))\n\u001b[1;32m--> 227\u001b[0m     result \u001b[38;5;241m=\u001b[39m \u001b[43mfunc\u001b[49m\u001b[43m(\u001b[49m\u001b[38;5;241;43m*\u001b[39;49m\u001b[43margs\u001b[49m\u001b[43m,\u001b[49m\u001b[43m \u001b[49m\u001b[38;5;241;43m*\u001b[39;49m\u001b[38;5;241;43m*\u001b[39;49m\u001b[43mkwargs\u001b[49m\u001b[43m)\u001b[49m\n\u001b[0;32m    228\u001b[0m     track(IsCompleteEvent(event_type\u001b[38;5;241m=\u001b[39mfunc\u001b[38;5;241m.\u001b[39m\u001b[38;5;18m__name__\u001b[39m, is_completed\u001b[38;5;241m=\u001b[39m\u001b[38;5;28;01mTrue\u001b[39;00m))\n\u001b[0;32m    230\u001b[0m     \u001b[38;5;28;01mreturn\u001b[39;00m result\n",
      "File \u001b[1;32mc:\\Users\\gorke\\anaconda3\\envs\\odevler\\Lib\\site-packages\\ragas\\evaluation.py:298\u001b[0m, in \u001b[0;36mevaluate\u001b[1;34m(dataset, metrics, llm, embeddings, experiment_name, callbacks, run_config, token_usage_parser, raise_exceptions, column_map, show_progress, batch_size, _run_id, _pbar)\u001b[0m\n\u001b[0;32m    295\u001b[0m scores: t\u001b[38;5;241m.\u001b[39mList[t\u001b[38;5;241m.\u001b[39mDict[\u001b[38;5;28mstr\u001b[39m, t\u001b[38;5;241m.\u001b[39mAny]] \u001b[38;5;241m=\u001b[39m []\n\u001b[0;32m    296\u001b[0m \u001b[38;5;28;01mtry\u001b[39;00m:\n\u001b[0;32m    297\u001b[0m     \u001b[38;5;66;03m# get the results\u001b[39;00m\n\u001b[1;32m--> 298\u001b[0m     results \u001b[38;5;241m=\u001b[39m \u001b[43mexecutor\u001b[49m\u001b[38;5;241;43m.\u001b[39;49m\u001b[43mresults\u001b[49m\u001b[43m(\u001b[49m\u001b[43m)\u001b[49m\n\u001b[0;32m    299\u001b[0m     \u001b[38;5;28;01mif\u001b[39;00m results \u001b[38;5;241m==\u001b[39m []:\n\u001b[0;32m    300\u001b[0m         \u001b[38;5;28;01mraise\u001b[39;00m ExceptionInRunner()\n",
      "File \u001b[1;32mc:\\Users\\gorke\\anaconda3\\envs\\odevler\\Lib\\site-packages\\ragas\\executor.py:213\u001b[0m, in \u001b[0;36mExecutor.results\u001b[1;34m(self)\u001b[0m\n\u001b[0;32m    210\u001b[0m             nest_asyncio\u001b[38;5;241m.\u001b[39mapply()\n\u001b[0;32m    211\u001b[0m             \u001b[38;5;28mself\u001b[39m\u001b[38;5;241m.\u001b[39m_nest_asyncio_applied \u001b[38;5;241m=\u001b[39m \u001b[38;5;28;01mTrue\u001b[39;00m\n\u001b[1;32m--> 213\u001b[0m results \u001b[38;5;241m=\u001b[39m \u001b[43masyncio\u001b[49m\u001b[38;5;241;43m.\u001b[39;49m\u001b[43mrun\u001b[49m\u001b[43m(\u001b[49m\u001b[38;5;28;43mself\u001b[39;49m\u001b[38;5;241;43m.\u001b[39;49m\u001b[43m_process_jobs\u001b[49m\u001b[43m(\u001b[49m\u001b[43m)\u001b[49m\u001b[43m)\u001b[49m\n\u001b[0;32m    214\u001b[0m sorted_results \u001b[38;5;241m=\u001b[39m \u001b[38;5;28msorted\u001b[39m(results, key\u001b[38;5;241m=\u001b[39m\u001b[38;5;28;01mlambda\u001b[39;00m x: x[\u001b[38;5;241m0\u001b[39m])\n\u001b[0;32m    215\u001b[0m \u001b[38;5;28;01mreturn\u001b[39;00m [r[\u001b[38;5;241m1\u001b[39m] \u001b[38;5;28;01mfor\u001b[39;00m r \u001b[38;5;129;01min\u001b[39;00m sorted_results]\n",
      "File \u001b[1;32mc:\\Users\\gorke\\anaconda3\\envs\\odevler\\Lib\\site-packages\\nest_asyncio.py:30\u001b[0m, in \u001b[0;36m_patch_asyncio.<locals>.run\u001b[1;34m(main, debug)\u001b[0m\n\u001b[0;32m     28\u001b[0m task \u001b[38;5;241m=\u001b[39m asyncio\u001b[38;5;241m.\u001b[39mensure_future(main)\n\u001b[0;32m     29\u001b[0m \u001b[38;5;28;01mtry\u001b[39;00m:\n\u001b[1;32m---> 30\u001b[0m     \u001b[38;5;28;01mreturn\u001b[39;00m \u001b[43mloop\u001b[49m\u001b[38;5;241;43m.\u001b[39;49m\u001b[43mrun_until_complete\u001b[49m\u001b[43m(\u001b[49m\u001b[43mtask\u001b[49m\u001b[43m)\u001b[49m\n\u001b[0;32m     31\u001b[0m \u001b[38;5;28;01mfinally\u001b[39;00m:\n\u001b[0;32m     32\u001b[0m     \u001b[38;5;28;01mif\u001b[39;00m \u001b[38;5;129;01mnot\u001b[39;00m task\u001b[38;5;241m.\u001b[39mdone():\n",
      "File \u001b[1;32mc:\\Users\\gorke\\anaconda3\\envs\\odevler\\Lib\\site-packages\\nest_asyncio.py:92\u001b[0m, in \u001b[0;36m_patch_loop.<locals>.run_until_complete\u001b[1;34m(self, future)\u001b[0m\n\u001b[0;32m     90\u001b[0m     f\u001b[38;5;241m.\u001b[39m_log_destroy_pending \u001b[38;5;241m=\u001b[39m \u001b[38;5;28;01mFalse\u001b[39;00m\n\u001b[0;32m     91\u001b[0m \u001b[38;5;28;01mwhile\u001b[39;00m \u001b[38;5;129;01mnot\u001b[39;00m f\u001b[38;5;241m.\u001b[39mdone():\n\u001b[1;32m---> 92\u001b[0m     \u001b[38;5;28;43mself\u001b[39;49m\u001b[38;5;241;43m.\u001b[39;49m\u001b[43m_run_once\u001b[49m\u001b[43m(\u001b[49m\u001b[43m)\u001b[49m\n\u001b[0;32m     93\u001b[0m     \u001b[38;5;28;01mif\u001b[39;00m \u001b[38;5;28mself\u001b[39m\u001b[38;5;241m.\u001b[39m_stopping:\n\u001b[0;32m     94\u001b[0m         \u001b[38;5;28;01mbreak\u001b[39;00m\n",
      "File \u001b[1;32mc:\\Users\\gorke\\anaconda3\\envs\\odevler\\Lib\\site-packages\\nest_asyncio.py:115\u001b[0m, in \u001b[0;36m_patch_loop.<locals>._run_once\u001b[1;34m(self)\u001b[0m\n\u001b[0;32m    108\u001b[0m     heappop(scheduled)\n\u001b[0;32m    110\u001b[0m timeout \u001b[38;5;241m=\u001b[39m (\n\u001b[0;32m    111\u001b[0m     \u001b[38;5;241m0\u001b[39m \u001b[38;5;28;01mif\u001b[39;00m ready \u001b[38;5;129;01mor\u001b[39;00m \u001b[38;5;28mself\u001b[39m\u001b[38;5;241m.\u001b[39m_stopping\n\u001b[0;32m    112\u001b[0m     \u001b[38;5;28;01melse\u001b[39;00m \u001b[38;5;28mmin\u001b[39m(\u001b[38;5;28mmax\u001b[39m(\n\u001b[0;32m    113\u001b[0m         scheduled[\u001b[38;5;241m0\u001b[39m]\u001b[38;5;241m.\u001b[39m_when \u001b[38;5;241m-\u001b[39m \u001b[38;5;28mself\u001b[39m\u001b[38;5;241m.\u001b[39mtime(), \u001b[38;5;241m0\u001b[39m), \u001b[38;5;241m86400\u001b[39m) \u001b[38;5;28;01mif\u001b[39;00m scheduled\n\u001b[0;32m    114\u001b[0m     \u001b[38;5;28;01melse\u001b[39;00m \u001b[38;5;28;01mNone\u001b[39;00m)\n\u001b[1;32m--> 115\u001b[0m event_list \u001b[38;5;241m=\u001b[39m \u001b[38;5;28;43mself\u001b[39;49m\u001b[38;5;241;43m.\u001b[39;49m\u001b[43m_selector\u001b[49m\u001b[38;5;241;43m.\u001b[39;49m\u001b[43mselect\u001b[49m\u001b[43m(\u001b[49m\u001b[43mtimeout\u001b[49m\u001b[43m)\u001b[49m\n\u001b[0;32m    116\u001b[0m \u001b[38;5;28mself\u001b[39m\u001b[38;5;241m.\u001b[39m_process_events(event_list)\n\u001b[0;32m    118\u001b[0m end_time \u001b[38;5;241m=\u001b[39m \u001b[38;5;28mself\u001b[39m\u001b[38;5;241m.\u001b[39mtime() \u001b[38;5;241m+\u001b[39m \u001b[38;5;28mself\u001b[39m\u001b[38;5;241m.\u001b[39m_clock_resolution\n",
      "File \u001b[1;32mc:\\Users\\gorke\\anaconda3\\envs\\odevler\\Lib\\selectors.py:323\u001b[0m, in \u001b[0;36mSelectSelector.select\u001b[1;34m(self, timeout)\u001b[0m\n\u001b[0;32m    321\u001b[0m ready \u001b[38;5;241m=\u001b[39m []\n\u001b[0;32m    322\u001b[0m \u001b[38;5;28;01mtry\u001b[39;00m:\n\u001b[1;32m--> 323\u001b[0m     r, w, _ \u001b[38;5;241m=\u001b[39m \u001b[38;5;28;43mself\u001b[39;49m\u001b[38;5;241;43m.\u001b[39;49m\u001b[43m_select\u001b[49m\u001b[43m(\u001b[49m\u001b[38;5;28;43mself\u001b[39;49m\u001b[38;5;241;43m.\u001b[39;49m\u001b[43m_readers\u001b[49m\u001b[43m,\u001b[49m\u001b[43m \u001b[49m\u001b[38;5;28;43mself\u001b[39;49m\u001b[38;5;241;43m.\u001b[39;49m\u001b[43m_writers\u001b[49m\u001b[43m,\u001b[49m\u001b[43m \u001b[49m\u001b[43m[\u001b[49m\u001b[43m]\u001b[49m\u001b[43m,\u001b[49m\u001b[43m \u001b[49m\u001b[43mtimeout\u001b[49m\u001b[43m)\u001b[49m\n\u001b[0;32m    324\u001b[0m \u001b[38;5;28;01mexcept\u001b[39;00m \u001b[38;5;167;01mInterruptedError\u001b[39;00m:\n\u001b[0;32m    325\u001b[0m     \u001b[38;5;28;01mreturn\u001b[39;00m ready\n",
      "File \u001b[1;32mc:\\Users\\gorke\\anaconda3\\envs\\odevler\\Lib\\selectors.py:314\u001b[0m, in \u001b[0;36mSelectSelector._select\u001b[1;34m(self, r, w, _, timeout)\u001b[0m\n\u001b[0;32m    313\u001b[0m \u001b[38;5;28;01mdef\u001b[39;00m \u001b[38;5;21m_select\u001b[39m(\u001b[38;5;28mself\u001b[39m, r, w, _, timeout\u001b[38;5;241m=\u001b[39m\u001b[38;5;28;01mNone\u001b[39;00m):\n\u001b[1;32m--> 314\u001b[0m     r, w, x \u001b[38;5;241m=\u001b[39m \u001b[43mselect\u001b[49m\u001b[38;5;241;43m.\u001b[39;49m\u001b[43mselect\u001b[49m\u001b[43m(\u001b[49m\u001b[43mr\u001b[49m\u001b[43m,\u001b[49m\u001b[43m \u001b[49m\u001b[43mw\u001b[49m\u001b[43m,\u001b[49m\u001b[43m \u001b[49m\u001b[43mw\u001b[49m\u001b[43m,\u001b[49m\u001b[43m \u001b[49m\u001b[43mtimeout\u001b[49m\u001b[43m)\u001b[49m\n\u001b[0;32m    315\u001b[0m     \u001b[38;5;28;01mreturn\u001b[39;00m r, w \u001b[38;5;241m+\u001b[39m x, []\n",
      "\u001b[1;31mKeyboardInterrupt\u001b[0m: "
     ]
    },
    {
     "name": "stderr",
     "output_type": "stream",
     "text": [
      "Exception raised in Job[9]: AssertionError(llm must be set to compute score)\n",
      "Exception raised in Job[17]: AssertionError(LLM is not set)\n",
      "Exception raised in Job[18]: AssertionError(LLM is not set)\n",
      "Exception raised in Job[19]: AssertionError(LLM must be set)\n",
      "Exception raised in Job[20]: AssertionError(LLM is not set)\n",
      "Exception raised in Job[21]: AssertionError(LLM is not set)\n",
      "Exception raised in Job[22]: AssertionError(LLM must be set)\n",
      "Exception raised in Job[23]: AssertionError(LLM is not set)\n",
      "Exception raised in Job[24]: AssertionError(LLM is not set)\n",
      "Exception raised in Job[25]: AssertionError(LLM must be set)\n",
      "Exception raised in Job[26]: AssertionError(LLM is not set)\n",
      "Exception raised in Job[27]: AssertionError(LLM is not set)\n",
      "Exception raised in Job[28]: AssertionError(LLM must be set)\n",
      "Exception raised in Job[29]: AssertionError(LLM is not set)\n",
      "Exception raised in Job[30]: AssertionError(LLM is not set)\n",
      "Exception raised in Job[31]: AssertionError(LLM must be set)\n",
      "Exception raised in Job[32]: AssertionError(LLM is not set)\n",
      "Exception raised in Job[33]: AssertionError(LLM is not set)\n",
      "Exception raised in Job[34]: AssertionError(LLM must be set)\n",
      "Exception raised in Job[35]: AssertionError(LLM is not set)\n",
      "Exception raised in Job[36]: AssertionError(LLM is not set)\n",
      "Exception raised in Job[37]: AssertionError(LLM must be set)\n",
      "Exception raised in Job[38]: AssertionError(LLM is not set)\n",
      "Exception raised in Job[39]: AssertionError(LLM is not set)\n",
      "Exception raised in Job[40]: AssertionError(LLM must be set)\n",
      "Exception raised in Job[41]: AssertionError(LLM is not set)\n",
      "Exception raised in Job[42]: AssertionError(LLM is not set)\n",
      "Exception raised in Job[43]: AssertionError(LLM must be set)\n",
      "Exception raised in Job[44]: AssertionError(LLM is not set)\n",
      "Exception raised in Job[45]: AssertionError(LLM is not set)\n",
      "Exception raised in Job[46]: AssertionError(LLM must be set)\n",
      "Exception raised in Job[47]: AssertionError(LLM is not set)\n",
      "Exception raised in Job[48]: AssertionError(LLM is not set)\n",
      "Exception raised in Job[49]: AssertionError(LLM must be set)\n",
      "Exception raised in Job[50]: AssertionError(LLM is not set)\n",
      "Exception raised in Job[51]: AssertionError(LLM is not set)\n",
      "Exception raised in Job[52]: AssertionError(LLM must be set)\n",
      "Exception raised in Job[53]: AssertionError(LLM is not set)\n",
      "Exception raised in Job[54]: AssertionError(LLM is not set)\n",
      "Exception raised in Job[55]: AssertionError(LLM must be set)\n",
      "Exception raised in Job[56]: AssertionError(LLM is not set)\n",
      "Exception raised in Job[57]: AssertionError(LLM is not set)\n",
      "Exception raised in Job[58]: AssertionError(LLM must be set)\n",
      "Exception raised in Job[59]: AssertionError(LLM is not set)\n",
      "Exception raised in Job[60]: AssertionError(LLM is not set)\n",
      "Exception raised in Job[61]: AssertionError(LLM must be set)\n",
      "Exception raised in Job[62]: AssertionError(LLM is not set)\n",
      "Exception raised in Job[63]: AssertionError(LLM is not set)\n",
      "Exception raised in Job[64]: AssertionError(LLM must be set)\n",
      "Exception raised in Job[65]: AssertionError(LLM is not set)\n",
      "Exception raised in Job[66]: AssertionError(LLM is not set)\n",
      "Exception raised in Job[67]: AssertionError(LLM must be set)\n",
      "Exception raised in Job[68]: AssertionError(LLM is not set)\n",
      "Exception raised in Job[69]: AssertionError(LLM is not set)\n",
      "Exception raised in Job[70]: AssertionError(LLM must be set)\n",
      "Exception raised in Job[71]: AssertionError(LLM is not set)\n",
      "Exception raised in Job[72]: AssertionError(LLM is not set)\n",
      "Exception raised in Job[73]: AssertionError(LLM must be set)\n",
      "Exception raised in Job[74]: AssertionError(LLM is not set)\n",
      "Exception raised in Job[75]: AssertionError(LLM is not set)\n",
      "Exception raised in Job[76]: AssertionError(LLM must be set)\n",
      "Exception raised in Job[77]: AssertionError(LLM is not set)\n",
      "Exception raised in Job[78]: AssertionError(LLM is not set)\n",
      "Exception raised in Job[79]: AssertionError(LLM must be set)\n",
      "Exception raised in Job[80]: AssertionError(LLM is not set)\n",
      "Exception raised in Job[81]: AssertionError(LLM is not set)\n",
      "Exception raised in Job[82]: AssertionError(LLM must be set)\n",
      "Exception raised in Job[83]: AssertionError(LLM is not set)\n",
      "Exception raised in Job[84]: AssertionError(LLM is not set)\n",
      "Exception raised in Job[85]: AssertionError(LLM must be set)\n",
      "Exception raised in Job[86]: AssertionError(LLM is not set)\n",
      "Exception raised in Job[87]: AssertionError(LLM is not set)\n",
      "Exception raised in Job[88]: AssertionError(LLM must be set)\n",
      "Exception raised in Job[89]: AssertionError(LLM is not set)\n",
      "Exception raised in Job[90]: AssertionError(LLM is not set)\n",
      "Exception raised in Job[91]: AssertionError(LLM must be set)\n",
      "Exception raised in Job[92]: AssertionError(LLM is not set)\n",
      "Exception raised in Job[93]: AssertionError(LLM is not set)\n",
      "Exception raised in Job[94]: AssertionError(LLM must be set)\n",
      "Exception raised in Job[95]: AssertionError(LLM is not set)\n",
      "Exception raised in Job[96]: AssertionError(LLM is not set)\n",
      "Exception raised in Job[97]: AssertionError(LLM must be set)\n",
      "Exception raised in Job[98]: AssertionError(LLM is not set)\n",
      "Exception raised in Job[99]: AssertionError(LLM is not set)\n",
      "Exception raised in Job[100]: AssertionError(LLM must be set)\n",
      "Exception raised in Job[101]: AssertionError(LLM is not set)\n",
      "Exception raised in Job[102]: AssertionError(LLM is not set)\n",
      "Exception raised in Job[103]: AssertionError(LLM must be set)\n",
      "Exception raised in Job[104]: AssertionError(LLM is not set)\n",
      "Exception raised in Job[105]: AssertionError(LLM is not set)\n",
      "Exception raised in Job[106]: AssertionError(LLM must be set)\n",
      "Exception raised in Job[107]: AssertionError(LLM is not set)\n",
      "Exception raised in Job[108]: AssertionError(LLM is not set)\n",
      "Exception raised in Job[109]: AssertionError(LLM must be set)\n",
      "Exception raised in Job[110]: AssertionError(LLM is not set)\n",
      "Exception raised in Job[111]: AssertionError(LLM is not set)\n",
      "Exception raised in Job[112]: AssertionError(LLM must be set)\n",
      "Exception raised in Job[113]: AssertionError(LLM is not set)\n",
      "Exception raised in Job[114]: AssertionError(LLM is not set)\n",
      "Exception raised in Job[115]: AssertionError(LLM must be set)\n",
      "Exception raised in Job[116]: AssertionError(LLM is not set)\n",
      "Exception raised in Job[117]: AssertionError(LLM is not set)\n",
      "Exception raised in Job[118]: AssertionError(LLM must be set)\n",
      "Exception raised in Job[119]: AssertionError(LLM is not set)\n",
      "Exception raised in Job[120]: AssertionError(LLM is not set)\n",
      "Exception raised in Job[121]: AssertionError(LLM must be set)\n",
      "Exception raised in Job[122]: AssertionError(LLM is not set)\n",
      "Exception raised in Job[123]: AssertionError(LLM is not set)\n",
      "Exception raised in Job[124]: AssertionError(LLM must be set)\n",
      "Exception raised in Job[125]: AssertionError(LLM is not set)\n",
      "Exception raised in Job[126]: AssertionError(LLM is not set)\n",
      "Exception raised in Job[127]: AssertionError(LLM must be set)\n",
      "Exception raised in Job[128]: AssertionError(LLM is not set)\n",
      "Exception raised in Job[129]: AssertionError(LLM is not set)\n",
      "Exception raised in Job[130]: AssertionError(LLM must be set)\n",
      "Exception raised in Job[131]: AssertionError(LLM is not set)\n",
      "Exception raised in Job[132]: AssertionError(LLM is not set)\n",
      "Exception raised in Job[133]: AssertionError(LLM must be set)\n",
      "Exception raised in Job[134]: AssertionError(LLM is not set)\n",
      "Exception raised in Job[135]: AssertionError(LLM is not set)\n",
      "Exception raised in Job[136]: AssertionError(LLM must be set)\n",
      "Exception raised in Job[137]: AssertionError(LLM is not set)\n",
      "Exception raised in Job[138]: AssertionError(LLM is not set)\n",
      "Exception raised in Job[139]: AssertionError(LLM must be set)\n",
      "Exception raised in Job[140]: AssertionError(LLM is not set)\n",
      "Exception raised in Job[141]: AssertionError(LLM is not set)\n",
      "Exception raised in Job[142]: AssertionError(LLM must be set)\n",
      "Exception raised in Job[143]: AssertionError(LLM is not set)\n",
      "Exception raised in Job[144]: AssertionError(LLM is not set)\n",
      "Exception raised in Job[145]: AssertionError(LLM must be set)\n",
      "Exception raised in Job[146]: AssertionError(LLM is not set)\n",
      "Exception raised in Job[147]: AssertionError(LLM is not set)\n",
      "Exception raised in Job[148]: AssertionError(LLM must be set)\n",
      "Exception raised in Job[149]: AssertionError(LLM is not set)\n",
      "Exception raised in Job[10]: AttributeError('NoneType' object has no attribute 'generate')\n",
      "Exception raised in Job[16]: AssertionError(llm is not set)\n",
      "Exception raised in Job[1]: AttributeError('NoneType' object has no attribute 'generate')\n",
      "Exception raised in Job[13]: AttributeError('NoneType' object has no attribute 'generate')\n",
      "Exception raised in Job[4]: AssertionError(llm is not set)\n",
      "Exception raised in Job[5]: AssertionError()\n",
      "Exception raised in Job[7]: TimeoutError()\n",
      "Exception raised in Job[11]: TimeoutError()\n",
      "Exception raised in Job[8]: TimeoutError()\n",
      "Exception raised in Job[14]: TimeoutError()\n"
     ]
    }
   ],
   "source": [
    "df_result_gemma_B = pd.DataFrame(columns=[\"model\", \"location\", \"faithfulness\",\"answer_correctness\",\"answer_relevancy\"])\n",
    "\n",
    "i=11\n",
    "while(i<len(output_names_gemma)):\n",
    "    sonuclar = pd.read_csv(output_names_gemma[i])\n",
    "    sonuclar['contexts'] = sonuclar['contexts'].apply(lambda x: [x])\n",
    "\n",
    "    dataset = Dataset.from_pandas(sonuclar)\n",
    "    result = evaluate(dataset,\n",
    "                  metrics=[\n",
    "        faithfulness,\n",
    "        answer_correctness,\n",
    "        answer_relevancy],llm=evaluator_llm, embeddings=evaluator_embeddings)\n",
    "    \n",
    "\n",
    "    yeni_satir = pd.DataFrame({'model': [\"gemma2-9b-it\"], 'location': [location_B[i]], \n",
    "                           'faithfulness': [round(pd.Series(result[\"faithfulness\"]).mean(),4)],\n",
    "                           'answer_correctness': [round(pd.Series(result[\"answer_correctness\"]).mean(),4)],\n",
    "                           'answer_relevancy': [round(pd.Series(result[\"answer_relevancy\"]).mean(),4)]})\n",
    "\n",
    "    df_result_gemma_B = pd.concat([df_result_gemma_B, yeni_satir], ignore_index=True)\n",
    "\n",
    "    result.to_pandas().to_csv(\"RagasResult---\"+\"gemma2-9b-it\"+\"-\"+location_B[i]+\".csv\", index=False)\n",
    "\n",
    "    print(location_B[i])\n",
    "    print(result)\n",
    "    print(\"\\n\")\n",
    "    i=i+1\n",
    "\n",
    "df_result_gemma_B.to_csv(\"OverallResult---\"+\"gemma2-9b-it-for-question-B-2.csv\", index=False)"
   ]
  },
  {
   "cell_type": "code",
   "execution_count": null,
   "metadata": {},
   "outputs": [
    {
     "name": "stderr",
     "output_type": "stream",
     "text": [
      "Evaluating: 100%|██████████| 150/150 [01:21<00:00,  1.83it/s]\n",
      "C:\\Users\\gorke\\AppData\\Local\\Temp\\ipykernel_15516\\3649836639.py:21: FutureWarning: The behavior of DataFrame concatenation with empty or all-NA entries is deprecated. In a future version, this will no longer exclude empty or all-NA columns when determining the result dtypes. To retain the old behavior, exclude the relevant entries before the concat operation.\n",
      "  df_result_gemma_B = pd.concat([df_result_gemma_B, yeni_satir], ignore_index=True)\n"
     ]
    },
    {
     "name": "stdout",
     "output_type": "stream",
     "text": [
      "B-13\n",
      "{'faithfulness': 0.8770, 'answer_correctness': 0.5697, 'answer_relevancy': 0.5928}\n",
      "\n",
      "\n"
     ]
    },
    {
     "name": "stderr",
     "output_type": "stream",
     "text": [
      "Evaluating:  15%|█▍        | 22/150 [00:52<05:03,  2.37s/it]\n"
     ]
    },
    {
     "ename": "KeyboardInterrupt",
     "evalue": "",
     "output_type": "error",
     "traceback": [
      "\u001b[1;31m---------------------------------------------------------------------------\u001b[0m",
      "\u001b[1;31mKeyboardInterrupt\u001b[0m                         Traceback (most recent call last)",
      "Cell \u001b[1;32mIn[78], line 9\u001b[0m\n\u001b[0;32m      6\u001b[0m sonuclar[\u001b[38;5;124m'\u001b[39m\u001b[38;5;124mcontexts\u001b[39m\u001b[38;5;124m'\u001b[39m] \u001b[38;5;241m=\u001b[39m sonuclar[\u001b[38;5;124m'\u001b[39m\u001b[38;5;124mcontexts\u001b[39m\u001b[38;5;124m'\u001b[39m]\u001b[38;5;241m.\u001b[39mapply(\u001b[38;5;28;01mlambda\u001b[39;00m x: [x])\n\u001b[0;32m      8\u001b[0m dataset \u001b[38;5;241m=\u001b[39m Dataset\u001b[38;5;241m.\u001b[39mfrom_pandas(sonuclar)\n\u001b[1;32m----> 9\u001b[0m result \u001b[38;5;241m=\u001b[39m \u001b[43mevaluate\u001b[49m\u001b[43m(\u001b[49m\u001b[43mdataset\u001b[49m\u001b[43m,\u001b[49m\n\u001b[0;32m     10\u001b[0m \u001b[43m              \u001b[49m\u001b[43mmetrics\u001b[49m\u001b[38;5;241;43m=\u001b[39;49m\u001b[43m[\u001b[49m\n\u001b[0;32m     11\u001b[0m \u001b[43m    \u001b[49m\u001b[43mfaithfulness\u001b[49m\u001b[43m,\u001b[49m\n\u001b[0;32m     12\u001b[0m \u001b[43m    \u001b[49m\u001b[43manswer_correctness\u001b[49m\u001b[43m,\u001b[49m\n\u001b[0;32m     13\u001b[0m \u001b[43m    \u001b[49m\u001b[43manswer_relevancy\u001b[49m\u001b[43m]\u001b[49m\u001b[43m,\u001b[49m\u001b[43mllm\u001b[49m\u001b[38;5;241;43m=\u001b[39;49m\u001b[43mevaluator_llm\u001b[49m\u001b[43m,\u001b[49m\u001b[43m \u001b[49m\u001b[43membeddings\u001b[49m\u001b[38;5;241;43m=\u001b[39;49m\u001b[43mevaluator_embeddings\u001b[49m\u001b[43m)\u001b[49m\n\u001b[0;32m     16\u001b[0m yeni_satir \u001b[38;5;241m=\u001b[39m pd\u001b[38;5;241m.\u001b[39mDataFrame({\u001b[38;5;124m'\u001b[39m\u001b[38;5;124mmodel\u001b[39m\u001b[38;5;124m'\u001b[39m: [\u001b[38;5;124m\"\u001b[39m\u001b[38;5;124mgemma2-9b-it\u001b[39m\u001b[38;5;124m\"\u001b[39m], \u001b[38;5;124m'\u001b[39m\u001b[38;5;124mlocation\u001b[39m\u001b[38;5;124m'\u001b[39m: [location_B[i]], \n\u001b[0;32m     17\u001b[0m                        \u001b[38;5;124m'\u001b[39m\u001b[38;5;124mfaithfulness\u001b[39m\u001b[38;5;124m'\u001b[39m: [\u001b[38;5;28mround\u001b[39m(pd\u001b[38;5;241m.\u001b[39mSeries(result[\u001b[38;5;124m\"\u001b[39m\u001b[38;5;124mfaithfulness\u001b[39m\u001b[38;5;124m\"\u001b[39m])\u001b[38;5;241m.\u001b[39mmean(),\u001b[38;5;241m4\u001b[39m)],\n\u001b[0;32m     18\u001b[0m                        \u001b[38;5;124m'\u001b[39m\u001b[38;5;124manswer_correctness\u001b[39m\u001b[38;5;124m'\u001b[39m: [\u001b[38;5;28mround\u001b[39m(pd\u001b[38;5;241m.\u001b[39mSeries(result[\u001b[38;5;124m\"\u001b[39m\u001b[38;5;124manswer_correctness\u001b[39m\u001b[38;5;124m\"\u001b[39m])\u001b[38;5;241m.\u001b[39mmean(),\u001b[38;5;241m4\u001b[39m)],\n\u001b[0;32m     19\u001b[0m                        \u001b[38;5;124m'\u001b[39m\u001b[38;5;124manswer_relevancy\u001b[39m\u001b[38;5;124m'\u001b[39m: [\u001b[38;5;28mround\u001b[39m(pd\u001b[38;5;241m.\u001b[39mSeries(result[\u001b[38;5;124m\"\u001b[39m\u001b[38;5;124manswer_relevancy\u001b[39m\u001b[38;5;124m\"\u001b[39m])\u001b[38;5;241m.\u001b[39mmean(),\u001b[38;5;241m4\u001b[39m)]})\n\u001b[0;32m     21\u001b[0m df_result_gemma_B \u001b[38;5;241m=\u001b[39m pd\u001b[38;5;241m.\u001b[39mconcat([df_result_gemma_B, yeni_satir], ignore_index\u001b[38;5;241m=\u001b[39m\u001b[38;5;28;01mTrue\u001b[39;00m)\n",
      "File \u001b[1;32mc:\\Users\\gorke\\anaconda3\\envs\\odevler\\Lib\\site-packages\\ragas\\_analytics.py:227\u001b[0m, in \u001b[0;36mtrack_was_completed.<locals>.wrapper\u001b[1;34m(*args, **kwargs)\u001b[0m\n\u001b[0;32m    224\u001b[0m \u001b[38;5;129m@wraps\u001b[39m(func)\n\u001b[0;32m    225\u001b[0m \u001b[38;5;28;01mdef\u001b[39;00m \u001b[38;5;21mwrapper\u001b[39m(\u001b[38;5;241m*\u001b[39margs: P\u001b[38;5;241m.\u001b[39margs, \u001b[38;5;241m*\u001b[39m\u001b[38;5;241m*\u001b[39mkwargs: P\u001b[38;5;241m.\u001b[39mkwargs) \u001b[38;5;241m-\u001b[39m\u001b[38;5;241m>\u001b[39m t\u001b[38;5;241m.\u001b[39mAny:\n\u001b[0;32m    226\u001b[0m     track(IsCompleteEvent(event_type\u001b[38;5;241m=\u001b[39mfunc\u001b[38;5;241m.\u001b[39m\u001b[38;5;18m__name__\u001b[39m, is_completed\u001b[38;5;241m=\u001b[39m\u001b[38;5;28;01mFalse\u001b[39;00m))\n\u001b[1;32m--> 227\u001b[0m     result \u001b[38;5;241m=\u001b[39m \u001b[43mfunc\u001b[49m\u001b[43m(\u001b[49m\u001b[38;5;241;43m*\u001b[39;49m\u001b[43margs\u001b[49m\u001b[43m,\u001b[49m\u001b[43m \u001b[49m\u001b[38;5;241;43m*\u001b[39;49m\u001b[38;5;241;43m*\u001b[39;49m\u001b[43mkwargs\u001b[49m\u001b[43m)\u001b[49m\n\u001b[0;32m    228\u001b[0m     track(IsCompleteEvent(event_type\u001b[38;5;241m=\u001b[39mfunc\u001b[38;5;241m.\u001b[39m\u001b[38;5;18m__name__\u001b[39m, is_completed\u001b[38;5;241m=\u001b[39m\u001b[38;5;28;01mTrue\u001b[39;00m))\n\u001b[0;32m    230\u001b[0m     \u001b[38;5;28;01mreturn\u001b[39;00m result\n",
      "File \u001b[1;32mc:\\Users\\gorke\\anaconda3\\envs\\odevler\\Lib\\site-packages\\ragas\\evaluation.py:298\u001b[0m, in \u001b[0;36mevaluate\u001b[1;34m(dataset, metrics, llm, embeddings, experiment_name, callbacks, run_config, token_usage_parser, raise_exceptions, column_map, show_progress, batch_size, _run_id, _pbar)\u001b[0m\n\u001b[0;32m    295\u001b[0m scores: t\u001b[38;5;241m.\u001b[39mList[t\u001b[38;5;241m.\u001b[39mDict[\u001b[38;5;28mstr\u001b[39m, t\u001b[38;5;241m.\u001b[39mAny]] \u001b[38;5;241m=\u001b[39m []\n\u001b[0;32m    296\u001b[0m \u001b[38;5;28;01mtry\u001b[39;00m:\n\u001b[0;32m    297\u001b[0m     \u001b[38;5;66;03m# get the results\u001b[39;00m\n\u001b[1;32m--> 298\u001b[0m     results \u001b[38;5;241m=\u001b[39m \u001b[43mexecutor\u001b[49m\u001b[38;5;241;43m.\u001b[39;49m\u001b[43mresults\u001b[49m\u001b[43m(\u001b[49m\u001b[43m)\u001b[49m\n\u001b[0;32m    299\u001b[0m     \u001b[38;5;28;01mif\u001b[39;00m results \u001b[38;5;241m==\u001b[39m []:\n\u001b[0;32m    300\u001b[0m         \u001b[38;5;28;01mraise\u001b[39;00m ExceptionInRunner()\n",
      "File \u001b[1;32mc:\\Users\\gorke\\anaconda3\\envs\\odevler\\Lib\\site-packages\\ragas\\executor.py:213\u001b[0m, in \u001b[0;36mExecutor.results\u001b[1;34m(self)\u001b[0m\n\u001b[0;32m    210\u001b[0m             nest_asyncio\u001b[38;5;241m.\u001b[39mapply()\n\u001b[0;32m    211\u001b[0m             \u001b[38;5;28mself\u001b[39m\u001b[38;5;241m.\u001b[39m_nest_asyncio_applied \u001b[38;5;241m=\u001b[39m \u001b[38;5;28;01mTrue\u001b[39;00m\n\u001b[1;32m--> 213\u001b[0m results \u001b[38;5;241m=\u001b[39m \u001b[43masyncio\u001b[49m\u001b[38;5;241;43m.\u001b[39;49m\u001b[43mrun\u001b[49m\u001b[43m(\u001b[49m\u001b[38;5;28;43mself\u001b[39;49m\u001b[38;5;241;43m.\u001b[39;49m\u001b[43m_process_jobs\u001b[49m\u001b[43m(\u001b[49m\u001b[43m)\u001b[49m\u001b[43m)\u001b[49m\n\u001b[0;32m    214\u001b[0m sorted_results \u001b[38;5;241m=\u001b[39m \u001b[38;5;28msorted\u001b[39m(results, key\u001b[38;5;241m=\u001b[39m\u001b[38;5;28;01mlambda\u001b[39;00m x: x[\u001b[38;5;241m0\u001b[39m])\n\u001b[0;32m    215\u001b[0m \u001b[38;5;28;01mreturn\u001b[39;00m [r[\u001b[38;5;241m1\u001b[39m] \u001b[38;5;28;01mfor\u001b[39;00m r \u001b[38;5;129;01min\u001b[39;00m sorted_results]\n",
      "File \u001b[1;32mc:\\Users\\gorke\\anaconda3\\envs\\odevler\\Lib\\site-packages\\nest_asyncio.py:30\u001b[0m, in \u001b[0;36m_patch_asyncio.<locals>.run\u001b[1;34m(main, debug)\u001b[0m\n\u001b[0;32m     28\u001b[0m task \u001b[38;5;241m=\u001b[39m asyncio\u001b[38;5;241m.\u001b[39mensure_future(main)\n\u001b[0;32m     29\u001b[0m \u001b[38;5;28;01mtry\u001b[39;00m:\n\u001b[1;32m---> 30\u001b[0m     \u001b[38;5;28;01mreturn\u001b[39;00m \u001b[43mloop\u001b[49m\u001b[38;5;241;43m.\u001b[39;49m\u001b[43mrun_until_complete\u001b[49m\u001b[43m(\u001b[49m\u001b[43mtask\u001b[49m\u001b[43m)\u001b[49m\n\u001b[0;32m     31\u001b[0m \u001b[38;5;28;01mfinally\u001b[39;00m:\n\u001b[0;32m     32\u001b[0m     \u001b[38;5;28;01mif\u001b[39;00m \u001b[38;5;129;01mnot\u001b[39;00m task\u001b[38;5;241m.\u001b[39mdone():\n",
      "File \u001b[1;32mc:\\Users\\gorke\\anaconda3\\envs\\odevler\\Lib\\site-packages\\nest_asyncio.py:92\u001b[0m, in \u001b[0;36m_patch_loop.<locals>.run_until_complete\u001b[1;34m(self, future)\u001b[0m\n\u001b[0;32m     90\u001b[0m     f\u001b[38;5;241m.\u001b[39m_log_destroy_pending \u001b[38;5;241m=\u001b[39m \u001b[38;5;28;01mFalse\u001b[39;00m\n\u001b[0;32m     91\u001b[0m \u001b[38;5;28;01mwhile\u001b[39;00m \u001b[38;5;129;01mnot\u001b[39;00m f\u001b[38;5;241m.\u001b[39mdone():\n\u001b[1;32m---> 92\u001b[0m     \u001b[38;5;28;43mself\u001b[39;49m\u001b[38;5;241;43m.\u001b[39;49m\u001b[43m_run_once\u001b[49m\u001b[43m(\u001b[49m\u001b[43m)\u001b[49m\n\u001b[0;32m     93\u001b[0m     \u001b[38;5;28;01mif\u001b[39;00m \u001b[38;5;28mself\u001b[39m\u001b[38;5;241m.\u001b[39m_stopping:\n\u001b[0;32m     94\u001b[0m         \u001b[38;5;28;01mbreak\u001b[39;00m\n",
      "File \u001b[1;32mc:\\Users\\gorke\\anaconda3\\envs\\odevler\\Lib\\site-packages\\nest_asyncio.py:115\u001b[0m, in \u001b[0;36m_patch_loop.<locals>._run_once\u001b[1;34m(self)\u001b[0m\n\u001b[0;32m    108\u001b[0m     heappop(scheduled)\n\u001b[0;32m    110\u001b[0m timeout \u001b[38;5;241m=\u001b[39m (\n\u001b[0;32m    111\u001b[0m     \u001b[38;5;241m0\u001b[39m \u001b[38;5;28;01mif\u001b[39;00m ready \u001b[38;5;129;01mor\u001b[39;00m \u001b[38;5;28mself\u001b[39m\u001b[38;5;241m.\u001b[39m_stopping\n\u001b[0;32m    112\u001b[0m     \u001b[38;5;28;01melse\u001b[39;00m \u001b[38;5;28mmin\u001b[39m(\u001b[38;5;28mmax\u001b[39m(\n\u001b[0;32m    113\u001b[0m         scheduled[\u001b[38;5;241m0\u001b[39m]\u001b[38;5;241m.\u001b[39m_when \u001b[38;5;241m-\u001b[39m \u001b[38;5;28mself\u001b[39m\u001b[38;5;241m.\u001b[39mtime(), \u001b[38;5;241m0\u001b[39m), \u001b[38;5;241m86400\u001b[39m) \u001b[38;5;28;01mif\u001b[39;00m scheduled\n\u001b[0;32m    114\u001b[0m     \u001b[38;5;28;01melse\u001b[39;00m \u001b[38;5;28;01mNone\u001b[39;00m)\n\u001b[1;32m--> 115\u001b[0m event_list \u001b[38;5;241m=\u001b[39m \u001b[38;5;28;43mself\u001b[39;49m\u001b[38;5;241;43m.\u001b[39;49m\u001b[43m_selector\u001b[49m\u001b[38;5;241;43m.\u001b[39;49m\u001b[43mselect\u001b[49m\u001b[43m(\u001b[49m\u001b[43mtimeout\u001b[49m\u001b[43m)\u001b[49m\n\u001b[0;32m    116\u001b[0m \u001b[38;5;28mself\u001b[39m\u001b[38;5;241m.\u001b[39m_process_events(event_list)\n\u001b[0;32m    118\u001b[0m end_time \u001b[38;5;241m=\u001b[39m \u001b[38;5;28mself\u001b[39m\u001b[38;5;241m.\u001b[39mtime() \u001b[38;5;241m+\u001b[39m \u001b[38;5;28mself\u001b[39m\u001b[38;5;241m.\u001b[39m_clock_resolution\n",
      "File \u001b[1;32mc:\\Users\\gorke\\anaconda3\\envs\\odevler\\Lib\\selectors.py:323\u001b[0m, in \u001b[0;36mSelectSelector.select\u001b[1;34m(self, timeout)\u001b[0m\n\u001b[0;32m    321\u001b[0m ready \u001b[38;5;241m=\u001b[39m []\n\u001b[0;32m    322\u001b[0m \u001b[38;5;28;01mtry\u001b[39;00m:\n\u001b[1;32m--> 323\u001b[0m     r, w, _ \u001b[38;5;241m=\u001b[39m \u001b[38;5;28;43mself\u001b[39;49m\u001b[38;5;241;43m.\u001b[39;49m\u001b[43m_select\u001b[49m\u001b[43m(\u001b[49m\u001b[38;5;28;43mself\u001b[39;49m\u001b[38;5;241;43m.\u001b[39;49m\u001b[43m_readers\u001b[49m\u001b[43m,\u001b[49m\u001b[43m \u001b[49m\u001b[38;5;28;43mself\u001b[39;49m\u001b[38;5;241;43m.\u001b[39;49m\u001b[43m_writers\u001b[49m\u001b[43m,\u001b[49m\u001b[43m \u001b[49m\u001b[43m[\u001b[49m\u001b[43m]\u001b[49m\u001b[43m,\u001b[49m\u001b[43m \u001b[49m\u001b[43mtimeout\u001b[49m\u001b[43m)\u001b[49m\n\u001b[0;32m    324\u001b[0m \u001b[38;5;28;01mexcept\u001b[39;00m \u001b[38;5;167;01mInterruptedError\u001b[39;00m:\n\u001b[0;32m    325\u001b[0m     \u001b[38;5;28;01mreturn\u001b[39;00m ready\n",
      "File \u001b[1;32mc:\\Users\\gorke\\anaconda3\\envs\\odevler\\Lib\\selectors.py:314\u001b[0m, in \u001b[0;36mSelectSelector._select\u001b[1;34m(self, r, w, _, timeout)\u001b[0m\n\u001b[0;32m    313\u001b[0m \u001b[38;5;28;01mdef\u001b[39;00m \u001b[38;5;21m_select\u001b[39m(\u001b[38;5;28mself\u001b[39m, r, w, _, timeout\u001b[38;5;241m=\u001b[39m\u001b[38;5;28;01mNone\u001b[39;00m):\n\u001b[1;32m--> 314\u001b[0m     r, w, x \u001b[38;5;241m=\u001b[39m \u001b[43mselect\u001b[49m\u001b[38;5;241;43m.\u001b[39;49m\u001b[43mselect\u001b[49m\u001b[43m(\u001b[49m\u001b[43mr\u001b[49m\u001b[43m,\u001b[49m\u001b[43m \u001b[49m\u001b[43mw\u001b[49m\u001b[43m,\u001b[49m\u001b[43m \u001b[49m\u001b[43mw\u001b[49m\u001b[43m,\u001b[49m\u001b[43m \u001b[49m\u001b[43mtimeout\u001b[49m\u001b[43m)\u001b[49m\n\u001b[0;32m    315\u001b[0m     \u001b[38;5;28;01mreturn\u001b[39;00m r, w \u001b[38;5;241m+\u001b[39m x, []\n",
      "\u001b[1;31mKeyboardInterrupt\u001b[0m: "
     ]
    },
    {
     "name": "stderr",
     "output_type": "stream",
     "text": [
      "Exception raised in Job[38]: AssertionError(LLM is not set)\n",
      "Exception raised in Job[39]: AssertionError(LLM is not set)\n",
      "Exception raised in Job[40]: AssertionError(LLM must be set)\n",
      "Exception raised in Job[41]: AssertionError(LLM is not set)\n",
      "Exception raised in Job[42]: AssertionError(LLM is not set)\n",
      "Exception raised in Job[43]: AssertionError(LLM must be set)\n",
      "Exception raised in Job[44]: AssertionError(LLM is not set)\n",
      "Exception raised in Job[45]: AssertionError(LLM is not set)\n",
      "Exception raised in Job[46]: AssertionError(LLM must be set)\n",
      "Exception raised in Job[47]: AssertionError(LLM is not set)\n",
      "Exception raised in Job[48]: AssertionError(LLM is not set)\n",
      "Exception raised in Job[49]: AssertionError(LLM must be set)\n",
      "Exception raised in Job[50]: AssertionError(LLM is not set)\n",
      "Exception raised in Job[51]: AssertionError(LLM is not set)\n",
      "Exception raised in Job[52]: AssertionError(LLM must be set)\n",
      "Exception raised in Job[53]: AssertionError(LLM is not set)\n",
      "Exception raised in Job[54]: AssertionError(LLM is not set)\n",
      "Exception raised in Job[55]: AssertionError(LLM must be set)\n",
      "Exception raised in Job[56]: AssertionError(LLM is not set)\n",
      "Exception raised in Job[57]: AssertionError(LLM is not set)\n",
      "Exception raised in Job[58]: AssertionError(LLM must be set)\n",
      "Exception raised in Job[59]: AssertionError(LLM is not set)\n",
      "Exception raised in Job[60]: AssertionError(LLM is not set)\n",
      "Exception raised in Job[61]: AssertionError(LLM must be set)\n",
      "Exception raised in Job[62]: AssertionError(LLM is not set)\n",
      "Exception raised in Job[63]: AssertionError(LLM is not set)\n",
      "Exception raised in Job[64]: AssertionError(LLM must be set)\n",
      "Exception raised in Job[65]: AssertionError(LLM is not set)\n",
      "Exception raised in Job[66]: AssertionError(LLM is not set)\n",
      "Exception raised in Job[67]: AssertionError(LLM must be set)\n",
      "Exception raised in Job[68]: AssertionError(LLM is not set)\n",
      "Exception raised in Job[69]: AssertionError(LLM is not set)\n",
      "Exception raised in Job[70]: AssertionError(LLM must be set)\n",
      "Exception raised in Job[71]: AssertionError(LLM is not set)\n",
      "Exception raised in Job[72]: AssertionError(LLM is not set)\n",
      "Exception raised in Job[73]: AssertionError(LLM must be set)\n",
      "Exception raised in Job[74]: AssertionError(LLM is not set)\n",
      "Exception raised in Job[75]: AssertionError(LLM is not set)\n",
      "Exception raised in Job[76]: AssertionError(LLM must be set)\n",
      "Exception raised in Job[77]: AssertionError(LLM is not set)\n",
      "Exception raised in Job[78]: AssertionError(LLM is not set)\n",
      "Exception raised in Job[79]: AssertionError(LLM must be set)\n",
      "Exception raised in Job[80]: AssertionError(LLM is not set)\n",
      "Exception raised in Job[81]: AssertionError(LLM is not set)\n",
      "Exception raised in Job[82]: AssertionError(LLM must be set)\n",
      "Exception raised in Job[83]: AssertionError(LLM is not set)\n",
      "Exception raised in Job[84]: AssertionError(LLM is not set)\n",
      "Exception raised in Job[85]: AssertionError(LLM must be set)\n",
      "Exception raised in Job[86]: AssertionError(LLM is not set)\n",
      "Exception raised in Job[87]: AssertionError(LLM is not set)\n",
      "Exception raised in Job[88]: AssertionError(LLM must be set)\n",
      "Exception raised in Job[89]: AssertionError(LLM is not set)\n",
      "Exception raised in Job[90]: AssertionError(LLM is not set)\n",
      "Exception raised in Job[91]: AssertionError(LLM must be set)\n",
      "Exception raised in Job[92]: AssertionError(LLM is not set)\n",
      "Exception raised in Job[93]: AssertionError(LLM is not set)\n",
      "Exception raised in Job[94]: AssertionError(LLM must be set)\n",
      "Exception raised in Job[95]: AssertionError(LLM is not set)\n",
      "Exception raised in Job[96]: AssertionError(LLM is not set)\n",
      "Exception raised in Job[97]: AssertionError(LLM must be set)\n",
      "Exception raised in Job[98]: AssertionError(LLM is not set)\n",
      "Exception raised in Job[99]: AssertionError(LLM is not set)\n",
      "Exception raised in Job[100]: AssertionError(LLM must be set)\n",
      "Exception raised in Job[101]: AssertionError(LLM is not set)\n",
      "Exception raised in Job[102]: AssertionError(LLM is not set)\n",
      "Exception raised in Job[103]: AssertionError(LLM must be set)\n",
      "Exception raised in Job[104]: AssertionError(LLM is not set)\n",
      "Exception raised in Job[105]: AssertionError(LLM is not set)\n",
      "Exception raised in Job[106]: AssertionError(LLM must be set)\n",
      "Exception raised in Job[107]: AssertionError(LLM is not set)\n",
      "Exception raised in Job[108]: AssertionError(LLM is not set)\n",
      "Exception raised in Job[109]: AssertionError(LLM must be set)\n",
      "Exception raised in Job[110]: AssertionError(LLM is not set)\n",
      "Exception raised in Job[111]: AssertionError(LLM is not set)\n",
      "Exception raised in Job[112]: AssertionError(LLM must be set)\n",
      "Exception raised in Job[113]: AssertionError(LLM is not set)\n",
      "Exception raised in Job[114]: AssertionError(LLM is not set)\n",
      "Exception raised in Job[115]: AssertionError(LLM must be set)\n",
      "Exception raised in Job[116]: AssertionError(LLM is not set)\n",
      "Exception raised in Job[117]: AssertionError(LLM is not set)\n",
      "Exception raised in Job[118]: AssertionError(LLM must be set)\n",
      "Exception raised in Job[119]: AssertionError(LLM is not set)\n",
      "Exception raised in Job[120]: AssertionError(LLM is not set)\n",
      "Exception raised in Job[121]: AssertionError(LLM must be set)\n",
      "Exception raised in Job[122]: AssertionError(LLM is not set)\n",
      "Exception raised in Job[123]: AssertionError(LLM is not set)\n",
      "Exception raised in Job[124]: AssertionError(LLM must be set)\n",
      "Exception raised in Job[125]: AssertionError(LLM is not set)\n",
      "Exception raised in Job[126]: AssertionError(LLM is not set)\n",
      "Exception raised in Job[127]: AssertionError(LLM must be set)\n",
      "Exception raised in Job[128]: AssertionError(LLM is not set)\n",
      "Exception raised in Job[129]: AssertionError(LLM is not set)\n",
      "Exception raised in Job[130]: AssertionError(LLM must be set)\n",
      "Exception raised in Job[131]: AssertionError(LLM is not set)\n",
      "Exception raised in Job[132]: AssertionError(LLM is not set)\n",
      "Exception raised in Job[133]: AssertionError(LLM must be set)\n",
      "Exception raised in Job[134]: AssertionError(LLM is not set)\n",
      "Exception raised in Job[135]: AssertionError(LLM is not set)\n",
      "Exception raised in Job[136]: AssertionError(LLM must be set)\n",
      "Exception raised in Job[137]: AssertionError(LLM is not set)\n",
      "Exception raised in Job[138]: AssertionError(LLM is not set)\n",
      "Exception raised in Job[139]: AssertionError(LLM must be set)\n",
      "Exception raised in Job[140]: AssertionError(LLM is not set)\n",
      "Exception raised in Job[141]: AssertionError(LLM is not set)\n",
      "Exception raised in Job[142]: AssertionError(LLM must be set)\n",
      "Exception raised in Job[143]: AssertionError(LLM is not set)\n",
      "Exception raised in Job[144]: AssertionError(LLM is not set)\n",
      "Exception raised in Job[145]: AssertionError(LLM must be set)\n",
      "Exception raised in Job[146]: AssertionError(LLM is not set)\n",
      "Exception raised in Job[147]: AssertionError(LLM is not set)\n",
      "Exception raised in Job[148]: AssertionError(LLM must be set)\n",
      "Exception raised in Job[149]: AssertionError(LLM is not set)\n",
      "Exception raised in Job[22]: AssertionError(AnswerSimilarity must be set)\n",
      "Exception raised in Job[28]: AttributeError('NoneType' object has no attribute 'generate')\n",
      "Exception raised in Job[25]: AttributeError('NoneType' object has no attribute 'generate')\n",
      "Exception raised in Job[10]: AssertionError(AnswerSimilarity must be set)\n",
      "Exception raised in Job[34]: AssertionError(llm is not set)\n",
      "Exception raised in Job[30]: AssertionError(llm must be set to compute score)\n",
      "Exception raised in Job[33]: AssertionError(llm must be set to compute score)\n",
      "Exception raised in Job[19]: TimeoutError()\n",
      "Exception raised in Job[31]: TimeoutError()\n",
      "Exception raised in Job[32]: TimeoutError()\n",
      "Exception raised in Job[35]: TimeoutError()\n",
      "Exception raised in Job[37]: TimeoutError()\n"
     ]
    }
   ],
   "source": [
    "df_result_gemma_B = pd.DataFrame(columns=[\"model\", \"location\", \"faithfulness\",\"answer_correctness\",\"answer_relevancy\"])\n",
    "\n",
    "i=12\n",
    "while(i<len(output_names_gemma)):\n",
    "    sonuclar = pd.read_csv(output_names_gemma[i])\n",
    "    sonuclar['contexts'] = sonuclar['contexts'].apply(lambda x: [x])\n",
    "\n",
    "    dataset = Dataset.from_pandas(sonuclar)\n",
    "    result = evaluate(dataset,\n",
    "                  metrics=[\n",
    "        faithfulness,\n",
    "        answer_correctness,\n",
    "        answer_relevancy],llm=evaluator_llm, embeddings=evaluator_embeddings)\n",
    "    \n",
    "\n",
    "    yeni_satir = pd.DataFrame({'model': [\"gemma2-9b-it\"], 'location': [location_B[i]], \n",
    "                           'faithfulness': [round(pd.Series(result[\"faithfulness\"]).mean(),4)],\n",
    "                           'answer_correctness': [round(pd.Series(result[\"answer_correctness\"]).mean(),4)],\n",
    "                           'answer_relevancy': [round(pd.Series(result[\"answer_relevancy\"]).mean(),4)]})\n",
    "\n",
    "    df_result_gemma_B = pd.concat([df_result_gemma_B, yeni_satir], ignore_index=True)\n",
    "\n",
    "    result.to_pandas().to_csv(\"RagasResult---\"+\"gemma2-9b-it\"+\"-\"+location_B[i]+\".csv\", index=False)\n",
    "\n",
    "    print(location_B[i])\n",
    "    print(result)\n",
    "    print(\"\\n\")\n",
    "    i=i+1\n",
    "\n",
    "df_result_gemma_B.to_csv(\"OverallResult---\"+\"gemma2-9b-it-for-question-B-2.csv\", index=False)"
   ]
  },
  {
   "cell_type": "code",
   "execution_count": 81,
   "metadata": {},
   "outputs": [
    {
     "name": "stderr",
     "output_type": "stream",
     "text": [
      "Evaluating: 100%|██████████| 150/150 [01:23<00:00,  1.79it/s]\n",
      "C:\\Users\\gorke\\AppData\\Local\\Temp\\ipykernel_15516\\2814793698.py:21: FutureWarning: The behavior of DataFrame concatenation with empty or all-NA entries is deprecated. In a future version, this will no longer exclude empty or all-NA columns when determining the result dtypes. To retain the old behavior, exclude the relevant entries before the concat operation.\n",
      "  df_result_gemma_B = pd.concat([df_result_gemma_B, yeni_satir], ignore_index=True)\n"
     ]
    },
    {
     "name": "stdout",
     "output_type": "stream",
     "text": [
      "B-14\n",
      "{'faithfulness': 0.8367, 'answer_correctness': 0.5552, 'answer_relevancy': 0.5994}\n",
      "\n",
      "\n"
     ]
    },
    {
     "name": "stderr",
     "output_type": "stream",
     "text": [
      "Evaluating:  81%|████████  | 121/150 [02:39<08:48, 18.24s/it]Exception raised in Job[118]: TimeoutError()\n",
      "Evaluating:  81%|████████▏ | 122/150 [03:57<16:14, 34.79s/it]Exception raised in Job[120]: TimeoutError()\n",
      "Evaluating:  83%|████████▎ | 124/150 [03:59<07:52, 18.18s/it]Exception raised in Job[123]: TimeoutError()\n",
      "Evaluating:  83%|████████▎ | 125/150 [04:00<05:32, 13.28s/it]Exception raised in Job[124]: TimeoutError()\n",
      "Exception raised in Job[125]: TimeoutError()\n",
      "Evaluating:  85%|████████▍ | 127/150 [04:00<02:47,  7.29s/it]Exception raised in Job[126]: TimeoutError()\n",
      "Evaluating:  85%|████████▌ | 128/150 [04:01<02:02,  5.55s/it]Exception raised in Job[127]: TimeoutError()\n",
      "Evaluating:  86%|████████▌ | 129/150 [04:01<01:26,  4.14s/it]Exception raised in Job[128]: TimeoutError()\n",
      "Evaluating:  87%|████████▋ | 130/150 [04:01<01:01,  3.08s/it]Exception raised in Job[130]: TimeoutError()\n",
      "Evaluating:  87%|████████▋ | 131/150 [04:02<00:49,  2.62s/it]Exception raised in Job[131]: TimeoutError()\n",
      "Evaluating:  88%|████████▊ | 132/150 [04:04<00:41,  2.28s/it]Exception raised in Job[132]: TimeoutError()\n",
      "Evaluating:  89%|████████▊ | 133/150 [04:05<00:34,  2.01s/it]Exception raised in Job[133]: TimeoutError()\n",
      "Evaluating:  89%|████████▉ | 134/150 [04:05<00:23,  1.47s/it]Exception raised in Job[134]: TimeoutError()\n",
      "Evaluating:  90%|█████████ | 135/150 [04:08<00:28,  1.88s/it]Exception raised in Job[135]: TimeoutError()\n",
      "Evaluating:  91%|█████████ | 136/150 [05:32<06:06, 26.15s/it]Exception raised in Job[136]: TimeoutError()\n",
      "Evaluating:  92%|█████████▏| 138/150 [05:45<00:30,  2.50s/it]\n"
     ]
    },
    {
     "ename": "KeyboardInterrupt",
     "evalue": "",
     "output_type": "error",
     "traceback": [
      "\u001b[1;31m---------------------------------------------------------------------------\u001b[0m",
      "\u001b[1;31mKeyboardInterrupt\u001b[0m                         Traceback (most recent call last)",
      "Cell \u001b[1;32mIn[81], line 9\u001b[0m\n\u001b[0;32m      6\u001b[0m sonuclar[\u001b[38;5;124m'\u001b[39m\u001b[38;5;124mcontexts\u001b[39m\u001b[38;5;124m'\u001b[39m] \u001b[38;5;241m=\u001b[39m sonuclar[\u001b[38;5;124m'\u001b[39m\u001b[38;5;124mcontexts\u001b[39m\u001b[38;5;124m'\u001b[39m]\u001b[38;5;241m.\u001b[39mapply(\u001b[38;5;28;01mlambda\u001b[39;00m x: [x])\n\u001b[0;32m      8\u001b[0m dataset \u001b[38;5;241m=\u001b[39m Dataset\u001b[38;5;241m.\u001b[39mfrom_pandas(sonuclar)\n\u001b[1;32m----> 9\u001b[0m result \u001b[38;5;241m=\u001b[39m \u001b[43mevaluate\u001b[49m\u001b[43m(\u001b[49m\u001b[43mdataset\u001b[49m\u001b[43m,\u001b[49m\n\u001b[0;32m     10\u001b[0m \u001b[43m              \u001b[49m\u001b[43mmetrics\u001b[49m\u001b[38;5;241;43m=\u001b[39;49m\u001b[43m[\u001b[49m\n\u001b[0;32m     11\u001b[0m \u001b[43m    \u001b[49m\u001b[43mfaithfulness\u001b[49m\u001b[43m,\u001b[49m\n\u001b[0;32m     12\u001b[0m \u001b[43m    \u001b[49m\u001b[43manswer_correctness\u001b[49m\u001b[43m,\u001b[49m\n\u001b[0;32m     13\u001b[0m \u001b[43m    \u001b[49m\u001b[43manswer_relevancy\u001b[49m\u001b[43m]\u001b[49m\u001b[43m,\u001b[49m\u001b[43mllm\u001b[49m\u001b[38;5;241;43m=\u001b[39;49m\u001b[43mevaluator_llm\u001b[49m\u001b[43m,\u001b[49m\u001b[43m \u001b[49m\u001b[43membeddings\u001b[49m\u001b[38;5;241;43m=\u001b[39;49m\u001b[43mevaluator_embeddings\u001b[49m\u001b[43m)\u001b[49m\n\u001b[0;32m     16\u001b[0m yeni_satir \u001b[38;5;241m=\u001b[39m pd\u001b[38;5;241m.\u001b[39mDataFrame({\u001b[38;5;124m'\u001b[39m\u001b[38;5;124mmodel\u001b[39m\u001b[38;5;124m'\u001b[39m: [\u001b[38;5;124m\"\u001b[39m\u001b[38;5;124mgemma2-9b-it\u001b[39m\u001b[38;5;124m\"\u001b[39m], \u001b[38;5;124m'\u001b[39m\u001b[38;5;124mlocation\u001b[39m\u001b[38;5;124m'\u001b[39m: [location_B[i]], \n\u001b[0;32m     17\u001b[0m                        \u001b[38;5;124m'\u001b[39m\u001b[38;5;124mfaithfulness\u001b[39m\u001b[38;5;124m'\u001b[39m: [\u001b[38;5;28mround\u001b[39m(pd\u001b[38;5;241m.\u001b[39mSeries(result[\u001b[38;5;124m\"\u001b[39m\u001b[38;5;124mfaithfulness\u001b[39m\u001b[38;5;124m\"\u001b[39m])\u001b[38;5;241m.\u001b[39mmean(),\u001b[38;5;241m4\u001b[39m)],\n\u001b[0;32m     18\u001b[0m                        \u001b[38;5;124m'\u001b[39m\u001b[38;5;124manswer_correctness\u001b[39m\u001b[38;5;124m'\u001b[39m: [\u001b[38;5;28mround\u001b[39m(pd\u001b[38;5;241m.\u001b[39mSeries(result[\u001b[38;5;124m\"\u001b[39m\u001b[38;5;124manswer_correctness\u001b[39m\u001b[38;5;124m\"\u001b[39m])\u001b[38;5;241m.\u001b[39mmean(),\u001b[38;5;241m4\u001b[39m)],\n\u001b[0;32m     19\u001b[0m                        \u001b[38;5;124m'\u001b[39m\u001b[38;5;124manswer_relevancy\u001b[39m\u001b[38;5;124m'\u001b[39m: [\u001b[38;5;28mround\u001b[39m(pd\u001b[38;5;241m.\u001b[39mSeries(result[\u001b[38;5;124m\"\u001b[39m\u001b[38;5;124manswer_relevancy\u001b[39m\u001b[38;5;124m\"\u001b[39m])\u001b[38;5;241m.\u001b[39mmean(),\u001b[38;5;241m4\u001b[39m)]})\n\u001b[0;32m     21\u001b[0m df_result_gemma_B \u001b[38;5;241m=\u001b[39m pd\u001b[38;5;241m.\u001b[39mconcat([df_result_gemma_B, yeni_satir], ignore_index\u001b[38;5;241m=\u001b[39m\u001b[38;5;28;01mTrue\u001b[39;00m)\n",
      "File \u001b[1;32mc:\\Users\\gorke\\anaconda3\\envs\\odevler\\Lib\\site-packages\\ragas\\_analytics.py:227\u001b[0m, in \u001b[0;36mtrack_was_completed.<locals>.wrapper\u001b[1;34m(*args, **kwargs)\u001b[0m\n\u001b[0;32m    224\u001b[0m \u001b[38;5;129m@wraps\u001b[39m(func)\n\u001b[0;32m    225\u001b[0m \u001b[38;5;28;01mdef\u001b[39;00m \u001b[38;5;21mwrapper\u001b[39m(\u001b[38;5;241m*\u001b[39margs: P\u001b[38;5;241m.\u001b[39margs, \u001b[38;5;241m*\u001b[39m\u001b[38;5;241m*\u001b[39mkwargs: P\u001b[38;5;241m.\u001b[39mkwargs) \u001b[38;5;241m-\u001b[39m\u001b[38;5;241m>\u001b[39m t\u001b[38;5;241m.\u001b[39mAny:\n\u001b[0;32m    226\u001b[0m     track(IsCompleteEvent(event_type\u001b[38;5;241m=\u001b[39mfunc\u001b[38;5;241m.\u001b[39m\u001b[38;5;18m__name__\u001b[39m, is_completed\u001b[38;5;241m=\u001b[39m\u001b[38;5;28;01mFalse\u001b[39;00m))\n\u001b[1;32m--> 227\u001b[0m     result \u001b[38;5;241m=\u001b[39m \u001b[43mfunc\u001b[49m\u001b[43m(\u001b[49m\u001b[38;5;241;43m*\u001b[39;49m\u001b[43margs\u001b[49m\u001b[43m,\u001b[49m\u001b[43m \u001b[49m\u001b[38;5;241;43m*\u001b[39;49m\u001b[38;5;241;43m*\u001b[39;49m\u001b[43mkwargs\u001b[49m\u001b[43m)\u001b[49m\n\u001b[0;32m    228\u001b[0m     track(IsCompleteEvent(event_type\u001b[38;5;241m=\u001b[39mfunc\u001b[38;5;241m.\u001b[39m\u001b[38;5;18m__name__\u001b[39m, is_completed\u001b[38;5;241m=\u001b[39m\u001b[38;5;28;01mTrue\u001b[39;00m))\n\u001b[0;32m    230\u001b[0m     \u001b[38;5;28;01mreturn\u001b[39;00m result\n",
      "File \u001b[1;32mc:\\Users\\gorke\\anaconda3\\envs\\odevler\\Lib\\site-packages\\ragas\\evaluation.py:298\u001b[0m, in \u001b[0;36mevaluate\u001b[1;34m(dataset, metrics, llm, embeddings, experiment_name, callbacks, run_config, token_usage_parser, raise_exceptions, column_map, show_progress, batch_size, _run_id, _pbar)\u001b[0m\n\u001b[0;32m    295\u001b[0m scores: t\u001b[38;5;241m.\u001b[39mList[t\u001b[38;5;241m.\u001b[39mDict[\u001b[38;5;28mstr\u001b[39m, t\u001b[38;5;241m.\u001b[39mAny]] \u001b[38;5;241m=\u001b[39m []\n\u001b[0;32m    296\u001b[0m \u001b[38;5;28;01mtry\u001b[39;00m:\n\u001b[0;32m    297\u001b[0m     \u001b[38;5;66;03m# get the results\u001b[39;00m\n\u001b[1;32m--> 298\u001b[0m     results \u001b[38;5;241m=\u001b[39m \u001b[43mexecutor\u001b[49m\u001b[38;5;241;43m.\u001b[39;49m\u001b[43mresults\u001b[49m\u001b[43m(\u001b[49m\u001b[43m)\u001b[49m\n\u001b[0;32m    299\u001b[0m     \u001b[38;5;28;01mif\u001b[39;00m results \u001b[38;5;241m==\u001b[39m []:\n\u001b[0;32m    300\u001b[0m         \u001b[38;5;28;01mraise\u001b[39;00m ExceptionInRunner()\n",
      "File \u001b[1;32mc:\\Users\\gorke\\anaconda3\\envs\\odevler\\Lib\\site-packages\\ragas\\executor.py:213\u001b[0m, in \u001b[0;36mExecutor.results\u001b[1;34m(self)\u001b[0m\n\u001b[0;32m    210\u001b[0m             nest_asyncio\u001b[38;5;241m.\u001b[39mapply()\n\u001b[0;32m    211\u001b[0m             \u001b[38;5;28mself\u001b[39m\u001b[38;5;241m.\u001b[39m_nest_asyncio_applied \u001b[38;5;241m=\u001b[39m \u001b[38;5;28;01mTrue\u001b[39;00m\n\u001b[1;32m--> 213\u001b[0m results \u001b[38;5;241m=\u001b[39m \u001b[43masyncio\u001b[49m\u001b[38;5;241;43m.\u001b[39;49m\u001b[43mrun\u001b[49m\u001b[43m(\u001b[49m\u001b[38;5;28;43mself\u001b[39;49m\u001b[38;5;241;43m.\u001b[39;49m\u001b[43m_process_jobs\u001b[49m\u001b[43m(\u001b[49m\u001b[43m)\u001b[49m\u001b[43m)\u001b[49m\n\u001b[0;32m    214\u001b[0m sorted_results \u001b[38;5;241m=\u001b[39m \u001b[38;5;28msorted\u001b[39m(results, key\u001b[38;5;241m=\u001b[39m\u001b[38;5;28;01mlambda\u001b[39;00m x: x[\u001b[38;5;241m0\u001b[39m])\n\u001b[0;32m    215\u001b[0m \u001b[38;5;28;01mreturn\u001b[39;00m [r[\u001b[38;5;241m1\u001b[39m] \u001b[38;5;28;01mfor\u001b[39;00m r \u001b[38;5;129;01min\u001b[39;00m sorted_results]\n",
      "File \u001b[1;32mc:\\Users\\gorke\\anaconda3\\envs\\odevler\\Lib\\site-packages\\nest_asyncio.py:30\u001b[0m, in \u001b[0;36m_patch_asyncio.<locals>.run\u001b[1;34m(main, debug)\u001b[0m\n\u001b[0;32m     28\u001b[0m task \u001b[38;5;241m=\u001b[39m asyncio\u001b[38;5;241m.\u001b[39mensure_future(main)\n\u001b[0;32m     29\u001b[0m \u001b[38;5;28;01mtry\u001b[39;00m:\n\u001b[1;32m---> 30\u001b[0m     \u001b[38;5;28;01mreturn\u001b[39;00m \u001b[43mloop\u001b[49m\u001b[38;5;241;43m.\u001b[39;49m\u001b[43mrun_until_complete\u001b[49m\u001b[43m(\u001b[49m\u001b[43mtask\u001b[49m\u001b[43m)\u001b[49m\n\u001b[0;32m     31\u001b[0m \u001b[38;5;28;01mfinally\u001b[39;00m:\n\u001b[0;32m     32\u001b[0m     \u001b[38;5;28;01mif\u001b[39;00m \u001b[38;5;129;01mnot\u001b[39;00m task\u001b[38;5;241m.\u001b[39mdone():\n",
      "File \u001b[1;32mc:\\Users\\gorke\\anaconda3\\envs\\odevler\\Lib\\site-packages\\nest_asyncio.py:92\u001b[0m, in \u001b[0;36m_patch_loop.<locals>.run_until_complete\u001b[1;34m(self, future)\u001b[0m\n\u001b[0;32m     90\u001b[0m     f\u001b[38;5;241m.\u001b[39m_log_destroy_pending \u001b[38;5;241m=\u001b[39m \u001b[38;5;28;01mFalse\u001b[39;00m\n\u001b[0;32m     91\u001b[0m \u001b[38;5;28;01mwhile\u001b[39;00m \u001b[38;5;129;01mnot\u001b[39;00m f\u001b[38;5;241m.\u001b[39mdone():\n\u001b[1;32m---> 92\u001b[0m     \u001b[38;5;28;43mself\u001b[39;49m\u001b[38;5;241;43m.\u001b[39;49m\u001b[43m_run_once\u001b[49m\u001b[43m(\u001b[49m\u001b[43m)\u001b[49m\n\u001b[0;32m     93\u001b[0m     \u001b[38;5;28;01mif\u001b[39;00m \u001b[38;5;28mself\u001b[39m\u001b[38;5;241m.\u001b[39m_stopping:\n\u001b[0;32m     94\u001b[0m         \u001b[38;5;28;01mbreak\u001b[39;00m\n",
      "File \u001b[1;32mc:\\Users\\gorke\\anaconda3\\envs\\odevler\\Lib\\site-packages\\nest_asyncio.py:115\u001b[0m, in \u001b[0;36m_patch_loop.<locals>._run_once\u001b[1;34m(self)\u001b[0m\n\u001b[0;32m    108\u001b[0m     heappop(scheduled)\n\u001b[0;32m    110\u001b[0m timeout \u001b[38;5;241m=\u001b[39m (\n\u001b[0;32m    111\u001b[0m     \u001b[38;5;241m0\u001b[39m \u001b[38;5;28;01mif\u001b[39;00m ready \u001b[38;5;129;01mor\u001b[39;00m \u001b[38;5;28mself\u001b[39m\u001b[38;5;241m.\u001b[39m_stopping\n\u001b[0;32m    112\u001b[0m     \u001b[38;5;28;01melse\u001b[39;00m \u001b[38;5;28mmin\u001b[39m(\u001b[38;5;28mmax\u001b[39m(\n\u001b[0;32m    113\u001b[0m         scheduled[\u001b[38;5;241m0\u001b[39m]\u001b[38;5;241m.\u001b[39m_when \u001b[38;5;241m-\u001b[39m \u001b[38;5;28mself\u001b[39m\u001b[38;5;241m.\u001b[39mtime(), \u001b[38;5;241m0\u001b[39m), \u001b[38;5;241m86400\u001b[39m) \u001b[38;5;28;01mif\u001b[39;00m scheduled\n\u001b[0;32m    114\u001b[0m     \u001b[38;5;28;01melse\u001b[39;00m \u001b[38;5;28;01mNone\u001b[39;00m)\n\u001b[1;32m--> 115\u001b[0m event_list \u001b[38;5;241m=\u001b[39m \u001b[38;5;28;43mself\u001b[39;49m\u001b[38;5;241;43m.\u001b[39;49m\u001b[43m_selector\u001b[49m\u001b[38;5;241;43m.\u001b[39;49m\u001b[43mselect\u001b[49m\u001b[43m(\u001b[49m\u001b[43mtimeout\u001b[49m\u001b[43m)\u001b[49m\n\u001b[0;32m    116\u001b[0m \u001b[38;5;28mself\u001b[39m\u001b[38;5;241m.\u001b[39m_process_events(event_list)\n\u001b[0;32m    118\u001b[0m end_time \u001b[38;5;241m=\u001b[39m \u001b[38;5;28mself\u001b[39m\u001b[38;5;241m.\u001b[39mtime() \u001b[38;5;241m+\u001b[39m \u001b[38;5;28mself\u001b[39m\u001b[38;5;241m.\u001b[39m_clock_resolution\n",
      "File \u001b[1;32mc:\\Users\\gorke\\anaconda3\\envs\\odevler\\Lib\\selectors.py:323\u001b[0m, in \u001b[0;36mSelectSelector.select\u001b[1;34m(self, timeout)\u001b[0m\n\u001b[0;32m    321\u001b[0m ready \u001b[38;5;241m=\u001b[39m []\n\u001b[0;32m    322\u001b[0m \u001b[38;5;28;01mtry\u001b[39;00m:\n\u001b[1;32m--> 323\u001b[0m     r, w, _ \u001b[38;5;241m=\u001b[39m \u001b[38;5;28;43mself\u001b[39;49m\u001b[38;5;241;43m.\u001b[39;49m\u001b[43m_select\u001b[49m\u001b[43m(\u001b[49m\u001b[38;5;28;43mself\u001b[39;49m\u001b[38;5;241;43m.\u001b[39;49m\u001b[43m_readers\u001b[49m\u001b[43m,\u001b[49m\u001b[43m \u001b[49m\u001b[38;5;28;43mself\u001b[39;49m\u001b[38;5;241;43m.\u001b[39;49m\u001b[43m_writers\u001b[49m\u001b[43m,\u001b[49m\u001b[43m \u001b[49m\u001b[43m[\u001b[49m\u001b[43m]\u001b[49m\u001b[43m,\u001b[49m\u001b[43m \u001b[49m\u001b[43mtimeout\u001b[49m\u001b[43m)\u001b[49m\n\u001b[0;32m    324\u001b[0m \u001b[38;5;28;01mexcept\u001b[39;00m \u001b[38;5;167;01mInterruptedError\u001b[39;00m:\n\u001b[0;32m    325\u001b[0m     \u001b[38;5;28;01mreturn\u001b[39;00m ready\n",
      "File \u001b[1;32mc:\\Users\\gorke\\anaconda3\\envs\\odevler\\Lib\\selectors.py:314\u001b[0m, in \u001b[0;36mSelectSelector._select\u001b[1;34m(self, r, w, _, timeout)\u001b[0m\n\u001b[0;32m    313\u001b[0m \u001b[38;5;28;01mdef\u001b[39;00m \u001b[38;5;21m_select\u001b[39m(\u001b[38;5;28mself\u001b[39m, r, w, _, timeout\u001b[38;5;241m=\u001b[39m\u001b[38;5;28;01mNone\u001b[39;00m):\n\u001b[1;32m--> 314\u001b[0m     r, w, x \u001b[38;5;241m=\u001b[39m \u001b[43mselect\u001b[49m\u001b[38;5;241;43m.\u001b[39;49m\u001b[43mselect\u001b[49m\u001b[43m(\u001b[49m\u001b[43mr\u001b[49m\u001b[43m,\u001b[49m\u001b[43m \u001b[49m\u001b[43mw\u001b[49m\u001b[43m,\u001b[49m\u001b[43m \u001b[49m\u001b[43mw\u001b[49m\u001b[43m,\u001b[49m\u001b[43m \u001b[49m\u001b[43mtimeout\u001b[49m\u001b[43m)\u001b[49m\n\u001b[0;32m    315\u001b[0m     \u001b[38;5;28;01mreturn\u001b[39;00m r, w \u001b[38;5;241m+\u001b[39m x, []\n",
      "\u001b[1;31mKeyboardInterrupt\u001b[0m: "
     ]
    },
    {
     "name": "stderr",
     "output_type": "stream",
     "text": [
      "Exception raised in Job[148]: AttributeError('NoneType' object has no attribute 'generate')\n",
      "Exception raised in Job[146]: AssertionError()\n",
      "Exception raised in Job[142]: AssertionError(llm is not set)\n",
      "Exception raised in Job[137]: AssertionError()\n",
      "Exception raised in Job[139]: TimeoutError()\n",
      "Exception raised in Job[145]: AttributeError('NoneType' object has no attribute 'generate')\n",
      "Exception raised in Job[140]: TimeoutError()\n",
      "Exception raised in Job[143]: TimeoutError()\n",
      "Exception raised in Job[144]: TimeoutError()\n",
      "Exception raised in Job[149]: TimeoutError()\n"
     ]
    }
   ],
   "source": [
    "df_result_gemma_B = pd.DataFrame(columns=[\"model\", \"location\", \"faithfulness\",\"answer_correctness\",\"answer_relevancy\"])\n",
    "\n",
    "i=13\n",
    "while(i<len(output_names_gemma)):\n",
    "    sonuclar = pd.read_csv(output_names_gemma[i])\n",
    "    sonuclar['contexts'] = sonuclar['contexts'].apply(lambda x: [x])\n",
    "\n",
    "    dataset = Dataset.from_pandas(sonuclar)\n",
    "    result = evaluate(dataset,\n",
    "                  metrics=[\n",
    "        faithfulness,\n",
    "        answer_correctness,\n",
    "        answer_relevancy],llm=evaluator_llm, embeddings=evaluator_embeddings)\n",
    "    \n",
    "\n",
    "    yeni_satir = pd.DataFrame({'model': [\"gemma2-9b-it\"], 'location': [location_B[i]], \n",
    "                           'faithfulness': [round(pd.Series(result[\"faithfulness\"]).mean(),4)],\n",
    "                           'answer_correctness': [round(pd.Series(result[\"answer_correctness\"]).mean(),4)],\n",
    "                           'answer_relevancy': [round(pd.Series(result[\"answer_relevancy\"]).mean(),4)]})\n",
    "\n",
    "    df_result_gemma_B = pd.concat([df_result_gemma_B, yeni_satir], ignore_index=True)\n",
    "\n",
    "    result.to_pandas().to_csv(\"RagasResult---\"+\"gemma2-9b-it\"+\"-\"+location_B[i]+\".csv\", index=False)\n",
    "\n",
    "    print(location_B[i])\n",
    "    print(result)\n",
    "    print(\"\\n\")\n",
    "    i=i+1\n",
    "\n",
    "df_result_gemma_B.to_csv(\"OverallResult---\"+\"gemma2-9b-it-for-question-B-2.csv\", index=False)"
   ]
  },
  {
   "cell_type": "code",
   "execution_count": 87,
   "metadata": {},
   "outputs": [
    {
     "name": "stderr",
     "output_type": "stream",
     "text": [
      "Evaluating: 100%|██████████| 50/50 [00:25<00:00,  1.97it/s]\n"
     ]
    },
    {
     "name": "stdout",
     "output_type": "stream",
     "text": [
      "B-15\n",
      "{'faithfulness': 0.9033}\n",
      "\n",
      "\n"
     ]
    },
    {
     "name": "stderr",
     "output_type": "stream",
     "text": [
      "C:\\Users\\gorke\\AppData\\Local\\Temp\\ipykernel_15516\\4100618838.py:17: FutureWarning: The behavior of DataFrame concatenation with empty or all-NA entries is deprecated. In a future version, this will no longer exclude empty or all-NA columns when determining the result dtypes. To retain the old behavior, exclude the relevant entries before the concat operation.\n",
      "  df_result_gemma_B = pd.concat([df_result_gemma_B, yeni_satir], ignore_index=True)\n"
     ]
    }
   ],
   "source": [
    "df_result_gemma_B = pd.DataFrame(columns=[\"model\", \"location\", \"faithfulness\"])\n",
    "\n",
    "i=14\n",
    "while(i<len(output_names_gemma)):\n",
    "    sonuclar = pd.read_csv(output_names_gemma[i])\n",
    "    sonuclar['contexts'] = sonuclar['contexts'].apply(lambda x: [x])\n",
    "\n",
    "    dataset = Dataset.from_pandas(sonuclar)\n",
    "    result = evaluate(dataset,\n",
    "                  metrics=[\n",
    "        faithfulness],llm=evaluator_llm, embeddings=evaluator_embeddings)\n",
    "    \n",
    "\n",
    "    yeni_satir = pd.DataFrame({'model': [\"gemma2-9b-it\"], 'location': [location_B[i]], \n",
    "                           'faithfulness': [round(pd.Series(result[\"faithfulness\"]).mean(),4)]})\n",
    "\n",
    "    df_result_gemma_B = pd.concat([df_result_gemma_B, yeni_satir], ignore_index=True)\n",
    "\n",
    "    result.to_pandas().to_csv(\"RagasResult---\"+\"gemma2-9b-it\"+\"-\"+location_B[i]+\".csv\", index=False)\n",
    "\n",
    "    print(location_B[i])\n",
    "    print(result)\n",
    "    print(\"\\n\")\n",
    "    i=i+1\n",
    "\n",
    "df_result_gemma_B.to_csv(\"OverallResult---\"+\"gemma2-9b-it-for-question-B-2-justFaithfullness.csv\", index=False)"
   ]
  },
  {
   "cell_type": "code",
   "execution_count": 88,
   "metadata": {},
   "outputs": [
    {
     "name": "stderr",
     "output_type": "stream",
     "text": [
      "Evaluating: 100%|██████████| 50/50 [02:20<00:00,  2.80s/it]\n"
     ]
    },
    {
     "name": "stdout",
     "output_type": "stream",
     "text": [
      "B-15\n",
      "{'answer_correctness': 0.5788}\n",
      "\n",
      "\n"
     ]
    },
    {
     "name": "stderr",
     "output_type": "stream",
     "text": [
      "C:\\Users\\gorke\\AppData\\Local\\Temp\\ipykernel_15516\\2321670986.py:17: FutureWarning: The behavior of DataFrame concatenation with empty or all-NA entries is deprecated. In a future version, this will no longer exclude empty or all-NA columns when determining the result dtypes. To retain the old behavior, exclude the relevant entries before the concat operation.\n",
      "  df_result_gemma_B = pd.concat([df_result_gemma_B, yeni_satir], ignore_index=True)\n"
     ]
    }
   ],
   "source": [
    "df_result_gemma_B = pd.DataFrame(columns=[\"model\", \"location\",\"answer_correctness\"])\n",
    "\n",
    "i=14\n",
    "while(i<len(output_names_gemma)):\n",
    "    sonuclar = pd.read_csv(output_names_gemma[i])\n",
    "    sonuclar['contexts'] = sonuclar['contexts'].apply(lambda x: [x])\n",
    "\n",
    "    dataset = Dataset.from_pandas(sonuclar)\n",
    "    result = evaluate(dataset,\n",
    "                  metrics=[\n",
    "        answer_correctness],llm=evaluator_llm, embeddings=evaluator_embeddings)\n",
    "    \n",
    "\n",
    "    yeni_satir = pd.DataFrame({'model': [\"gemma2-9b-it\"], 'location': [location_B[i]], \n",
    "                           'answer_correctness': [round(pd.Series(result[\"answer_correctness\"]).mean(),4)]})\n",
    "\n",
    "    df_result_gemma_B = pd.concat([df_result_gemma_B, yeni_satir], ignore_index=True)\n",
    "\n",
    "    result.to_pandas().to_csv(\"RagasResult---\"+\"gemma2-9b-it\"+\"-\"+location_B[i]+\".csv\", index=False)\n",
    "\n",
    "    print(location_B[i])\n",
    "    print(result)\n",
    "    print(\"\\n\")\n",
    "    i=i+1\n",
    "\n",
    "df_result_gemma_B.to_csv(\"OverallResult---\"+\"gemma2-9b-it-for-question-B-2-justCorrectness.csv\", index=False)"
   ]
  },
  {
   "cell_type": "code",
   "execution_count": 91,
   "metadata": {},
   "outputs": [
    {
     "name": "stderr",
     "output_type": "stream",
     "text": [
      "Evaluating: 100%|██████████| 50/50 [00:53<00:00,  1.06s/it]\n"
     ]
    },
    {
     "name": "stdout",
     "output_type": "stream",
     "text": [
      "B-15\n",
      "{'answer_relevancy': 0.5304}\n",
      "\n",
      "\n"
     ]
    }
   ],
   "source": [
    "df_result_gemma_B = pd.DataFrame(columns=[\"model\", \"location\"\"answer_relevancy\"])\n",
    "\n",
    "i=14\n",
    "while(i<len(output_names_gemma)):\n",
    "    sonuclar = pd.read_csv(output_names_gemma[i])\n",
    "    sonuclar['contexts'] = sonuclar['contexts'].apply(lambda x: [x])\n",
    "\n",
    "    dataset = Dataset.from_pandas(sonuclar)\n",
    "    result = evaluate(dataset,\n",
    "                  metrics=[\n",
    "        answer_relevancy],llm=evaluator_llm, embeddings=evaluator_embeddings)\n",
    "    \n",
    "\n",
    "    yeni_satir = pd.DataFrame({'model': [\"gemma2-9b-it\"], 'location': [location_B[i]],\n",
    "                           'answer_relevancy': [round(pd.Series(result[\"answer_relevancy\"]).mean(),4)]})\n",
    "\n",
    "    df_result_gemma_B = pd.concat([df_result_gemma_B, yeni_satir], ignore_index=True)\n",
    "\n",
    "    result.to_pandas().to_csv(\"RagasResult---\"+\"gemma2-9b-it\"+\"-\"+location_B[i]+\".csv\", index=False)\n",
    "\n",
    "    print(location_B[i])\n",
    "    print(result)\n",
    "    print(\"\\n\")\n",
    "    i=i+1\n",
    "\n",
    "df_result_gemma_B.to_csv(\"OverallResult---\"+\"gemma2-9b-it-for-question-B-2-justRelevancy.csv\", index=False)"
   ]
  },
  {
   "cell_type": "code",
   "execution_count": 72,
   "metadata": {},
   "outputs": [
    {
     "name": "stderr",
     "output_type": "stream",
     "text": [
      "Evaluating: 100%|██████████| 50/50 [00:07<00:00,  6.31it/s]\n",
      "C:\\Users\\gorke\\AppData\\Local\\Temp\\ipykernel_15516\\3866013384.py:17: FutureWarning: The behavior of DataFrame concatenation with empty or all-NA entries is deprecated. In a future version, this will no longer exclude empty or all-NA columns when determining the result dtypes. To retain the old behavior, exclude the relevant entries before the concat operation.\n",
      "  df_result_cosmos_B_justRecall = pd.concat([df_result_cosmos_B_justRecall, yeni_satir], ignore_index=True)\n"
     ]
    },
    {
     "name": "stdout",
     "output_type": "stream",
     "text": [
      "B-1\n",
      "{'context_recall': 0.8123}\n",
      "\n",
      "\n"
     ]
    },
    {
     "name": "stderr",
     "output_type": "stream",
     "text": [
      "Evaluating: 100%|██████████| 50/50 [00:31<00:00,  1.61it/s]\n"
     ]
    },
    {
     "name": "stdout",
     "output_type": "stream",
     "text": [
      "B-2\n",
      "{'context_recall': 0.7933}\n",
      "\n",
      "\n"
     ]
    },
    {
     "name": "stderr",
     "output_type": "stream",
     "text": [
      "Evaluating: 100%|██████████| 50/50 [00:44<00:00,  1.12it/s]\n"
     ]
    },
    {
     "name": "stdout",
     "output_type": "stream",
     "text": [
      "B-3\n",
      "{'context_recall': 0.7800}\n",
      "\n",
      "\n"
     ]
    },
    {
     "name": "stderr",
     "output_type": "stream",
     "text": [
      "Evaluating: 100%|██████████| 50/50 [00:36<00:00,  1.36it/s]\n"
     ]
    },
    {
     "name": "stdout",
     "output_type": "stream",
     "text": [
      "B-4\n",
      "{'context_recall': 0.8440}\n",
      "\n",
      "\n"
     ]
    },
    {
     "name": "stderr",
     "output_type": "stream",
     "text": [
      "Evaluating: 100%|██████████| 50/50 [00:59<00:00,  1.19s/it]\n"
     ]
    },
    {
     "name": "stdout",
     "output_type": "stream",
     "text": [
      "B-5\n",
      "{'context_recall': 0.8100}\n",
      "\n",
      "\n"
     ]
    },
    {
     "name": "stderr",
     "output_type": "stream",
     "text": [
      "Evaluating: 100%|██████████| 50/50 [00:24<00:00,  2.00it/s]\n"
     ]
    },
    {
     "name": "stdout",
     "output_type": "stream",
     "text": [
      "B-6\n",
      "{'context_recall': 0.7753}\n",
      "\n",
      "\n"
     ]
    },
    {
     "name": "stderr",
     "output_type": "stream",
     "text": [
      "Evaluating: 100%|██████████| 50/50 [01:04<00:00,  1.29s/it]\n"
     ]
    },
    {
     "name": "stdout",
     "output_type": "stream",
     "text": [
      "B-7\n",
      "{'context_recall': 0.7707}\n",
      "\n",
      "\n"
     ]
    },
    {
     "name": "stderr",
     "output_type": "stream",
     "text": [
      "Evaluating: 100%|██████████| 50/50 [00:22<00:00,  2.23it/s]\n"
     ]
    },
    {
     "name": "stdout",
     "output_type": "stream",
     "text": [
      "B-8\n",
      "{'context_recall': 0.7523}\n",
      "\n",
      "\n"
     ]
    },
    {
     "name": "stderr",
     "output_type": "stream",
     "text": [
      "Evaluating: 100%|██████████| 50/50 [00:46<00:00,  1.08it/s]\n"
     ]
    },
    {
     "name": "stdout",
     "output_type": "stream",
     "text": [
      "B-9\n",
      "{'context_recall': 0.7540}\n",
      "\n",
      "\n"
     ]
    },
    {
     "name": "stderr",
     "output_type": "stream",
     "text": [
      "Evaluating: 100%|██████████| 50/50 [00:55<00:00,  1.11s/it]\n"
     ]
    },
    {
     "name": "stdout",
     "output_type": "stream",
     "text": [
      "B-10\n",
      "{'context_recall': 0.7823}\n",
      "\n",
      "\n"
     ]
    },
    {
     "name": "stderr",
     "output_type": "stream",
     "text": [
      "Evaluating: 100%|██████████| 50/50 [00:32<00:00,  1.52it/s]\n"
     ]
    },
    {
     "name": "stdout",
     "output_type": "stream",
     "text": [
      "B-11\n",
      "{'context_recall': 0.7383}\n",
      "\n",
      "\n"
     ]
    },
    {
     "name": "stderr",
     "output_type": "stream",
     "text": [
      "Evaluating: 100%|██████████| 50/50 [00:40<00:00,  1.25it/s]\n"
     ]
    },
    {
     "name": "stdout",
     "output_type": "stream",
     "text": [
      "B-12\n",
      "{'context_recall': 0.7717}\n",
      "\n",
      "\n"
     ]
    },
    {
     "name": "stderr",
     "output_type": "stream",
     "text": [
      "Evaluating: 100%|██████████| 50/50 [00:58<00:00,  1.16s/it]\n"
     ]
    },
    {
     "name": "stdout",
     "output_type": "stream",
     "text": [
      "B-13\n",
      "{'context_recall': 0.7650}\n",
      "\n",
      "\n"
     ]
    },
    {
     "name": "stderr",
     "output_type": "stream",
     "text": [
      "Evaluating: 100%|██████████| 50/50 [00:22<00:00,  2.22it/s]\n"
     ]
    },
    {
     "name": "stdout",
     "output_type": "stream",
     "text": [
      "B-14\n",
      "{'context_recall': 0.7567}\n",
      "\n",
      "\n"
     ]
    },
    {
     "name": "stderr",
     "output_type": "stream",
     "text": [
      "Evaluating: 100%|██████████| 50/50 [01:25<00:00,  1.70s/it]\n"
     ]
    },
    {
     "name": "stdout",
     "output_type": "stream",
     "text": [
      "B-15\n",
      "{'context_recall': 0.7100}\n",
      "\n",
      "\n"
     ]
    }
   ],
   "source": [
    "df_result_cosmos_B_justRecall = pd.DataFrame(columns=[\"model\", \"location\", \"context_recall\"])\n",
    "\n",
    "i=0\n",
    "while(i<len(output_names_cosmos)):\n",
    "    sonuclar = pd.read_csv(output_names_cosmos[i])\n",
    "    sonuclar['contexts'] = sonuclar['contexts'].apply(lambda x: [x])\n",
    "\n",
    "    dataset = Dataset.from_pandas(sonuclar)\n",
    "    result = evaluate(dataset,\n",
    "                  metrics=[\n",
    "                    context_recall],llm=evaluator_llm, embeddings=evaluator_embeddings)\n",
    "    \n",
    "\n",
    "    yeni_satir = pd.DataFrame({'model': [\"cosmos-dpo\"], 'location': [location_B[i]], \n",
    "                    'context_recall': [round(pd.Series(result[\"context_recall\"]).mean(),4)]})\n",
    "\n",
    "    df_result_cosmos_B_justRecall = pd.concat([df_result_cosmos_B_justRecall, yeni_satir], ignore_index=True)\n",
    "\n",
    "    result.to_pandas().to_csv(\"RagasResult---\"+\"cosmos-dpo\"+\"-\"+location_B[i]+\"justRecall.csv\", index=False)\n",
    "\n",
    "    print(location_B[i])\n",
    "    print(result)\n",
    "    print(\"\\n\")\n",
    "    i=i+1\n",
    "\n",
    "df_result_cosmos_B_justRecall.to_csv(\"OverallResult---\"+\"cosmos-dpo-for-question-B-justRecall.csv\", index=False)"
   ]
  },
  {
   "cell_type": "code",
   "execution_count": 75,
   "metadata": {},
   "outputs": [
    {
     "name": "stderr",
     "output_type": "stream",
     "text": [
      "Evaluating: 100%|██████████| 50/50 [00:09<00:00,  5.42it/s]\n",
      "C:\\Users\\gorke\\AppData\\Local\\Temp\\ipykernel_15516\\3609301385.py:17: FutureWarning: The behavior of DataFrame concatenation with empty or all-NA entries is deprecated. In a future version, this will no longer exclude empty or all-NA columns when determining the result dtypes. To retain the old behavior, exclude the relevant entries before the concat operation.\n",
      "  df_result_gemma_B_justRecall = pd.concat([df_result_gemma_B_justRecall, yeni_satir], ignore_index=True)\n"
     ]
    },
    {
     "name": "stdout",
     "output_type": "stream",
     "text": [
      "B-1\n",
      "{'context_recall': 0.7900}\n",
      "\n",
      "\n"
     ]
    },
    {
     "name": "stderr",
     "output_type": "stream",
     "text": [
      "Evaluating: 100%|██████████| 50/50 [00:23<00:00,  2.13it/s]\n"
     ]
    },
    {
     "name": "stdout",
     "output_type": "stream",
     "text": [
      "B-2\n",
      "{'context_recall': 0.7867}\n",
      "\n",
      "\n"
     ]
    },
    {
     "name": "stderr",
     "output_type": "stream",
     "text": [
      "Evaluating: 100%|██████████| 50/50 [01:14<00:00,  1.48s/it]\n"
     ]
    },
    {
     "name": "stdout",
     "output_type": "stream",
     "text": [
      "B-3\n",
      "{'context_recall': 0.8073}\n",
      "\n",
      "\n"
     ]
    },
    {
     "name": "stderr",
     "output_type": "stream",
     "text": [
      "Evaluating: 100%|██████████| 50/50 [00:09<00:00,  5.13it/s]\n"
     ]
    },
    {
     "name": "stdout",
     "output_type": "stream",
     "text": [
      "B-4\n",
      "{'context_recall': 0.8223}\n",
      "\n",
      "\n"
     ]
    },
    {
     "name": "stderr",
     "output_type": "stream",
     "text": [
      "Evaluating: 100%|██████████| 50/50 [00:59<00:00,  1.18s/it]\n"
     ]
    },
    {
     "name": "stdout",
     "output_type": "stream",
     "text": [
      "B-5\n",
      "{'context_recall': 0.8167}\n",
      "\n",
      "\n"
     ]
    },
    {
     "name": "stderr",
     "output_type": "stream",
     "text": [
      "Evaluating: 100%|██████████| 50/50 [00:35<00:00,  1.42it/s]\n"
     ]
    },
    {
     "name": "stdout",
     "output_type": "stream",
     "text": [
      "B-6\n",
      "{'context_recall': 0.8250}\n",
      "\n",
      "\n"
     ]
    },
    {
     "name": "stderr",
     "output_type": "stream",
     "text": [
      "Evaluating: 100%|██████████| 50/50 [01:06<00:00,  1.34s/it]\n"
     ]
    },
    {
     "name": "stdout",
     "output_type": "stream",
     "text": [
      "B-7\n",
      "{'context_recall': 0.7807}\n",
      "\n",
      "\n"
     ]
    },
    {
     "name": "stderr",
     "output_type": "stream",
     "text": [
      "Evaluating: 100%|██████████| 50/50 [00:12<00:00,  4.00it/s]\n"
     ]
    },
    {
     "name": "stdout",
     "output_type": "stream",
     "text": [
      "B-8\n",
      "{'context_recall': 0.7657}\n",
      "\n",
      "\n"
     ]
    },
    {
     "name": "stderr",
     "output_type": "stream",
     "text": [
      "Evaluating: 100%|██████████| 50/50 [00:55<00:00,  1.12s/it]\n"
     ]
    },
    {
     "name": "stdout",
     "output_type": "stream",
     "text": [
      "B-9\n",
      "{'context_recall': 0.7750}\n",
      "\n",
      "\n"
     ]
    },
    {
     "name": "stderr",
     "output_type": "stream",
     "text": [
      "Evaluating: 100%|██████████| 50/50 [00:35<00:00,  1.41it/s]\n"
     ]
    },
    {
     "name": "stdout",
     "output_type": "stream",
     "text": [
      "B-10\n",
      "{'context_recall': 0.7757}\n",
      "\n",
      "\n"
     ]
    },
    {
     "name": "stderr",
     "output_type": "stream",
     "text": [
      "Evaluating: 100%|██████████| 50/50 [00:40<00:00,  1.25it/s]\n"
     ]
    },
    {
     "name": "stdout",
     "output_type": "stream",
     "text": [
      "B-11\n",
      "{'context_recall': 0.7393}\n",
      "\n",
      "\n"
     ]
    },
    {
     "name": "stderr",
     "output_type": "stream",
     "text": [
      "Evaluating: 100%|██████████| 50/50 [00:48<00:00,  1.03it/s]\n"
     ]
    },
    {
     "name": "stdout",
     "output_type": "stream",
     "text": [
      "B-12\n",
      "{'context_recall': 0.7907}\n",
      "\n",
      "\n"
     ]
    },
    {
     "name": "stderr",
     "output_type": "stream",
     "text": [
      "Evaluating: 100%|██████████| 50/50 [00:57<00:00,  1.16s/it]\n"
     ]
    },
    {
     "name": "stdout",
     "output_type": "stream",
     "text": [
      "B-13\n",
      "{'context_recall': 0.8050}\n",
      "\n",
      "\n"
     ]
    },
    {
     "name": "stderr",
     "output_type": "stream",
     "text": [
      "Evaluating: 100%|██████████| 50/50 [00:23<00:00,  2.10it/s]\n"
     ]
    },
    {
     "name": "stdout",
     "output_type": "stream",
     "text": [
      "B-14\n",
      "{'context_recall': 0.7657}\n",
      "\n",
      "\n"
     ]
    },
    {
     "name": "stderr",
     "output_type": "stream",
     "text": [
      "Evaluating: 100%|██████████| 50/50 [00:42<00:00,  1.18it/s]\n"
     ]
    },
    {
     "name": "stdout",
     "output_type": "stream",
     "text": [
      "B-15\n",
      "{'context_recall': 0.7723}\n",
      "\n",
      "\n"
     ]
    }
   ],
   "source": [
    "df_result_gemma_B_justRecall = pd.DataFrame(columns=[\"model\", \"location\", \"context_recall\"])\n",
    "\n",
    "i=0\n",
    "while(i<len(output_names_gemma)):\n",
    "    sonuclar = pd.read_csv(output_names_gemma[i])\n",
    "    sonuclar['contexts'] = sonuclar['contexts'].apply(lambda x: [x])\n",
    "\n",
    "    dataset = Dataset.from_pandas(sonuclar)\n",
    "    result = evaluate(dataset,\n",
    "                  metrics=[\n",
    "                    context_recall],llm=evaluator_llm, embeddings=evaluator_embeddings)\n",
    "    \n",
    "\n",
    "    yeni_satir = pd.DataFrame({'model': [\"gemma2-9b-it\"], 'location': [location_B[i]], \n",
    "                    'context_recall': [round(pd.Series(result[\"context_recall\"]).mean(),4)]})\n",
    "\n",
    "    df_result_gemma_B_justRecall = pd.concat([df_result_gemma_B_justRecall, yeni_satir], ignore_index=True)\n",
    "\n",
    "    result.to_pandas().to_csv(\"RagasResult---\"+\"gemma2-9b-it\"+\"-\"+location_B[i]+\"justRecall.csv\", index=False)\n",
    "\n",
    "    print(location_B[i])\n",
    "    print(result)\n",
    "    print(\"\\n\")\n",
    "    i=i+1\n",
    "\n",
    "df_result_gemma_B_justRecall.to_csv(\"OverallResult---\"+\"gemma2-9b-it-for-question-B-justRecall.csv\", index=False)"
   ]
  },
  {
   "cell_type": "code",
   "execution_count": 84,
   "metadata": {},
   "outputs": [
    {
     "name": "stderr",
     "output_type": "stream",
     "text": [
      "Evaluating: 100%|██████████| 100/100 [00:45<00:00,  2.21it/s]\n"
     ]
    },
    {
     "name": "stdout",
     "output_type": "stream",
     "text": [
      "A-15\n",
      "{'context_recall': 0.8317}\n",
      "\n",
      "\n"
     ]
    },
    {
     "name": "stderr",
     "output_type": "stream",
     "text": [
      "C:\\Users\\gorke\\AppData\\Local\\Temp\\ipykernel_15516\\4058789372.py:17: FutureWarning: The behavior of DataFrame concatenation with empty or all-NA entries is deprecated. In a future version, this will no longer exclude empty or all-NA columns when determining the result dtypes. To retain the old behavior, exclude the relevant entries before the concat operation.\n",
      "  df_result_gemma_A = pd.concat([df_result_gemma_A, yeni_satir], ignore_index=True)\n"
     ]
    }
   ],
   "source": [
    "df_result_gemma_A = pd.DataFrame(columns=[\"model\", \"location\",\"context_recall\"])\n",
    "\n",
    "\n",
    "sonuclar = pd.read_csv(output_names_gemma_forA[3])\n",
    "sonuclar['contexts'] = sonuclar['contexts'].apply(lambda x: [x])\n",
    "\n",
    "\n",
    "dataset = Dataset.from_pandas(sonuclar)\n",
    "result = evaluate(dataset,\n",
    "                metrics=[\n",
    "    context_recall],llm=evaluator_llm, embeddings=evaluator_embeddings)\n",
    "\n",
    "\n",
    "yeni_satir = pd.DataFrame({'model': [\"gemma2-9b-it\"], 'location': [location_A[3]], \n",
    "                        'context_recall': [round(pd.Series(result[\"context_recall\"]).mean(),4)]})\n",
    "\n",
    "df_result_gemma_A = pd.concat([df_result_gemma_A, yeni_satir], ignore_index=True)\n",
    "\n",
    "result.to_pandas().to_csv(\"RagasResult---\"+\"gemma2-9b-it\"+\"-\"+location_A[3]+\".csv\", index=False)\n",
    "\n",
    "print(location_A[3])\n",
    "print(result)\n",
    "print(\"\\n\")\n",
    "\n",
    "df_result_gemma_A.to_csv(\"OverallResult---\"+\"gemma2-9b-it-for-question-A-justRecall15.csv\", index=False)"
   ]
  }
 ],
 "metadata": {
  "kernelspec": {
   "display_name": "odevler",
   "language": "python",
   "name": "python3"
  },
  "language_info": {
   "codemirror_mode": {
    "name": "ipython",
    "version": 3
   },
   "file_extension": ".py",
   "mimetype": "text/x-python",
   "name": "python",
   "nbconvert_exporter": "python",
   "pygments_lexer": "ipython3",
   "version": "3.12.7"
  }
 },
 "nbformat": 4,
 "nbformat_minor": 2
}
